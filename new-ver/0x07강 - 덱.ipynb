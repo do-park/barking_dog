{
 "cells": [
  {
   "cell_type": "code",
   "execution_count": null,
   "metadata": {},
   "outputs": [],
   "source": [
    "# 10866 덱"
   ]
  },
  {
   "cell_type": "code",
   "execution_count": null,
   "metadata": {},
   "outputs": [],
   "source": [
    "import sys\n",
    "from collections import deque\n",
    "\n",
    "deq = deque()\n",
    "for n in range(0, int(input())):\n",
    "    cmd = sys.stdin.readline().split()\n",
    "    if cmd[0] == 'push_front':\n",
    "        deq.appendleft(cmd[1])\n",
    "    elif cmd[0] == 'push_back':\n",
    "        deq.append(cmd[1])\n",
    "    elif cmd[0] == 'pop_front':\n",
    "        if deq:\n",
    "            print(deq.popleft())\n",
    "        else:\n",
    "            print(-1)\n",
    "    elif cmd[0] == 'pop_back':\n",
    "        if deq:\n",
    "            print(deq.pop())\n",
    "        else:\n",
    "            print(-1)\n",
    "    elif cmd[0] == 'size':\n",
    "        print(len(deq))\n",
    "    elif cmd[0] == 'empty':\n",
    "        if deq:\n",
    "            print(0)\n",
    "        else:\n",
    "            print(1)\n",
    "    elif cmd[0] == 'front':\n",
    "        if deq:\n",
    "            print(deq[0])\n",
    "        else:\n",
    "            print(-1)\n",
    "    elif cmd[0] == 'back':\n",
    "        if deq:\n",
    "            print(deq[-1])\n",
    "        else:\n",
    "            print(-1)"
   ]
  },
  {
   "cell_type": "code",
   "execution_count": null,
   "metadata": {},
   "outputs": [],
   "source": [
    "# 1021 회전하는 큐"
   ]
  },
  {
   "cell_type": "code",
   "execution_count": 1,
   "metadata": {},
   "outputs": [
    {
     "name": "stdout",
     "output_type": "stream",
     "text": [
      "32 6\n",
      "27 16 30 11 6 23\n",
      "59\n"
     ]
    }
   ],
   "source": [
    "def move(p, num):\n",
    "    right = 0\n",
    "    left = 0\n",
    "    while True:\n",
    "        if deq[p] == num:\n",
    "            left = len(deq) - right\n",
    "            break\n",
    "        else:\n",
    "            right += 1\n",
    "            p += 1\n",
    "    if right < left:\n",
    "        if len(deq) == 0:\n",
    "            return 0, right\n",
    "        return p, right\n",
    "    else:\n",
    "        if len(deq) == 0:\n",
    "            return 0, left\n",
    "        return p, left\n",
    "\n",
    "N, M = map(int, input().split())\n",
    "number = list(map(int, input().split()))\n",
    "deq = [n for n in range(1, N + 1)]\n",
    "result = 0\n",
    "for num in number:\n",
    "    pointer, count = move(0, num)\n",
    "    temp = deq[pointer + 1:] + deq[:pointer]\n",
    "    deq = temp\n",
    "    result += count\n",
    "print(result)"
   ]
  },
  {
   "cell_type": "code",
   "execution_count": null,
   "metadata": {},
   "outputs": [],
   "source": [
    "# 5430 AC"
   ]
  },
  {
   "cell_type": "code",
   "execution_count": 2,
   "metadata": {},
   "outputs": [
    {
     "name": "stdout",
     "output_type": "stream",
     "text": [
      "4\n",
      "RDD\n",
      "4\n",
      "[1,2,3,4]\n",
      "[2,1]\n",
      "DD\n",
      "1\n",
      "[42]\n",
      "error\n",
      "RRD\n",
      "6\n",
      "[1,1,2,3,5,8]\n",
      "[1,2,3,5,8]\n",
      "D\n",
      "0\n",
      "[]\n",
      "error\n"
     ]
    }
   ],
   "source": [
    "from collections import deque\n",
    "\n",
    "T = int(input())\n",
    "for tc in range(T):\n",
    "    P = list(map(str, input()))\n",
    "    N = int(input())\n",
    "    temp = list(map(str, input()))\n",
    "    arr = deque()\n",
    "    n = ''\n",
    "    for t in temp:\n",
    "        if t not in ['[', ']', ' ', ',']:\n",
    "            n += t\n",
    "        else:\n",
    "            if n:\n",
    "                arr.append(n)\n",
    "                n = ''\n",
    "    flag = 1\n",
    "    R = 0\n",
    "    for p in P:\n",
    "        if p == 'R':\n",
    "            if R:\n",
    "                R = 0\n",
    "            else:\n",
    "                R = 1\n",
    "        if p == 'D':\n",
    "            if arr:\n",
    "                if R:\n",
    "                    arr.pop()\n",
    "                else:\n",
    "                    arr.popleft()\n",
    "            else:\n",
    "                flag = 0\n",
    "                break\n",
    "    if flag:\n",
    "        if R:\n",
    "            arr.reverse()\n",
    "        print('[', end='')\n",
    "        print(*arr, sep=',', end='')\n",
    "        print(']')\n",
    "    else:\n",
    "        print('error')"
   ]
  }
 ],
 "metadata": {
  "kernelspec": {
   "display_name": "Python 3",
   "language": "python",
   "name": "python3"
  },
  "language_info": {
   "codemirror_mode": {
    "name": "ipython",
    "version": 3
   },
   "file_extension": ".py",
   "mimetype": "text/x-python",
   "name": "python",
   "nbconvert_exporter": "python",
   "pygments_lexer": "ipython3",
   "version": "3.7.4"
  }
 },
 "nbformat": 4,
 "nbformat_minor": 2
}
