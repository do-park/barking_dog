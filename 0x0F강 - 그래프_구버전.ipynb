{
 "cells": [
  {
   "cell_type": "code",
   "execution_count": null,
   "metadata": {},
   "outputs": [],
   "source": [
    "# 11724 연결 요소의 개수"
   ]
  },
  {
   "cell_type": "code",
   "execution_count": 1,
   "metadata": {},
   "outputs": [
    {
     "name": "stdout",
     "output_type": "stream",
     "text": [
      "6 5\n",
      "1 2\n",
      "2 5\n",
      "5 1\n",
      "3 4\n",
      "4 6\n",
      "2\n"
     ]
    }
   ],
   "source": [
    "from collections import deque\n",
    "\n",
    "N, M = map(int, input().split())\n",
    "adj = [[] for _ in range(N + 1)]\n",
    "visited = [0] * (N + 1)\n",
    "for m in range(M):\n",
    "    u, v = map(int, input().split())\n",
    "    adj[u].append(v)\n",
    "    adj[v].append(u)\n",
    "Q = deque()\n",
    "result = 0\n",
    "while sum(visited) != N:\n",
    "    for i in range(1, N + 1):\n",
    "        if not visited[i]:\n",
    "            Q.append(i)\n",
    "            visited[i] = 1\n",
    "            result += 1\n",
    "            break\n",
    "    while Q:\n",
    "        x = Q.popleft()\n",
    "        for y in adj[x]:\n",
    "            if not visited[y]:\n",
    "                Q.append(y)\n",
    "                visited[y] = 1\n",
    "print(result)"
   ]
  },
  {
   "cell_type": "code",
   "execution_count": null,
   "metadata": {},
   "outputs": [],
   "source": [
    "# 1260 DFS와 BFS"
   ]
  },
  {
   "cell_type": "code",
   "execution_count": 2,
   "metadata": {},
   "outputs": [
    {
     "name": "stdout",
     "output_type": "stream",
     "text": [
      "4 5 1\n",
      "1 2\n",
      "1 3\n",
      "1 4\n",
      "2 4\n",
      "3 4\n",
      "1 2 4 3 \n",
      "1 2 3 4 "
     ]
    }
   ],
   "source": [
    "import collections\n",
    "\n",
    "N, M, V = list(map(int, input().split()))\n",
    "adjacent = [[False] * (N + 1) for _ in range(N + 1)]\n",
    "\n",
    "for m in range(0, M):\n",
    "    a, b = map(int, input().split())\n",
    "    adjacent[a][b] = True\n",
    "    adjacent[b][a] = True\n",
    "\n",
    "# DFS\n",
    "stack = []\n",
    "visited = [False] * (N + 1)\n",
    "\n",
    "visited[V] = True\n",
    "print(V, end=' ')\n",
    "for i in range(N, 0, -1):\n",
    "    if adjacent[V][i] == True:\n",
    "        stack.append(i)\n",
    "\n",
    "while stack:\n",
    "    x = stack.pop()\n",
    "    if visited[x] != True:\n",
    "        visited[x] = True\n",
    "        print(x, end=' ')\n",
    "        for i in range(N, 0, -1):\n",
    "            if adjacent[x][i] == True:\n",
    "                stack.append(i)\n",
    "print()\n",
    "\n",
    "# BFS\n",
    "queue = collections.deque()\n",
    "visited = [False] * (N + 1)\n",
    "\n",
    "visited[V] = True\n",
    "print(V, end=' ')\n",
    "for i in range(0, N + 1):\n",
    "    if adjacent[V][i] == True:\n",
    "        queue.append(i)\n",
    "\n",
    "while queue:\n",
    "    x = queue.popleft()\n",
    "    if visited[x] != True:\n",
    "        visited[x] = True\n",
    "        print(x, end=' ')\n",
    "        for i in range(0, N + 1):\n",
    "            if adjacent[x][i] == True:\n",
    "                queue.append(i)"
   ]
  },
  {
   "cell_type": "code",
   "execution_count": null,
   "metadata": {},
   "outputs": [],
   "source": [
    "# 2606 바이러스"
   ]
  },
  {
   "cell_type": "code",
   "execution_count": 3,
   "metadata": {},
   "outputs": [
    {
     "name": "stdout",
     "output_type": "stream",
     "text": [
      "7\n",
      "6\n",
      "1 2\n",
      "2 3\n",
      "1 5\n",
      "5 2\n",
      "5 6\n",
      "4 7\n",
      "4\n"
     ]
    }
   ],
   "source": [
    "N = int(input())\n",
    "computer = [[0] * (N + 1) for _ in range(N + 1)]\n",
    "visited = [0] * (N + 1)\n",
    "\n",
    "M = int(input())\n",
    "for m in range(0, M):\n",
    "    A, B = map(int, input().split())\n",
    "    computer[A][B] = 1\n",
    "    computer[B][A] = 1\n",
    "\n",
    "stack = [1]\n",
    "\n",
    "while True:\n",
    "    now = stack[-1]\n",
    "    visited[now] = 1\n",
    "    stack.pop()\n",
    "    for i in range(0, N + 1):\n",
    "        if (computer[now][i] == 1) and (i not in stack) and (visited[i] == 0):\n",
    "            stack.append(i)\n",
    "\n",
    "    if not stack:\n",
    "        break\n",
    "\n",
    "print(sum(visited) - 1)"
   ]
  },
  {
   "cell_type": "code",
   "execution_count": null,
   "metadata": {},
   "outputs": [],
   "source": [
    "# 5567 결혼식"
   ]
  },
  {
   "cell_type": "code",
   "execution_count": 4,
   "metadata": {},
   "outputs": [
    {
     "name": "stdout",
     "output_type": "stream",
     "text": [
      "6\n",
      "5\n",
      "1 2\n",
      "1 3\n",
      "3 4\n",
      "2 3\n",
      "4 5\n",
      "3\n"
     ]
    }
   ],
   "source": [
    "from collections import deque\n",
    "\n",
    "N = int(input())\n",
    "M = int(input())\n",
    "adj = [[0] * (N + 1) for _ in range(N + 1)]\n",
    "visited = [0] * (N + 1)\n",
    "for m in range(M):\n",
    "    a, b = map(int, input().split())\n",
    "    adj[a][b] = adj[b][a] = 1\n",
    "Q = deque()\n",
    "visited[1] = 1\n",
    "result = 0\n",
    "for i in range(N + 1):\n",
    "    if adj[1][i] and not visited[i]:\n",
    "        Q.append(i)\n",
    "        visited[i] = 1\n",
    "        result += 1\n",
    "while Q:\n",
    "    x = Q.popleft()\n",
    "    for i in range(2, N + 1):\n",
    "        if adj[x][i] and not visited[i]:\n",
    "            visited[i] = 1\n",
    "            result += 1\n",
    "print(result)"
   ]
  },
  {
   "cell_type": "code",
   "execution_count": null,
   "metadata": {},
   "outputs": [],
   "source": [
    "# 6118 숨바꼭질"
   ]
  },
  {
   "cell_type": "code",
   "execution_count": 5,
   "metadata": {},
   "outputs": [
    {
     "name": "stdout",
     "output_type": "stream",
     "text": [
      "6 7\n",
      "3 6\n",
      "4 3\n",
      "3 2\n",
      "1 3\n",
      "1 2\n",
      "2 4\n",
      "5 2\n",
      "4 2 3\n"
     ]
    }
   ],
   "source": [
    "from collections import deque\n",
    "\n",
    "N, M = map(int, input().split())\n",
    "adj = [[] for _ in range(N + 1)]\n",
    "visited = [0] * (N + 1)\n",
    "for m in range(M):\n",
    "    a, b = map(int, input().split())\n",
    "    adj[a].append(b)\n",
    "    adj[b].append(a)\n",
    "Q = deque()\n",
    "Q.append(1)\n",
    "visited[1] = 1\n",
    "while Q:\n",
    "    tQ = deque()\n",
    "    pick = N + 1\n",
    "    others = len(Q)\n",
    "    while Q:\n",
    "        x = Q.popleft()\n",
    "        if pick > x:\n",
    "            pick = x\n",
    "        for i in adj[x]:\n",
    "            if not visited[i]:\n",
    "                tQ.append(i)\n",
    "                visited[i] = visited[x] + 1\n",
    "    Q = tQ\n",
    "print(pick, visited[pick] - 1, others)"
   ]
  },
  {
   "cell_type": "code",
   "execution_count": null,
   "metadata": {},
   "outputs": [],
   "source": [
    "# 5214 환승"
   ]
  },
  {
   "cell_type": "code",
   "execution_count": null,
   "metadata": {},
   "outputs": [],
   "source": []
  },
  {
   "cell_type": "code",
   "execution_count": null,
   "metadata": {},
   "outputs": [],
   "source": [
    "# 1043 거짓말"
   ]
  },
  {
   "cell_type": "code",
   "execution_count": null,
   "metadata": {},
   "outputs": [],
   "source": []
  }
 ],
 "metadata": {
  "kernelspec": {
   "display_name": "Python 3",
   "language": "python",
   "name": "python3"
  },
  "language_info": {
   "codemirror_mode": {
    "name": "ipython",
    "version": 3
   },
   "file_extension": ".py",
   "mimetype": "text/x-python",
   "name": "python",
   "nbconvert_exporter": "python",
   "pygments_lexer": "ipython3",
   "version": "3.7.4"
  }
 },
 "nbformat": 4,
 "nbformat_minor": 2
}
