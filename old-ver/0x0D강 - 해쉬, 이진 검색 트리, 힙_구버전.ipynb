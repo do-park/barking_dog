{
 "cells": [
  {
   "cell_type": "code",
   "execution_count": null,
   "metadata": {
    "collapsed": true
   },
   "outputs": [],
   "source": [
    "# 1927 최소 힙"
   ]
  },
  {
   "cell_type": "code",
   "execution_count": null,
   "metadata": {
    "collapsed": true
   },
   "outputs": [],
   "source": [
    "import sys\n",
    "from heapq import heappop, heappush\n",
    "\n",
    "N = int(sys.stdin.readline())\n",
    "heap = []\n",
    "for tc in range(N):\n",
    "    x = int(sys.stdin.readline())\n",
    "    if x == 0:\n",
    "        if heap:\n",
    "            print(heappop(heap))\n",
    "        else:\n",
    "            print(0)\n",
    "    else:\n",
    "        heappush(heap, x)"
   ]
  },
  {
   "cell_type": "code",
   "execution_count": null,
   "metadata": {
    "collapsed": true
   },
   "outputs": [],
   "source": [
    "# 11279 최대 힙"
   ]
  },
  {
   "cell_type": "code",
   "execution_count": null,
   "metadata": {
    "collapsed": true
   },
   "outputs": [],
   "source": [
    "import sys\n",
    "from heapq import heappop, heappush\n",
    "\n",
    "N = int(sys.stdin.readline())\n",
    "heap = []\n",
    "for tc in range(N):\n",
    "    x = int(sys.stdin.readline())\n",
    "    if x == 0:\n",
    "        if heap:\n",
    "            print(-heappop(heap))\n",
    "        else:\n",
    "            print(0)\n",
    "    else:\n",
    "        heappush(heap, -x)"
   ]
  },
  {
   "cell_type": "code",
   "execution_count": null,
   "metadata": {
    "collapsed": true
   },
   "outputs": [],
   "source": [
    "# 1764 듣보잡"
   ]
  },
  {
   "cell_type": "code",
   "execution_count": null,
   "metadata": {
    "collapsed": true
   },
   "outputs": [],
   "source": [
    "import sys\n",
    "\n",
    "N, M = map(int, input().split())\n",
    "Nlist = [sys.stdin.readline().strip() for _ in range(N)]\n",
    "Mlist = [sys.stdin.readline().strip() for _ in range(M)]\n",
    "intersection = list(set(Nlist) & set(Mlist))\n",
    "intersection.sort()\n",
    "print(len(intersection))\n",
    "for i in intersection:\n",
    "    print(i)"
   ]
  },
  {
   "cell_type": "code",
   "execution_count": null,
   "metadata": {
    "collapsed": true
   },
   "outputs": [],
   "source": [
    "# 7785 회사에 있는 사람"
   ]
  },
  {
   "cell_type": "code",
   "execution_count": null,
   "metadata": {
    "collapsed": true
   },
   "outputs": [],
   "source": []
  }
 ],
 "metadata": {
  "kernelspec": {
   "display_name": "Python 3",
   "language": "python",
   "name": "python3"
  },
  "language_info": {
   "codemirror_mode": {
    "name": "ipython",
    "version": 3
   },
   "file_extension": ".py",
   "mimetype": "text/x-python",
   "name": "python",
   "nbconvert_exporter": "python",
   "pygments_lexer": "ipython3",
   "version": "3.8.2"
  }
 },
 "nbformat": 4,
 "nbformat_minor": 4
}
