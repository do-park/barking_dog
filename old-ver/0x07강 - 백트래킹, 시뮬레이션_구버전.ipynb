{
 "cells": [
  {
   "cell_type": "code",
   "execution_count": null,
   "metadata": {},
   "outputs": [],
   "source": [
    "# 15649 N과 M(1)"
   ]
  },
  {
   "cell_type": "code",
   "execution_count": 17,
   "metadata": {},
   "outputs": [
    {
     "name": "stdout",
     "output_type": "stream",
     "text": [
      "4 2\n",
      "1 2 \n",
      "1 3 \n",
      "1 4 \n",
      "2 1 \n",
      "2 3 \n",
      "2 4 \n",
      "3 1 \n",
      "3 2 \n",
      "3 4 \n",
      "4 1 \n",
      "4 2 \n",
      "4 3 \n"
     ]
    }
   ],
   "source": [
    "def func(arr, isused, k=0):\n",
    "    if k == M:\n",
    "        for m in range(M):\n",
    "            print(arr[m] + 1, end=' ')\n",
    "        print()\n",
    "        return\n",
    "    for n in range(N):\n",
    "        if not isused[n]:\n",
    "            arr[k] = n\n",
    "            isused[n] = True\n",
    "            func(arr, isused, k+1)\n",
    "            isused[n] = False\n",
    "\n",
    "N, M = map(int, input().split())\n",
    "arr = [0] * N\n",
    "isused = [False] * N\n",
    "func(arr, isused, 0)"
   ]
  },
  {
   "cell_type": "code",
   "execution_count": null,
   "metadata": {},
   "outputs": [],
   "source": [
    "# 15650 N과 M(2)"
   ]
  },
  {
   "cell_type": "code",
   "execution_count": 16,
   "metadata": {},
   "outputs": [
    {
     "name": "stdout",
     "output_type": "stream",
     "text": [
      "4 2\n",
      "1 2 \n",
      "1 3 \n",
      "1 4 \n",
      "2 3 \n",
      "2 4 \n",
      "3 4 \n"
     ]
    }
   ],
   "source": [
    "def func(arr, isused, start=0, k=0):\n",
    "    if k == M:\n",
    "        for m in range(M):\n",
    "            print(arr[m] + 1, end=' ')\n",
    "        print()\n",
    "        return\n",
    "    for n in range(start, N):\n",
    "        if not isused[n]:\n",
    "            arr[k] = n\n",
    "            isused[n] = True\n",
    "            func(arr, isused, n+1, k +1)\n",
    "            isused[n] = False\n",
    "\n",
    "N, M = map(int, input().split())\n",
    "arr = [0] * M\n",
    "isused = [False] * N\n",
    "func(arr, isused)"
   ]
  },
  {
   "cell_type": "code",
   "execution_count": null,
   "metadata": {},
   "outputs": [],
   "source": [
    "# 15651 N과 M(3)"
   ]
  },
  {
   "cell_type": "code",
   "execution_count": 15,
   "metadata": {},
   "outputs": [
    {
     "name": "stdout",
     "output_type": "stream",
     "text": [
      "4 2\n",
      "1 1 \n",
      "1 2 \n",
      "1 3 \n",
      "1 4 \n",
      "2 1 \n",
      "2 2 \n",
      "2 3 \n",
      "2 4 \n",
      "3 1 \n",
      "3 2 \n",
      "3 3 \n",
      "3 4 \n",
      "4 1 \n",
      "4 2 \n",
      "4 3 \n",
      "4 4 \n"
     ]
    }
   ],
   "source": [
    "def func(arr, k=0):\n",
    "    if k == M:\n",
    "        for m in range(M):\n",
    "            print(arr[m] + 1, end=' ')\n",
    "        print()\n",
    "        return\n",
    "    for n in range(N):\n",
    "        arr[k] = n\n",
    "        func(arr, k+1)\n",
    "\n",
    "N, M = map(int, input().split())\n",
    "arr = [0] * N\n",
    "func(arr, 0)"
   ]
  },
  {
   "cell_type": "code",
   "execution_count": null,
   "metadata": {},
   "outputs": [],
   "source": [
    "# 15652 N과 M(4)"
   ]
  },
  {
   "cell_type": "code",
   "execution_count": 14,
   "metadata": {},
   "outputs": [
    {
     "name": "stdout",
     "output_type": "stream",
     "text": [
      "4 2 \n",
      "1 1\n",
      "1 2\n",
      "1 3\n",
      "1 4\n",
      "2 2\n",
      "2 3\n",
      "2 4\n",
      "3 3\n",
      "3 4\n",
      "4 4\n"
     ]
    }
   ],
   "source": [
    "def func(n, m, k, l):\n",
    "    if n == k:\n",
    "        print(*result)\n",
    "        return\n",
    "    else:\n",
    "        for i in range(m):\n",
    "            if arr[i] >= l:\n",
    "                isused[i] = True\n",
    "                l = arr[i]\n",
    "                result[n] = arr[i]\n",
    "                func(n+1, m, k, l)\n",
    "                isused[i] = 0\n",
    "\n",
    "N, M = map(int, input().split())\n",
    "arr = range(1, N + 1)\n",
    "isused = [False] * N\n",
    "result = [0] * M\n",
    "func(0, N, M, 0)"
   ]
  },
  {
   "cell_type": "code",
   "execution_count": null,
   "metadata": {},
   "outputs": [],
   "source": [
    "# 15654 N과 M(5)"
   ]
  },
  {
   "cell_type": "code",
   "execution_count": 13,
   "metadata": {},
   "outputs": [
    {
     "name": "stdout",
     "output_type": "stream",
     "text": [
      "4 2\n",
      "9 8 7 1\n",
      "1 7\n",
      "1 8\n",
      "1 9\n",
      "7 1\n",
      "7 8\n",
      "7 9\n",
      "8 1\n",
      "8 7\n",
      "8 9\n",
      "9 1\n",
      "9 7\n",
      "9 8\n"
     ]
    }
   ],
   "source": [
    "def dfs(k = 0):\n",
    "    if k == M:\n",
    "        print(' '.join(map(str, result)))\n",
    "        return\n",
    "    for n in range(N):\n",
    "        if not isused[n]:\n",
    "            isused[n] = True\n",
    "            result.append(arr[n])\n",
    "            dfs(k + 1)\n",
    "            isused[n] = False\n",
    "            result.pop()\n",
    "\n",
    "\n",
    "N, M = map(int, input().split())\n",
    "arr = list(map(int, input().split()))\n",
    "arr.sort()\n",
    "isused = [False] * N\n",
    "result = []\n",
    "dfs()"
   ]
  },
  {
   "cell_type": "code",
   "execution_count": null,
   "metadata": {},
   "outputs": [],
   "source": [
    "# 15655 N과 M(6)"
   ]
  },
  {
   "cell_type": "code",
   "execution_count": 12,
   "metadata": {},
   "outputs": [
    {
     "name": "stdout",
     "output_type": "stream",
     "text": [
      "4 2\n",
      "9 8 7 1\n",
      "1 7\n",
      "1 8\n",
      "1 9\n",
      "7 8\n",
      "7 9\n",
      "8 9\n"
     ]
    }
   ],
   "source": [
    "def dfs(start=0, k = 0):\n",
    "    if k == M:\n",
    "        print(' '.join(map(str, result)))\n",
    "        return\n",
    "    for n in range(start, N):\n",
    "        if not isused[n]:\n",
    "            isused[n] = True\n",
    "            result.append(arr[n])\n",
    "            dfs(n + 1, k + 1)\n",
    "            isused[n] = False\n",
    "            result.pop()\n",
    "\n",
    "\n",
    "N, M = map(int, input().split())\n",
    "arr = list(map(int, input().split()))\n",
    "arr.sort()\n",
    "isused = [False] * N\n",
    "result = []\n",
    "dfs()"
   ]
  },
  {
   "cell_type": "code",
   "execution_count": null,
   "metadata": {},
   "outputs": [],
   "source": [
    "# 15656 N과 M(7)"
   ]
  },
  {
   "cell_type": "code",
   "execution_count": 11,
   "metadata": {},
   "outputs": [
    {
     "name": "stdout",
     "output_type": "stream",
     "text": [
      "4 2\n",
      "9 8 7 1\n",
      "1 1\n",
      "1 7\n",
      "1 8\n",
      "1 9\n",
      "7 1\n",
      "7 7\n",
      "7 8\n",
      "7 9\n",
      "8 1\n",
      "8 7\n",
      "8 8\n",
      "8 9\n",
      "9 1\n",
      "9 7\n",
      "9 8\n",
      "9 9\n"
     ]
    }
   ],
   "source": [
    "def dfs(k=0):\n",
    "    if k == M:\n",
    "        print(' '.join(map(str, result)))\n",
    "        return\n",
    "    for i in range(N):\n",
    "        result.append(numbers[i])\n",
    "        dfs(k + 1)\n",
    "        result.pop()\n",
    "\n",
    "N, M = map(int, input().split())\n",
    "numbers = list(map(int, input().split()))\n",
    "numbers.sort()\n",
    "result = []\n",
    "dfs();"
   ]
  },
  {
   "cell_type": "code",
   "execution_count": null,
   "metadata": {},
   "outputs": [],
   "source": [
    "# 15657 N과 M(8)"
   ]
  },
  {
   "cell_type": "code",
   "execution_count": 10,
   "metadata": {},
   "outputs": [
    {
     "name": "stdout",
     "output_type": "stream",
     "text": [
      "4 2\n",
      "9 8 7 1\n",
      "1 1\n",
      "1 7\n",
      "1 8\n",
      "1 9\n",
      "7 7\n",
      "7 8\n",
      "7 9\n",
      "8 8\n",
      "8 9\n",
      "9 9\n"
     ]
    }
   ],
   "source": [
    "def dfs(start=0, k=0):\n",
    "    if k == M:\n",
    "        print(' '.join(map(str, result)))\n",
    "        return\n",
    "    for i in range(start, N):\n",
    "        result.append(numbers[i])\n",
    "        dfs(i, k + 1)\n",
    "        result.pop()\n",
    "\n",
    "N, M = map(int, input().split())\n",
    "numbers = list(map(int, input().split()))\n",
    "numbers.sort()\n",
    "result = []\n",
    "dfs();"
   ]
  },
  {
   "cell_type": "code",
   "execution_count": null,
   "metadata": {},
   "outputs": [],
   "source": [
    "# 15663 N과 M(9)"
   ]
  },
  {
   "cell_type": "code",
   "execution_count": null,
   "metadata": {},
   "outputs": [],
   "source": []
  },
  {
   "cell_type": "code",
   "execution_count": null,
   "metadata": {},
   "outputs": [],
   "source": [
    "# 15664 N과 M(10)"
   ]
  },
  {
   "cell_type": "code",
   "execution_count": null,
   "metadata": {},
   "outputs": [],
   "source": []
  },
  {
   "cell_type": "code",
   "execution_count": null,
   "metadata": {},
   "outputs": [],
   "source": [
    "# 15665 N과 M(11)"
   ]
  },
  {
   "cell_type": "code",
   "execution_count": null,
   "metadata": {},
   "outputs": [],
   "source": []
  },
  {
   "cell_type": "code",
   "execution_count": null,
   "metadata": {},
   "outputs": [],
   "source": [
    "# 15666 N과 M(12)"
   ]
  },
  {
   "cell_type": "code",
   "execution_count": null,
   "metadata": {},
   "outputs": [],
   "source": []
  },
  {
   "cell_type": "code",
   "execution_count": null,
   "metadata": {},
   "outputs": [],
   "source": [
    "# 9663 N-Queen"
   ]
  },
  {
   "cell_type": "code",
   "execution_count": 9,
   "metadata": {},
   "outputs": [
    {
     "name": "stdout",
     "output_type": "stream",
     "text": [
      "8\n",
      "92\n"
     ]
    }
   ],
   "source": [
    "def dfs(x):\n",
    "    global result\n",
    "\n",
    "    if x == N:\n",
    "        result += 1\n",
    "    else:\n",
    "        for y in range(N):\n",
    "            if not (a[y] or b[x + y] or c[x - y + N - 1]):\n",
    "                a[y] = b[x + y] = c[x - y + N - 1] = True\n",
    "                dfs(x + 1)\n",
    "                a[y] = b[x + y] = c[x - y + N - 1] = False\n",
    "\n",
    "N = int(input())\n",
    "a = [False] * N\n",
    "b = [False] * (2 * N - 1)   # 대각선 /: X + Y\n",
    "c = [False] * (2 * N - 1)   # 대각선 \\: X - Y + N - 1\n",
    "result = 0\n",
    "dfs(0)\n",
    "print(result)"
   ]
  },
  {
   "cell_type": "code",
   "execution_count": null,
   "metadata": {},
   "outputs": [],
   "source": [
    "# 6603 로또"
   ]
  },
  {
   "cell_type": "code",
   "execution_count": 8,
   "metadata": {},
   "outputs": [
    {
     "name": "stdout",
     "output_type": "stream",
     "text": [
      "7 1 2 3 4 5 6 7\n",
      "1 2 3 4 5 6\n",
      "1 2 3 4 5 7\n",
      "1 2 3 4 6 7\n",
      "1 2 3 5 6 7\n",
      "1 2 4 5 6 7\n",
      "1 3 4 5 6 7\n",
      "2 3 4 5 6 7\n",
      "\n",
      "8 1 2 3 5 8 13 21 34\n",
      "1 2 3 5 8 13\n",
      "1 2 3 5 8 21\n",
      "1 2 3 5 8 34\n",
      "1 2 3 5 13 21\n",
      "1 2 3 5 13 34\n",
      "1 2 3 5 21 34\n",
      "1 2 3 8 13 21\n",
      "1 2 3 8 13 34\n",
      "1 2 3 8 21 34\n",
      "1 2 3 13 21 34\n",
      "1 2 5 8 13 21\n",
      "1 2 5 8 13 34\n",
      "1 2 5 8 21 34\n",
      "1 2 5 13 21 34\n",
      "1 2 8 13 21 34\n",
      "1 3 5 8 13 21\n",
      "1 3 5 8 13 34\n",
      "1 3 5 8 21 34\n",
      "1 3 5 13 21 34\n",
      "1 3 8 13 21 34\n",
      "1 5 8 13 21 34\n",
      "2 3 5 8 13 21\n",
      "2 3 5 8 13 34\n",
      "2 3 5 8 21 34\n",
      "2 3 5 13 21 34\n",
      "2 3 8 13 21 34\n",
      "2 5 8 13 21 34\n",
      "3 5 8 13 21 34\n",
      "\n",
      "0\n"
     ]
    }
   ],
   "source": [
    "def lotto(start=1, depth=0):\n",
    "    if depth == 6:\n",
    "        for d in range(6):\n",
    "            print(*result)\n",
    "            return\n",
    "    for i in range(start, len(numbers)):\n",
    "        result[depth] = numbers[i]\n",
    "        lotto(i + 1, depth + 1)\n",
    "        result[depth] = 0\n",
    "\n",
    "while True:\n",
    "    numbers = list(map(int, input().split()))\n",
    "    if not numbers[0]:\n",
    "        break\n",
    "    result = [0] * 6\n",
    "    lotto()\n",
    "    print()"
   ]
  },
  {
   "cell_type": "code",
   "execution_count": null,
   "metadata": {},
   "outputs": [],
   "source": [
    "# 1759 암호 만들기"
   ]
  },
  {
   "cell_type": "code",
   "execution_count": null,
   "metadata": {},
   "outputs": [],
   "source": []
  },
  {
   "cell_type": "code",
   "execution_count": null,
   "metadata": {},
   "outputs": [],
   "source": [
    "# 1799 비숍"
   ]
  },
  {
   "cell_type": "code",
   "execution_count": null,
   "metadata": {},
   "outputs": [],
   "source": []
  },
  {
   "cell_type": "code",
   "execution_count": null,
   "metadata": {},
   "outputs": [],
   "source": [
    "# 1182 부분수열의 합"
   ]
  },
  {
   "cell_type": "code",
   "execution_count": 1,
   "metadata": {},
   "outputs": [
    {
     "name": "stdout",
     "output_type": "stream",
     "text": [
      "5 0\n",
      "-7 -3 -2 5 8\n",
      "1\n"
     ]
    }
   ],
   "source": [
    "def func(depth, start=0, d=0, res=0):\n",
    "    global answer\n",
    "    if depth == d:\n",
    "        if res == S:\n",
    "            answer += 1\n",
    "        return\n",
    "    for i in range(start, N):\n",
    "        res += numbers[i]\n",
    "        func(depth, i + 1, d + 1, res)\n",
    "        res -= numbers[i]\n",
    "\n",
    "N, S = map(int, input().split())\n",
    "numbers = list(map(int, input().split()))\n",
    "answer = 0\n",
    "for n in range(N):\n",
    "    func(n + 1)\n",
    "print(answer)"
   ]
  },
  {
   "cell_type": "code",
   "execution_count": null,
   "metadata": {},
   "outputs": [],
   "source": [
    "# 1547 공"
   ]
  },
  {
   "cell_type": "code",
   "execution_count": 7,
   "metadata": {},
   "outputs": [
    {
     "name": "stdout",
     "output_type": "stream",
     "text": [
      "4\n",
      "3 1\n",
      "2 3\n",
      "3 1\n",
      "3 2\n",
      "3\n"
     ]
    }
   ],
   "source": [
    "M = int(input())\n",
    "cups = [0, 1, 0, 0]\n",
    "for m in range(M):\n",
    "    a, b = map(int, input().split())\n",
    "    cups[a], cups[b] = cups[b], cups[a]\n",
    "for i in range(1, 4):\n",
    "    if cups[i]:\n",
    "        print(i)"
   ]
  },
  {
   "cell_type": "code",
   "execution_count": null,
   "metadata": {},
   "outputs": [],
   "source": [
    "# 14499 주사위 굴리기"
   ]
  },
  {
   "cell_type": "code",
   "execution_count": null,
   "metadata": {},
   "outputs": [],
   "source": []
  },
  {
   "cell_type": "code",
   "execution_count": null,
   "metadata": {},
   "outputs": [],
   "source": [
    "# 13335 트럭"
   ]
  },
  {
   "cell_type": "code",
   "execution_count": null,
   "metadata": {},
   "outputs": [],
   "source": []
  },
  {
   "cell_type": "code",
   "execution_count": null,
   "metadata": {},
   "outputs": [],
   "source": [
    "# 11559 Puyo Puyo"
   ]
  },
  {
   "cell_type": "code",
   "execution_count": null,
   "metadata": {},
   "outputs": [],
   "source": []
  },
  {
   "cell_type": "code",
   "execution_count": null,
   "metadata": {},
   "outputs": [],
   "source": [
    "# 14891 톱니바퀴"
   ]
  },
  {
   "cell_type": "code",
   "execution_count": 6,
   "metadata": {},
   "outputs": [
    {
     "name": "stdout",
     "output_type": "stream",
     "text": [
      "11111111\n",
      "11111111\n",
      "11111111\n",
      "11111111\n",
      "3\n",
      "1 1\n",
      "2 1\n",
      "3 1\n",
      "15\n"
     ]
    }
   ],
   "source": [
    "def turn(idx, dir):\n",
    "    if idx > 0: # 왼쪽에 영향\n",
    "        if not visited[idx - 1] and gears[idx - 1][2] != gears[idx][6]:\n",
    "            visited[idx - 1] = 1\n",
    "            turn(idx - 1, - 1 * dir)\n",
    "    if idx < 3: # 오른쪽에 영향\n",
    "        if not visited[idx + 1] and gears[idx][2] != gears[idx + 1][6]:\n",
    "            visited[idx + 1] = 1\n",
    "            turn(idx + 1, - 1 * dir)\n",
    "    if dir == -1:   # 반시계\n",
    "        temp = gears[idx][1:] + gears[idx][0]\n",
    "        gears[idx] = temp\n",
    "    else:\n",
    "        temp = gears[idx][-1] + gears[idx][0:-1]\n",
    "        gears[idx] = temp\n",
    "\n",
    "\n",
    "gears = [input() for _ in range(4)]\n",
    "K = int(input())\n",
    "for k in range(K):\n",
    "    idx, dir = map(int, input().split())\n",
    "    visited = [0] * 4\n",
    "    visited[idx - 1] = 1\n",
    "    turn(idx - 1, dir)\n",
    "result = 0\n",
    "for i in range(4):\n",
    "    if gears[i][0] == '1':\n",
    "        result += 2 ** i\n",
    "print(result)"
   ]
  },
  {
   "cell_type": "code",
   "execution_count": null,
   "metadata": {},
   "outputs": [],
   "source": [
    "# 1941 소문난 칠공주"
   ]
  },
  {
   "cell_type": "code",
   "execution_count": null,
   "metadata": {},
   "outputs": [],
   "source": []
  },
  {
   "cell_type": "code",
   "execution_count": null,
   "metadata": {},
   "outputs": [],
   "source": [
    "# 1019 책 페이지"
   ]
  },
  {
   "cell_type": "code",
   "execution_count": null,
   "metadata": {},
   "outputs": [],
   "source": []
  },
  {
   "cell_type": "code",
   "execution_count": null,
   "metadata": {},
   "outputs": [],
   "source": [
    "# 1722 순열의 순서"
   ]
  },
  {
   "cell_type": "code",
   "execution_count": null,
   "metadata": {},
   "outputs": [],
   "source": []
  },
  {
   "cell_type": "code",
   "execution_count": null,
   "metadata": {},
   "outputs": [],
   "source": [
    "# 15898 피아의 아틀리에~신비한 대회의 연금술사~"
   ]
  },
  {
   "cell_type": "code",
   "execution_count": null,
   "metadata": {},
   "outputs": [],
   "source": []
  },
  {
   "cell_type": "code",
   "execution_count": null,
   "metadata": {},
   "outputs": [],
   "source": [
    "# 14503 로봇 청소기"
   ]
  },
  {
   "cell_type": "code",
   "execution_count": null,
   "metadata": {},
   "outputs": [],
   "source": []
  },
  {
   "cell_type": "code",
   "execution_count": null,
   "metadata": {},
   "outputs": [],
   "source": [
    "# 13460 구슬 탈출 2"
   ]
  },
  {
   "cell_type": "code",
   "execution_count": null,
   "metadata": {},
   "outputs": [],
   "source": []
  },
  {
   "cell_type": "code",
   "execution_count": null,
   "metadata": {},
   "outputs": [],
   "source": [
    "# 12100 2048(Easy)"
   ]
  },
  {
   "cell_type": "code",
   "execution_count": null,
   "metadata": {},
   "outputs": [],
   "source": []
  },
  {
   "cell_type": "code",
   "execution_count": null,
   "metadata": {},
   "outputs": [],
   "source": [
    "# 3190 뱀"
   ]
  },
  {
   "cell_type": "code",
   "execution_count": null,
   "metadata": {},
   "outputs": [],
   "source": []
  },
  {
   "cell_type": "code",
   "execution_count": null,
   "metadata": {},
   "outputs": [],
   "source": [
    "# 14500 테트리미노"
   ]
  },
  {
   "cell_type": "code",
   "execution_count": 5,
   "metadata": {},
   "outputs": [
    {
     "name": "stdout",
     "output_type": "stream",
     "text": [
      "5 5\n",
      "1 2 3 4 5\n",
      "5 4 3 2 1\n",
      "2 3 4 5 6\n",
      "6 5 4 3 2\n",
      "1 2 1 2 1\n",
      "19\n"
     ]
    }
   ],
   "source": [
    "N, M = map(int, input().split())\n",
    "area = [list(map(int, input().split())) for _ in range(N)]\n",
    "result = 0\n",
    "\n",
    "# 정사각형 테트로미노\n",
    "for i in range(0, N-1):\n",
    "    for j in range(0, M-1):\n",
    "        sum = area[i][j] + area[i+1][j] + area[i][j+1] + area[i+1][j+1]\n",
    "        if result < sum:\n",
    "            result = sum\n",
    "\n",
    "# 직사각형 테트리미노 가로\n",
    "for i in range(0, N):\n",
    "    for j in range(0, M-3):\n",
    "        sum = area[i][j] + area[i][j+1] + area[i][j+2] + area[i][j+3]\n",
    "        if result < sum:\n",
    "            result = sum\n",
    "# 직사각형 테트리미노 세로\n",
    "for i in range(0, N-3):\n",
    "    for j in range(0, M):\n",
    "        sum = area[i][j] + area[i+1][j] + area[i+2][j] + area[i+3][j]\n",
    "        if result < sum:\n",
    "            result = sum\n",
    "\n",
    "# ㄴ 테트리미노 1 (세로가 긴 ㄴ)\n",
    "for i in range(0, N-2):\n",
    "    for j in range(0, M-1):\n",
    "        sum = area[i][j] + area[i+1][j] + area[i+2][j] + area[i+2][j+1]\n",
    "        if result < sum:\n",
    "            result = sum\n",
    "\n",
    "# ㄴ 테트리미노 2 (세로가 긴 ㄴ 대칭)\n",
    "for i in range(0, N-2):\n",
    "    for j in range(1, M):\n",
    "        sum = area[i][j] + area[i+1][j] + area[i+2][j] + area[i+2][j-1]\n",
    "        if result < sum:\n",
    "            result = sum\n",
    "\n",
    "# ㄴ 테트리미노 3 (세로가 긴 ㄱ)\n",
    "for i in range(0, N-2):\n",
    "    for j in range(0, M-1):\n",
    "        sum = area[i][j] + area[i][j+1] + area[i+1][j+1] + area[i+2][j+1]\n",
    "        if result < sum:\n",
    "            result = sum\n",
    "\n",
    "# ㄴ 테트리미노 4 (세로가 긴 ㄱ 대칭)\n",
    "for i in range(0, N-2):\n",
    "    for j in range(0, M-1):\n",
    "        sum = area[i][j] + area[i][j+1] + area[i+1][j] + area[i+2][j]\n",
    "        if result < sum:\n",
    "            result = sum\n",
    "\n",
    "# ㄴ 테트리미노 5 (가로가 긴 ㄱ)\n",
    "for i in range(0, N-1):\n",
    "    for j in range(0, M-2):\n",
    "        sum = area[i][j] + area[i][j+1] + area[i][j+2] + area[i+1][j+2]\n",
    "        if result < sum:\n",
    "            result = sum\n",
    "\n",
    "# ㄴ 테트리미노 6 (가로가 긴 ㄱ 대칭)\n",
    "for i in range(0, N-1):\n",
    "    for j in range(0, M-2):\n",
    "        sum = area[i][j] + area[i][j+1] + area[i][j+2] + area[i+1][j]\n",
    "        if result < sum:\n",
    "            result = sum\n",
    "\n",
    "# ㄴ 테트리미노 7 (가로가 긴 ㄴ)\n",
    "for i in range(0, N-1):\n",
    "    for j in range(0, M-2):\n",
    "        sum = area[i][j] + area[i+1][j] + area[i+1][j+1] + area[i+1][j+2]\n",
    "        if result < sum:\n",
    "            result = sum\n",
    "\n",
    "# ㄴ 테트리미노 7 (가로가 긴 ㄴ 대칭)\n",
    "for i in range(0, N-1):\n",
    "    for j in range(0, M-2):\n",
    "        sum = area[i][j+2] + area[i+1][j] + area[i+1][j+1] + area[i+1][j+2]\n",
    "        if result < sum:\n",
    "            result = sum\n",
    "\n",
    "# ㅗ 테트리미노 1 (ㅗ)\n",
    "for i in range(0, N-1):\n",
    "    for j in range(0, M-2):\n",
    "        sum = area[i][j+1] + area[i+1][j] + area[i+1][j+1] + area[i+1][j+2]\n",
    "        if result < sum:\n",
    "            result = sum\n",
    "\n",
    "# ㅗ 테트리미노 2 (ㅜ)\n",
    "for i in range(0, N-1):\n",
    "    for j in range(0, M-2):\n",
    "        sum = area[i][j] + area[i][j+1] + area[i][j+2] + area[i+1][j+1]\n",
    "        if result < sum:\n",
    "            result = sum\n",
    "\n",
    "\n",
    "# ㅗ 테트리미노 3 (ㅓ)\n",
    "for i in range(0, N-2):\n",
    "    for j in range(0, M-1):\n",
    "        sum = area[i][j+1] + area[i+1][j] + area[i+1][j+1] + area[i+2][j+1]\n",
    "        if result < sum:\n",
    "            result = sum\n",
    "\n",
    "\n",
    "# ㅗ 테트리미노 4 (ㅏ)\n",
    "for i in range(0, N-2):\n",
    "    for j in range(0, M-1):\n",
    "        sum = area[i][j] + area[i+1][j] + area[i+1][j+1] + area[i+2][j]\n",
    "        if result < sum:\n",
    "            result = sum\n",
    "\n",
    "# 마지막 테트리미노 1 (ㄴㄱ 세로)\n",
    "for i in range(0, N-2):\n",
    "    for j in range(0, M-1):\n",
    "        sum = area[i][j] + area[i+1][j] + area[i+1][j+1] + area[i+2][j+1]\n",
    "        if result < sum:\n",
    "            result = sum\n",
    "\n",
    "# 마지막 테트리미노 2 (ㄱㄴ 가로)\n",
    "for i in range(0, N-1):\n",
    "    for j in range(0, M-2):\n",
    "        sum = area[i][j] + area[i][j+1] + area[i+1][j+1] + area[i+1][j+2]\n",
    "        if result < sum:\n",
    "            result = sum\n",
    "# 마지막 테트리미노 3 (1 대칭)\n",
    "for i in range(0, N-2):\n",
    "    for j in range(0, M-1):\n",
    "        sum = area[i+1][j] + area[i+2][j] + area[i][j+1] + area[i+1][j+1]\n",
    "        if result < sum:\n",
    "            result = sum\n",
    "# 마지막 테트리미노 4 (2 대칭)\n",
    "for i in range(0, N-1):\n",
    "    for j in range(0, M-2):\n",
    "        sum = area[i][j+1] + area[i][j+2] + area[i+1][j] + area[i+1][j+1]\n",
    "        if result < sum:\n",
    "            result = sum\n",
    "\n",
    "print(result)"
   ]
  },
  {
   "cell_type": "code",
   "execution_count": null,
   "metadata": {},
   "outputs": [],
   "source": [
    "# 14502 연구소"
   ]
  },
  {
   "cell_type": "code",
   "execution_count": 4,
   "metadata": {},
   "outputs": [
    {
     "name": "stdout",
     "output_type": "stream",
     "text": [
      "4 6\n",
      "0 0 0 0 0 0\n",
      "1 0 0 0 0 2\n",
      "1 1 1 0 0 2\n",
      "0 0 0 0 0 2\n",
      "9\n"
     ]
    }
   ],
   "source": [
    "import copy\n",
    "from collections import deque\n",
    "\n",
    "def build(start, count):\n",
    "    global result\n",
    "    if count == 3:\n",
    "        tmaps = copy.deepcopy(maps)\n",
    "        tQ = deque()\n",
    "        tQ = copy.deepcopy(Q)\n",
    "        vcount = 0\n",
    "        while tQ:\n",
    "            y, x = tQ.popleft()\n",
    "            for d in range(4):\n",
    "                ny = y + dy[d]\n",
    "                nx = x + dx[d]\n",
    "                if 0 <= ny < N and 0 <= nx < M and tmaps[ny][nx] == 0:\n",
    "                    tmaps[ny][nx] = 2\n",
    "                    vcount += 1\n",
    "                    tQ.append([ny, nx])\n",
    "        result = max(result, safe - vcount)\n",
    "        return\n",
    "    for i in range(start, N * M):\n",
    "        y = i // M\n",
    "        x = i % M\n",
    "        if not maps[y][x]:\n",
    "            maps[y][x] = 1\n",
    "            build(i + 1, count + 1)\n",
    "            maps[y][x] = 0\n",
    "\n",
    "N, M = map(int, input().split())\n",
    "maps = []\n",
    "safe = 0\n",
    "Q = deque()\n",
    "for n in range(N):\n",
    "    temp = list(map(int, input().split()))\n",
    "    for m in range(M):\n",
    "        if temp[m] == 2:\n",
    "            Q.append([n, m])\n",
    "        elif temp[m] == 0:\n",
    "            safe += 1\n",
    "    maps.append(temp)\n",
    "safe -= 3\n",
    "result = -1\n",
    "dy = [-1, 1, 0, 0]\n",
    "dx = [0, 0, -1, 1]\n",
    "build(0, 0)\n",
    "print(result)"
   ]
  },
  {
   "cell_type": "code",
   "execution_count": null,
   "metadata": {},
   "outputs": [],
   "source": [
    "# 14888 연산자 끼워넣기"
   ]
  },
  {
   "cell_type": "code",
   "execution_count": 3,
   "metadata": {},
   "outputs": [
    {
     "name": "stdout",
     "output_type": "stream",
     "text": [
      "2\n",
      "5 6\n",
      "0 0 1 0\n",
      "30\n",
      "30\n"
     ]
    }
   ],
   "source": [
    "def func(res, cnt, a, s, m, d):\n",
    "    global max_res\n",
    "    global min_res\n",
    "    if cnt == N:\n",
    "        if res > max_res:\n",
    "            max_res = res\n",
    "        if res < min_res:\n",
    "            min_res = res\n",
    "    else:\n",
    "        if a:\n",
    "            func(res + A[cnt], cnt + 1, a - 1, s, m, d)\n",
    "        if s:\n",
    "            func(res - A[cnt], cnt + 1, a, s - 1, m, d)\n",
    "        if m:\n",
    "            func(res * A[cnt], cnt + 1, a, s, m - 1, d)\n",
    "        if d:\n",
    "            func(int(res / A[cnt]), cnt + 1, a, s, m, d - 1)\n",
    "\n",
    "\n",
    "N = int(input())\n",
    "A = list(map(int, input().split()))\n",
    "oper = list(map(int, input().split())) # + - * /\n",
    "max_res = -1000000000\n",
    "min_res = 1000000000\n",
    "func(A[0], 1, *oper)\n",
    "print(max_res)\n",
    "print(min_res)"
   ]
  },
  {
   "cell_type": "code",
   "execution_count": null,
   "metadata": {},
   "outputs": [],
   "source": [
    "# 14889 스타트와 링크"
   ]
  },
  {
   "cell_type": "code",
   "execution_count": 2,
   "metadata": {},
   "outputs": [
    {
     "name": "stdout",
     "output_type": "stream",
     "text": [
      "4\n",
      "0 1 2 3\n",
      "4 0 5 6\n",
      "7 1 0 2\n",
      "3 4 5 0\n",
      "0\n"
     ]
    }
   ],
   "source": [
    "def f(cnt, a, b):\n",
    "    global result\n",
    "    if cnt == N:\n",
    "        diff = abs(stat(A) - stat(B))\n",
    "        if result > diff:\n",
    "            result = diff\n",
    "    else:\n",
    "        if a < N // 2:\n",
    "            A.append(cnt)\n",
    "            f(cnt + 1, a + 1, b)\n",
    "            A.pop()\n",
    "        if b < N // 2:\n",
    "            B.append(cnt)\n",
    "            f(cnt + 1, a, b + 1)\n",
    "            B.pop()\n",
    "\n",
    "\n",
    "def stat(team):\n",
    "    s = 0\n",
    "    for i in range(N // 2):\n",
    "        for j in range(i + 1, N // 2):\n",
    "            s += arr[team[i]][team[j]]\n",
    "    return s\n",
    "\n",
    "\n",
    "N = int(input())\n",
    "arr = [list(map(int, input().split())) for _ in range(N)]\n",
    "\n",
    "for i in range(N):\n",
    "    for j in range(N):\n",
    "        if i < j:\n",
    "            arr[i][j] += arr[j][i]\n",
    "            arr[j][i] = 0\n",
    "\n",
    "A = []\n",
    "B = []\n",
    "result = 5000\n",
    "f(0, 0, 0)\n",
    "print(result)"
   ]
  },
  {
   "cell_type": "code",
   "execution_count": null,
   "metadata": {},
   "outputs": [],
   "source": [
    "# 14890 경사로"
   ]
  },
  {
   "cell_type": "code",
   "execution_count": null,
   "metadata": {},
   "outputs": [],
   "source": []
  },
  {
   "cell_type": "code",
   "execution_count": null,
   "metadata": {},
   "outputs": [],
   "source": [
    "# 15683 감시"
   ]
  },
  {
   "cell_type": "code",
   "execution_count": null,
   "metadata": {},
   "outputs": [],
   "source": []
  },
  {
   "cell_type": "code",
   "execution_count": null,
   "metadata": {},
   "outputs": [],
   "source": [
    "# 15684 사다리 조작"
   ]
  },
  {
   "cell_type": "code",
   "execution_count": null,
   "metadata": {},
   "outputs": [],
   "source": []
  },
  {
   "cell_type": "code",
   "execution_count": null,
   "metadata": {},
   "outputs": [],
   "source": [
    "# 15685 드래곤 커브"
   ]
  },
  {
   "cell_type": "code",
   "execution_count": 1,
   "metadata": {},
   "outputs": [
    {
     "name": "stdout",
     "output_type": "stream",
     "text": [
      "3\n",
      "3 3 0 1\n",
      "4 2 1 3\n",
      "4 2 2 1\n",
      "4\n"
     ]
    }
   ],
   "source": [
    "def func(d, g, k=0):\n",
    "    if k > g:\n",
    "        return\n",
    "    if k == 0:\n",
    "        dragoncurve.append(d)\n",
    "        func(d, g, k + 1)\n",
    "    else:\n",
    "        for i in range(2 ** (k - 1) - 1, - 1, - 1):\n",
    "            dragoncurve.append((dragoncurve[i] + 1) % 4)\n",
    "        func(d, g, k + 1)\n",
    "\n",
    "\n",
    "N = int(input())\n",
    "maps = [[0] * 101 for _ in range(101)]\n",
    "dy = [0, -1, 0, 1]\n",
    "dx = [1, 0, -1, 0]\n",
    "for n in range(N):\n",
    "    x, y, d, g = map(int, input().split())\n",
    "    maps[y][x] = 1\n",
    "    dragoncurve = []\n",
    "    func(d, g)\n",
    "    for i in dragoncurve:\n",
    "        y += dy[i]\n",
    "        x += dx[i]\n",
    "        maps[y][x] = 1\n",
    "ans = 0\n",
    "for i in range(100):\n",
    "    for j in range(100):\n",
    "        if maps[i][j] and maps[i+1][j] and maps[i][j+1] and maps[i+1][j+1]:\n",
    "            ans += 1\n",
    "print(ans)"
   ]
  },
  {
   "cell_type": "code",
   "execution_count": null,
   "metadata": {},
   "outputs": [],
   "source": [
    "# 15686 치킨 배달"
   ]
  },
  {
   "cell_type": "code",
   "execution_count": null,
   "metadata": {},
   "outputs": [],
   "source": []
  },
  {
   "cell_type": "code",
   "execution_count": null,
   "metadata": {},
   "outputs": [],
   "source": [
    "# 17281 ⚾"
   ]
  },
  {
   "cell_type": "code",
   "execution_count": null,
   "metadata": {},
   "outputs": [],
   "source": []
  },
  {
   "cell_type": "code",
   "execution_count": null,
   "metadata": {},
   "outputs": [],
   "source": [
    "# 5373 큐빙"
   ]
  },
  {
   "cell_type": "code",
   "execution_count": null,
   "metadata": {},
   "outputs": [],
   "source": []
  },
  {
   "cell_type": "code",
   "execution_count": null,
   "metadata": {},
   "outputs": [],
   "source": [
    "# 16234 인구 이동"
   ]
  },
  {
   "cell_type": "code",
   "execution_count": null,
   "metadata": {},
   "outputs": [],
   "source": []
  },
  {
   "cell_type": "code",
   "execution_count": null,
   "metadata": {},
   "outputs": [],
   "source": [
    "# 16235 나무 재테크"
   ]
  },
  {
   "cell_type": "code",
   "execution_count": null,
   "metadata": {},
   "outputs": [],
   "source": []
  },
  {
   "cell_type": "code",
   "execution_count": null,
   "metadata": {},
   "outputs": [],
   "source": [
    "# 16236 아기 상어"
   ]
  },
  {
   "cell_type": "code",
   "execution_count": null,
   "metadata": {},
   "outputs": [],
   "source": []
  },
  {
   "cell_type": "code",
   "execution_count": null,
   "metadata": {},
   "outputs": [],
   "source": [
    "# 17140 이차원 배열과 연산"
   ]
  },
  {
   "cell_type": "code",
   "execution_count": null,
   "metadata": {},
   "outputs": [],
   "source": []
  },
  {
   "cell_type": "code",
   "execution_count": null,
   "metadata": {},
   "outputs": [],
   "source": [
    "# 17141 연구소 2"
   ]
  },
  {
   "cell_type": "code",
   "execution_count": 1,
   "metadata": {},
   "outputs": [
    {
     "name": "stdout",
     "output_type": "stream",
     "text": [
      "5 1\n",
      "2 2 2 1 1\n",
      "2 1 1 1 1\n",
      "2 1 1 1 1\n",
      "2 1 1 1 1\n",
      "2 2 2 1 1\n",
      "4\n"
     ]
    }
   ],
   "source": [
    "import copy\n",
    "from collections import deque\n",
    "\n",
    "def spread(start=0, count=0):\n",
    "    global Q\n",
    "    global result\n",
    "    if count == M:\n",
    "        tmaps = copy.deepcopy(maps)\n",
    "        infected = M\n",
    "        maxi = 1\n",
    "        tQ = deque()\n",
    "        tQ = copy.deepcopy(Q)\n",
    "        while tQ:\n",
    "            y, x = tQ.popleft()\n",
    "            for d in range(4):\n",
    "                ny = y + dy[d]\n",
    "                nx = x + dx[d]\n",
    "                if 0 <= ny < N and 0 <= nx < N and tmaps[ny][nx] == 0:\n",
    "                    tmaps[ny][nx] = tmaps[y][x] + 1\n",
    "                    tQ.append([ny, nx])\n",
    "                    infected += 1\n",
    "                    maxi = max(maxi, tmaps[ny][nx])\n",
    "        if infected == vacancy:\n",
    "            result = min(maxi - 1, result)\n",
    "        return\n",
    "\n",
    "    for i in range(start, len(virus)):\n",
    "        Q.append(virus[i])\n",
    "        maps[virus[i][0]][virus[i][1]] = 1\n",
    "        spread(i + 1, count + 1)\n",
    "        Q.pop()\n",
    "        maps[virus[i][0]][virus[i][1]] = 0\n",
    "\n",
    "\n",
    "N, M = map(int, input().split())\n",
    "maps = []\n",
    "vacancy = 0\n",
    "virus = []\n",
    "for i in range(N):\n",
    "    temp = list(map(int, input().split()))\n",
    "    for j in range(N):\n",
    "        if temp[j] == 0:\n",
    "            vacancy += 1\n",
    "        elif temp[j] == 1:\n",
    "            temp[j] = -1\n",
    "        elif temp[j] == 2:\n",
    "            virus.append([i, j])\n",
    "            temp[j] = 0\n",
    "            vacancy += 1\n",
    "    maps.append(temp)\n",
    "result = N * N + 1\n",
    "dy = [-1, 1, 0, 0]\n",
    "dx = [0, 0, -1, 1]\n",
    "Q = deque()\n",
    "spread()\n",
    "if result == N * N + 1:\n",
    "    print(-1)\n",
    "else:\n",
    "    print(result)"
   ]
  },
  {
   "cell_type": "code",
   "execution_count": null,
   "metadata": {},
   "outputs": [],
   "source": [
    "# 17142 연구소 3"
   ]
  },
  {
   "cell_type": "code",
   "execution_count": 2,
   "metadata": {},
   "outputs": [
    {
     "name": "stdout",
     "output_type": "stream",
     "text": [
      "5 1\n",
      "2 2 2 1 1\n",
      "2 1 1 1 1\n",
      "2 1 1 1 1\n",
      "2 1 1 1 1\n",
      "2 2 2 1 1\n",
      "0\n"
     ]
    }
   ],
   "source": [
    "import sys\n",
    "import copy\n",
    "from collections import deque\n",
    "\n",
    "def spread(start=0, count=0):\n",
    "    global Q\n",
    "    global result\n",
    "    if count == M:\n",
    "        visited = [[0] * N for _ in range(N)]\n",
    "        for v in range(M):\n",
    "            y, x = Q[v][0], Q[v][1]\n",
    "            visited[y][x] = 1\n",
    "        vcount = vacancy\n",
    "        maxi = 1\n",
    "        tQ = deque()\n",
    "        tQ = copy.deepcopy(Q)\n",
    "        while tQ and vcount:\n",
    "            y, x = tQ.popleft()\n",
    "            for d in range(4):\n",
    "                ny = y + dy[d]\n",
    "                nx = x + dx[d]\n",
    "                if 0 <= ny < N and 0 <= nx < N and not visited[ny][nx] and maps[ny][nx] != -1:\n",
    "                    if maps[ny][nx] == 0:\n",
    "                        visited[ny][nx] = visited[y][x] + 1\n",
    "                        tQ.append([ny, nx])\n",
    "                        vcount -= 1\n",
    "                        maxi = max(maxi, visited[ny][nx])\n",
    "                    elif maps[ny][nx] == 1:\n",
    "                        visited[ny][nx] = visited[y][x] + 1\n",
    "                        tQ.append([ny, nx])\n",
    "                        maxi = max(maxi, visited[ny][nx])\n",
    "        if not vcount:\n",
    "            result = min(maxi - 1, result)\n",
    "        return\n",
    "\n",
    "    for i in range(start, len(virus)):\n",
    "        Q.append(virus[i])\n",
    "        spread(i + 1, count + 1)\n",
    "        Q.pop()\n",
    "\n",
    "\n",
    "N, M = map(int, input().split())\n",
    "maps = []\n",
    "vacancy = 0\n",
    "virus = []\n",
    "for i in range(N):\n",
    "    temp = list(map(int, input().split()))\n",
    "    for j in range(N):\n",
    "        if temp[j] == 0:\n",
    "            vacancy += 1\n",
    "        elif temp[j] == 1:\n",
    "            temp[j] = -1\n",
    "        elif temp[j] == 2:\n",
    "            virus.append([i, j])\n",
    "            temp[j] = 1\n",
    "    maps.append(temp)\n",
    "result = N * N + 1\n",
    "dy = [-1, 1, 0, 0]\n",
    "dx = [0, 0, -1, 1]\n",
    "Q = deque()\n",
    "spread()\n",
    "print(result if result != N * N + 1 else -1)"
   ]
  },
  {
   "cell_type": "code",
   "execution_count": null,
   "metadata": {},
   "outputs": [],
   "source": [
    "# 17143 낚시왕"
   ]
  },
  {
   "cell_type": "code",
   "execution_count": 1,
   "metadata": {},
   "outputs": [
    {
     "name": "stdout",
     "output_type": "stream",
     "text": [
      "2 2 4\n",
      "1 1 1 1 1\n",
      "2 2 2 2 2\n",
      "1 2 1 2 3\n",
      "2 1 2 1 4\n",
      "4\n"
     ]
    }
   ],
   "source": [
    "def moving(Q, maps):\n",
    "    tmaps = [[-1] * C for _ in range(R)]\n",
    "    tQ = []\n",
    "    for y, x in Q:\n",
    "        shark = maps[y][x]\n",
    "        if shark != -1:\n",
    "            s, d, z = map(int, sharks[shark])\n",
    "            ny = y + dy[d] * s\n",
    "            nx = x + dx[d] * s\n",
    "            if d < 3:\n",
    "                if 0 <= ny < R:\n",
    "                    pass\n",
    "                else:\n",
    "                    if ny < 0:\n",
    "                        ny = abs(ny)\n",
    "                    if not (ny // (R - 1)) % 2:\n",
    "                        d = 2\n",
    "                        ny = ny % (R - 1)\n",
    "                    else:\n",
    "                        d = 1\n",
    "                        ny = (R - 1) - (ny % (R - 1))\n",
    "            else:\n",
    "                if 0 <= nx < C:\n",
    "                    pass\n",
    "                else:\n",
    "                    if nx < 0:\n",
    "                        nx = abs(nx)\n",
    "                    if not (nx // (C - 1)) % 2:\n",
    "                        d = 3\n",
    "                        nx = nx % (C - 1)\n",
    "                    else:\n",
    "                        d = 4\n",
    "                        nx = (C - 1) - (nx % (C - 1))\n",
    "            sharks[shark][1] = d\n",
    "            if tmaps[ny][nx] == -1:\n",
    "                tmaps[ny][nx] = shark\n",
    "                tQ.append([ny, nx])\n",
    "            else:\n",
    "                if sharks[tmaps[ny][nx]][2] < z:\n",
    "                    tmaps[ny][nx] = shark\n",
    "    return tQ, tmaps\n",
    "\n",
    "\n",
    "R, C, M = map(int, input().split())\n",
    "maps = [[-1] * C for _ in range(R)]\n",
    "sharks = []     # 0: 속력, 1: 이동방향, 2: 크기\n",
    "Q = []\n",
    "for m in range(M):\n",
    "    r, c, s, d, z = map(int, input().split())\n",
    "    maps[r - 1][c - 1] = m\n",
    "    sharks.append([s, d, z])\n",
    "    Q.append([r - 1, c - 1])\n",
    "score = 0\n",
    "dy = [0, -1, 1, 0, 0]\n",
    "dx = [0, 0, 0, 1, -1]\n",
    "for c in range(C):\n",
    "    if not Q:\n",
    "        break\n",
    "    for r in range(R):\n",
    "        if maps[r][c] != -1:\n",
    "            score += sharks[maps[r][c]][2]\n",
    "            maps[r][c] = -1\n",
    "            break\n",
    "    Q, maps = moving(Q, maps)\n",
    "print(score)"
   ]
  },
  {
   "cell_type": "code",
   "execution_count": null,
   "metadata": {},
   "outputs": [],
   "source": [
    "# 17144 미세먼지 안녕!"
   ]
  },
  {
   "cell_type": "code",
   "execution_count": null,
   "metadata": {},
   "outputs": [],
   "source": []
  },
  {
   "cell_type": "code",
   "execution_count": null,
   "metadata": {},
   "outputs": [],
   "source": [
    "# 4991 로봇 청소기"
   ]
  },
  {
   "cell_type": "code",
   "execution_count": null,
   "metadata": {},
   "outputs": [],
   "source": []
  },
  {
   "cell_type": "code",
   "execution_count": null,
   "metadata": {},
   "outputs": [],
   "source": [
    "# 16985 Maaaaaaaaaze"
   ]
  },
  {
   "cell_type": "code",
   "execution_count": null,
   "metadata": {},
   "outputs": [],
   "source": []
  },
  {
   "cell_type": "code",
   "execution_count": null,
   "metadata": {},
   "outputs": [],
   "source": [
    "# 16986 인싸들의 가위바위보"
   ]
  },
  {
   "cell_type": "code",
   "execution_count": null,
   "metadata": {},
   "outputs": [],
   "source": []
  },
  {
   "cell_type": "code",
   "execution_count": null,
   "metadata": {},
   "outputs": [],
   "source": [
    "# 16987 계란으로 계란치기"
   ]
  },
  {
   "cell_type": "code",
   "execution_count": null,
   "metadata": {},
   "outputs": [],
   "source": []
  },
  {
   "cell_type": "code",
   "execution_count": null,
   "metadata": {},
   "outputs": [],
   "source": [
    "# 16988 Baaaaaaaaaduk2 (Easy)"
   ]
  },
  {
   "cell_type": "code",
   "execution_count": null,
   "metadata": {},
   "outputs": [],
   "source": []
  }
 ],
 "metadata": {
  "kernelspec": {
   "display_name": "Python 3",
   "language": "python",
   "name": "python3"
  },
  "language_info": {
   "codemirror_mode": {
    "name": "ipython",
    "version": 3
   },
   "file_extension": ".py",
   "mimetype": "text/x-python",
   "name": "python",
   "nbconvert_exporter": "python",
   "pygments_lexer": "ipython3",
   "version": "3.7.4"
  }
 },
 "nbformat": 4,
 "nbformat_minor": 2
}
