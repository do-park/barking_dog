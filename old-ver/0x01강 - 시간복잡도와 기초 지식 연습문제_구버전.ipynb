{
 "cells": [
  {
   "cell_type": "code",
   "execution_count": null,
   "metadata": {},
   "outputs": [],
   "source": [
    "# 1000. A + B"
   ]
  },
  {
   "cell_type": "code",
   "execution_count": 2,
   "metadata": {},
   "outputs": [
    {
     "name": "stdout",
     "output_type": "stream",
     "text": [
      "1 2\n",
      "3\n"
     ]
    }
   ],
   "source": [
    "a, b = map(int, input().split())\n",
    "print (a+b)"
   ]
  },
  {
   "cell_type": "code",
   "execution_count": null,
   "metadata": {},
   "outputs": [],
   "source": [
    "# 2557. Hello World"
   ]
  },
  {
   "cell_type": "code",
   "execution_count": 3,
   "metadata": {},
   "outputs": [
    {
     "name": "stdout",
     "output_type": "stream",
     "text": [
      "Hello World!\n"
     ]
    }
   ],
   "source": [
    "print('Hello World!')"
   ]
  },
  {
   "cell_type": "code",
   "execution_count": null,
   "metadata": {},
   "outputs": [],
   "source": [
    "# 10171. 고양이"
   ]
  },
  {
   "cell_type": "code",
   "execution_count": 4,
   "metadata": {},
   "outputs": [
    {
     "name": "stdout",
     "output_type": "stream",
     "text": [
      "\\    /\\\n",
      " )  ( ')\n",
      "(  /  )\n",
      " \\(__)|\n"
     ]
    }
   ],
   "source": [
    "print('\\    /\\\\')\n",
    "print(' )  ( \\')')\n",
    "print('(  /  )')\n",
    "print(' \\(__)|')"
   ]
  },
  {
   "cell_type": "code",
   "execution_count": null,
   "metadata": {},
   "outputs": [],
   "source": [
    "# 10869. 사칙연산"
   ]
  },
  {
   "cell_type": "code",
   "execution_count": 5,
   "metadata": {},
   "outputs": [
    {
     "name": "stdout",
     "output_type": "stream",
     "text": [
      "7 3\n",
      "10\n",
      "4\n",
      "21\n",
      "2\n",
      "1\n"
     ]
    }
   ],
   "source": [
    "a, b = input().split()\n",
    "a = int(a)\n",
    "b = int(b)\n",
    "print(a+b)\n",
    "print(a-b)\n",
    "print(a*b)\n",
    "print(a//b)\n",
    "print(a%b)"
   ]
  },
  {
   "cell_type": "code",
   "execution_count": null,
   "metadata": {},
   "outputs": [],
   "source": [
    "# 9498. 시험 성적"
   ]
  },
  {
   "cell_type": "code",
   "execution_count": 6,
   "metadata": {},
   "outputs": [
    {
     "name": "stdout",
     "output_type": "stream",
     "text": [
      "100\n",
      "A\n"
     ]
    }
   ],
   "source": [
    "A = int(input())\n",
    "if A >= 90:\n",
    "    print('A')\n",
    "elif A >= 80:\n",
    "    print('B')\n",
    "elif A >= 70:\n",
    "    print('C')\n",
    "elif A >= 60:\n",
    "    print('D')\n",
    "else:\n",
    "    print('F')"
   ]
  },
  {
   "cell_type": "code",
   "execution_count": null,
   "metadata": {},
   "outputs": [],
   "source": [
    "# 2752. 세수 정렬"
   ]
  },
  {
   "cell_type": "code",
   "execution_count": 7,
   "metadata": {},
   "outputs": [
    {
     "name": "stdout",
     "output_type": "stream",
     "text": [
      "3 1 2\n",
      "1 2 3\n"
     ]
    }
   ],
   "source": [
    "number = list(map(int, input().split()))\n",
    "\n",
    "number = sorted(number)\n",
    "print(*number)"
   ]
  },
  {
   "cell_type": "code",
   "execution_count": null,
   "metadata": {},
   "outputs": [],
   "source": [
    "# 2753. 윤년"
   ]
  },
  {
   "cell_type": "code",
   "execution_count": 8,
   "metadata": {},
   "outputs": [
    {
     "name": "stdout",
     "output_type": "stream",
     "text": [
      "2000\n",
      "1\n"
     ]
    }
   ],
   "source": [
    "year = int(input())\n",
    "\n",
    "if year%4 == 0 and (year%100 != 0 or year%400 == 0):\n",
    "    print(1)\n",
    "else:\n",
    "    print(0)"
   ]
  },
  {
   "cell_type": "code",
   "execution_count": null,
   "metadata": {},
   "outputs": [],
   "source": [
    "# 2480. 주사위 세개"
   ]
  },
  {
   "cell_type": "code",
   "execution_count": 9,
   "metadata": {},
   "outputs": [
    {
     "name": "stdout",
     "output_type": "stream",
     "text": [
      "336\n",
      "33600\n"
     ]
    }
   ],
   "source": [
    "number = list(map(int, input().split()))\n",
    "\n",
    "for n in number:\n",
    "    if number.count(n) == 3:\n",
    "        print(10000 + n * 1000)\n",
    "        break\n",
    "    elif number.count(n) == 2:\n",
    "        print(1000 + n * 100)\n",
    "        break\n",
    "else:\n",
    "    print(max(number) * 100)"
   ]
  },
  {
   "cell_type": "code",
   "execution_count": null,
   "metadata": {},
   "outputs": [],
   "source": [
    "# 2490. 윷놀이"
   ]
  },
  {
   "cell_type": "code",
   "execution_count": 1,
   "metadata": {},
   "outputs": [
    {
     "name": "stdout",
     "output_type": "stream",
     "text": [
      "0 1 0 1\n",
      "B\n",
      "1 1 1 0\n",
      "A\n",
      "0 0 1 1\n",
      "B\n"
     ]
    }
   ],
   "source": [
    "for tc in range(3):\n",
    "    yuts = list(map(str, input().split()))\n",
    "    count = yuts.count('0')\n",
    "\n",
    "    if count == 0:\n",
    "        print('E')\n",
    "    elif count == 1:\n",
    "        print('A')\n",
    "    elif count == 2:\n",
    "        print('B')\n",
    "    elif count == 3:\n",
    "        print('C')\n",
    "    else:\n",
    "        print('D')"
   ]
  },
  {
   "cell_type": "code",
   "execution_count": null,
   "metadata": {},
   "outputs": [],
   "source": [
    "# 2562. 최댓값"
   ]
  },
  {
   "cell_type": "code",
   "execution_count": 2,
   "metadata": {},
   "outputs": [
    {
     "name": "stdout",
     "output_type": "stream",
     "text": [
      "3\n",
      "29\n",
      "38\n",
      "12\n",
      "57\n",
      "74\n",
      "40\n",
      "85\n",
      "61\n",
      "85\n",
      "8\n"
     ]
    }
   ],
   "source": [
    "num_list = []\n",
    "\n",
    "for i in range(0, 9):\n",
    "    num_list.append(int(input()))\n",
    "\n",
    "print(max(num_list))\n",
    "print(num_list.index(max(num_list))+1)"
   ]
  },
  {
   "cell_type": "code",
   "execution_count": null,
   "metadata": {},
   "outputs": [],
   "source": [
    "# 2576. 홀수"
   ]
  },
  {
   "cell_type": "code",
   "execution_count": 3,
   "metadata": {},
   "outputs": [
    {
     "name": "stdout",
     "output_type": "stream",
     "text": [
      "12\n",
      "77\n",
      "38\n",
      "41\n",
      "53\n",
      "92\n",
      "85\n",
      "256\n",
      "41\n"
     ]
    }
   ],
   "source": [
    "total = 0\n",
    "minimum = 100\n",
    "for i in range(0, 7):\n",
    "    temp = int(input())\n",
    "    if temp % 2:\n",
    "        total += temp\n",
    "        if minimum > temp:\n",
    "            minimum = temp\n",
    "\n",
    "if total == 0:\n",
    "    print(-1)\n",
    "else:\n",
    "    print(total)\n",
    "    print(minimum)"
   ]
  },
  {
   "cell_type": "code",
   "execution_count": null,
   "metadata": {},
   "outputs": [],
   "source": [
    "# 2587. 대표값2"
   ]
  },
  {
   "cell_type": "code",
   "execution_count": 4,
   "metadata": {},
   "outputs": [
    {
     "name": "stdout",
     "output_type": "stream",
     "text": [
      "10\n",
      "40\n",
      "30\n",
      "60\n",
      "30\n",
      "34\n",
      "30\n"
     ]
    }
   ],
   "source": [
    "number = []\n",
    "for _ in range(5):\n",
    "    number.append(int(input()))\n",
    "number = sorted(number)\n",
    "print(sum(number) // 5)\n",
    "print(number[2])"
   ]
  },
  {
   "cell_type": "code",
   "execution_count": null,
   "metadata": {},
   "outputs": [],
   "source": [
    "# 2309. 일곱 난쟁이"
   ]
  },
  {
   "cell_type": "code",
   "execution_count": 5,
   "metadata": {},
   "outputs": [
    {
     "name": "stdout",
     "output_type": "stream",
     "text": [
      "20\n",
      "7\n",
      "23\n",
      "19\n",
      "10\n",
      "15\n",
      "25\n",
      "8\n",
      "13\n",
      "7\n",
      "8\n",
      "10\n",
      "13\n",
      "19\n",
      "20\n",
      "23\n"
     ]
    }
   ],
   "source": [
    "dwarfs = []\n",
    "dwarf_sum = 0\n",
    "for i in range(0, 9):\n",
    "    temp = int(input())\n",
    "    dwarfs.append(temp)\n",
    "    dwarf_sum += temp\n",
    "\n",
    "dwarfs.sort()\n",
    "flag = 0\n",
    "\n",
    "for i in range(0, 9):\n",
    "    for j in range(i + 1, 9):\n",
    "        if dwarf_sum - dwarfs[i] - dwarfs[j] == 100:\n",
    "            flag = 1\n",
    "            break\n",
    "    if flag:\n",
    "        break\n",
    "\n",
    "for k in range(0, 9):\n",
    "    if k != i and k != j:\n",
    "        print(dwarfs[k])"
   ]
  },
  {
   "cell_type": "code",
   "execution_count": null,
   "metadata": {},
   "outputs": [],
   "source": [
    "# 10093. 숫자"
   ]
  },
  {
   "cell_type": "code",
   "execution_count": 6,
   "metadata": {},
   "outputs": [
    {
     "name": "stdout",
     "output_type": "stream",
     "text": [
      "4 14\n",
      "9\n",
      "5 6 7 8 9 10 11 12 13 "
     ]
    }
   ],
   "source": [
    "number = list(map(int, input().split()))\n",
    "number = sorted(number)\n",
    "print(max(number[1] - number[0] - 1, 0))\n",
    "for i in range(number[0] + 1, number[1]):\n",
    "    print(i, end=' ')"
   ]
  },
  {
   "cell_type": "code",
   "execution_count": null,
   "metadata": {},
   "outputs": [],
   "source": [
    "# 2577. 숫자의 개수"
   ]
  },
  {
   "cell_type": "code",
   "execution_count": 7,
   "metadata": {},
   "outputs": [
    {
     "name": "stdout",
     "output_type": "stream",
     "text": [
      "150\n",
      "266\n",
      "427\n",
      "3\n",
      "1\n",
      "0\n",
      "2\n",
      "0\n",
      "0\n",
      "0\n",
      "2\n",
      "0\n",
      "0\n"
     ]
    }
   ],
   "source": [
    "A = int(input())\n",
    "B = int(input())\n",
    "C = int(input())\n",
    "result = A * B * C\n",
    "ans = [0] * 10\n",
    "while result:\n",
    "    ans[result % 10] += 1\n",
    "    result //= 10\n",
    "\n",
    "for i in range(10):\n",
    "    print(ans[i])"
   ]
  },
  {
   "cell_type": "code",
   "execution_count": null,
   "metadata": {},
   "outputs": [],
   "source": [
    "# 1267. 핸드폰 요금"
   ]
  },
  {
   "cell_type": "code",
   "execution_count": 8,
   "metadata": {},
   "outputs": [
    {
     "name": "stdout",
     "output_type": "stream",
     "text": [
      "3\n",
      "40 40 40\n",
      "M 45\n"
     ]
    }
   ],
   "source": [
    "N = int(input())\n",
    "call = list(map(int, input().split()))\n",
    "Y, M = 0, 0\n",
    "for n in range(N):\n",
    "    Y += call[n] // 30 * 10 + 10\n",
    "    M += call[n] // 60 * 15 + 15\n",
    "if Y < M:\n",
    "    print(f'Y {Y}')\n",
    "elif Y == M:\n",
    "    print(f'Y M {Y}')\n",
    "else:\n",
    "    print(f'M {M}')"
   ]
  },
  {
   "cell_type": "code",
   "execution_count": null,
   "metadata": {},
   "outputs": [],
   "source": [
    "#10804. 카드 역배치"
   ]
  },
  {
   "cell_type": "code",
   "execution_count": 9,
   "metadata": {},
   "outputs": [
    {
     "name": "stdout",
     "output_type": "stream",
     "text": [
      "5 10\n",
      "9 13\n",
      "1 2\n",
      "3 4\n",
      "5 6\n",
      "1 2\n",
      "3 4\n",
      "5 6\n",
      "1 20\n",
      "1 20\n",
      "1 2 3 4 10 9 8 7 13 12 11 5 6 14 15 16 17 18 19 20\n"
     ]
    }
   ],
   "source": [
    "card = [i for i in range(1, 21)]\n",
    "for i in range(10):\n",
    "    a, b = map(int, input().split())\n",
    "    temp = card[a - 1 : b]\n",
    "    temp = reversed(temp)\n",
    "    card[a - 1 : b] = temp\n",
    "print(*card)"
   ]
  },
  {
   "cell_type": "code",
   "execution_count": null,
   "metadata": {},
   "outputs": [],
   "source": [
    "# 2438. 별찍기 - 1"
   ]
  },
  {
   "cell_type": "code",
   "execution_count": 10,
   "metadata": {},
   "outputs": [
    {
     "name": "stdout",
     "output_type": "stream",
     "text": [
      "5\n",
      "*\n",
      "**\n",
      "***\n",
      "****\n",
      "*****\n"
     ]
    }
   ],
   "source": [
    "N = int(input())\n",
    "\n",
    "for n in range(1, N+1):\n",
    "    print('*' * n)"
   ]
  },
  {
   "cell_type": "code",
   "execution_count": null,
   "metadata": {},
   "outputs": [],
   "source": [
    "# 2439. 별찍기 - 2"
   ]
  },
  {
   "cell_type": "code",
   "execution_count": 11,
   "metadata": {},
   "outputs": [
    {
     "name": "stdout",
     "output_type": "stream",
     "text": [
      "5\n",
      "    *\n",
      "   **\n",
      "  ***\n",
      " ****\n",
      "*****\n"
     ]
    }
   ],
   "source": [
    "number = int(input())\n",
    "\n",
    "for i in range(1, number+1):\n",
    "    star = \"*\" * i\n",
    "    print(star.rjust(number))"
   ]
  },
  {
   "cell_type": "code",
   "execution_count": null,
   "metadata": {},
   "outputs": [],
   "source": [
    "# 2440. 별찍기 - 3"
   ]
  },
  {
   "cell_type": "code",
   "execution_count": 12,
   "metadata": {},
   "outputs": [
    {
     "name": "stdout",
     "output_type": "stream",
     "text": [
      "5\n",
      "*****\n",
      "****\n",
      "***\n",
      "**\n",
      "*\n"
     ]
    }
   ],
   "source": [
    "number = int(input())\n",
    "\n",
    "for i in range(number, 0, -1):\n",
    "    print(\"*\" * i)"
   ]
  },
  {
   "cell_type": "code",
   "execution_count": null,
   "metadata": {},
   "outputs": [],
   "source": [
    "# 2441. 별찍기 - 4"
   ]
  },
  {
   "cell_type": "code",
   "execution_count": 13,
   "metadata": {},
   "outputs": [
    {
     "name": "stdout",
     "output_type": "stream",
     "text": [
      "5\n",
      "*****\n",
      " ****\n",
      "  ***\n",
      "   **\n",
      "    *\n"
     ]
    }
   ],
   "source": [
    "number = int(input())\n",
    "\n",
    "for i in range(number, 0, -1):\n",
    "    star = \"*\" * i\n",
    "    print(star.rjust(number))"
   ]
  },
  {
   "cell_type": "code",
   "execution_count": null,
   "metadata": {},
   "outputs": [],
   "source": [
    "# 2442. 별찍기 - 5"
   ]
  },
  {
   "cell_type": "code",
   "execution_count": 14,
   "metadata": {},
   "outputs": [
    {
     "name": "stdout",
     "output_type": "stream",
     "text": [
      "5\n",
      "    *\n",
      "   ***\n",
      "  *****\n",
      " *******\n",
      "*********\n"
     ]
    }
   ],
   "source": [
    "number = int(input())\n",
    "\n",
    "for i in range(1, number+1):\n",
    "    print(' ' * (number - i), end='')\n",
    "    print('*' * (2 * i -1))"
   ]
  },
  {
   "cell_type": "code",
   "execution_count": null,
   "metadata": {},
   "outputs": [],
   "source": [
    "# 2443. 별찍기 - 6"
   ]
  },
  {
   "cell_type": "code",
   "execution_count": 15,
   "metadata": {},
   "outputs": [
    {
     "name": "stdout",
     "output_type": "stream",
     "text": [
      "5\n",
      "*********\n",
      " *******\n",
      "  *****\n",
      "   ***\n",
      "    *\n"
     ]
    }
   ],
   "source": [
    "number = int(input())\n",
    "\n",
    "for i in range(number, 0, -1):\n",
    "    print(' ' * (number - i), end='')\n",
    "    print('*' * (2 * i -1))    "
   ]
  },
  {
   "cell_type": "code",
   "execution_count": null,
   "metadata": {},
   "outputs": [],
   "source": [
    "# 2444. 별찍기 - 7"
   ]
  },
  {
   "cell_type": "code",
   "execution_count": 16,
   "metadata": {},
   "outputs": [
    {
     "name": "stdout",
     "output_type": "stream",
     "text": [
      "5\n",
      "    *\n",
      "   ***\n",
      "  *****\n",
      " *******\n",
      "*********\n",
      " *******\n",
      "  *****\n",
      "   ***\n",
      "    *\n"
     ]
    }
   ],
   "source": [
    "number = int(input())\n",
    "\n",
    "for i in range(1, number):\n",
    "    print(' ' * (number - i), end='')\n",
    "    print('*' * (2 * i - 1))\n",
    "for i in range(number, 0, -1):\n",
    "    print(' ' * (number - i), end='')\n",
    "    print('*' * (2 * i - 1))"
   ]
  },
  {
   "cell_type": "code",
   "execution_count": null,
   "metadata": {},
   "outputs": [],
   "source": [
    "# 2445. 별찍기 - 8"
   ]
  },
  {
   "cell_type": "code",
   "execution_count": 17,
   "metadata": {},
   "outputs": [
    {
     "name": "stdout",
     "output_type": "stream",
     "text": [
      "5\n",
      "*        *\n",
      "**      **\n",
      "***    ***\n",
      "****  ****\n",
      "**********\n",
      "****  ****\n",
      "***    ***\n",
      "**      **\n",
      "*        *\n"
     ]
    }
   ],
   "source": [
    "N = int(input())\n",
    "\n",
    "for i in range(1, N):\n",
    "    print('*' * i, end='')\n",
    "    print(' ' * (N-i) * 2, end='')\n",
    "    print('*' * i)\n",
    "for i in range(N, 0, -1):\n",
    "    print('*' * i, end='')\n",
    "    print(' ' * (N-i) * 2, end='')\n",
    "    print('*' * i)"
   ]
  },
  {
   "cell_type": "code",
   "execution_count": null,
   "metadata": {},
   "outputs": [],
   "source": [
    "# 2446. 별찍기 - 9"
   ]
  },
  {
   "cell_type": "code",
   "execution_count": 18,
   "metadata": {},
   "outputs": [
    {
     "name": "stdout",
     "output_type": "stream",
     "text": [
      "5\n",
      "*********\n",
      " *******\n",
      "  *****\n",
      "   ***\n",
      "    *\n",
      "   ***\n",
      "  *****\n",
      " *******\n",
      "*********\n"
     ]
    }
   ],
   "source": [
    "N = int(input())\n",
    "\n",
    "for i in range(N, 1, -1):\n",
    "    print(' ' * (N - i), end='')\n",
    "    print('*' * (2 * i - 1))\n",
    "for i in range(1, N+1):\n",
    "    print(' ' * (N - i), end='')\n",
    "    print('*' * (2 * i - 1))"
   ]
  }
 ],
 "metadata": {
  "kernelspec": {
   "display_name": "Python 3",
   "language": "python",
   "name": "python3"
  },
  "language_info": {
   "codemirror_mode": {
    "name": "ipython",
    "version": 3
   },
   "file_extension": ".py",
   "mimetype": "text/x-python",
   "name": "python",
   "nbconvert_exporter": "python",
   "pygments_lexer": "ipython3",
   "version": "3.7.4"
  }
 },
 "nbformat": 4,
 "nbformat_minor": 2
}
