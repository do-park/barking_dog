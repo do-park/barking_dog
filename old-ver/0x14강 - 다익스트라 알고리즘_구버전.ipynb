{
 "cells": [
  {
   "cell_type": "code",
   "execution_count": null,
   "metadata": {},
   "outputs": [],
   "source": [
    "# 1753 최단경로"
   ]
  },
  {
   "cell_type": "code",
   "execution_count": 6,
   "metadata": {},
   "outputs": [
    {
     "name": "stdout",
     "output_type": "stream",
     "text": [
      "5 6\n",
      "1\n",
      "5 1 1\n",
      "1 2 2\n",
      "1 3 3\n",
      "2 3 4\n",
      "2 4 5\n",
      "3 4 6\n",
      "0\n",
      "2\n",
      "3\n",
      "7\n",
      "INF\n"
     ]
    }
   ],
   "source": [
    "from heapq import heappush, heappop\n",
    "INF = 1e9\n",
    "\n",
    "def dijkstra(k):\n",
    "    dist = [INF] * V\n",
    "    dist[k - 1] = 0\n",
    "    q = []\n",
    "    heappush(q, [0, k - 1])\n",
    "    while q:\n",
    "        cost, pos = heappop(q)\n",
    "        for p, c in route[pos]:\n",
    "            c += cost\n",
    "            if c < dist[p]:\n",
    "                dist[p] = c\n",
    "                heappush(q, [c, p])\n",
    "    return dist\n",
    "\n",
    "V, E = map(int, input().split())\n",
    "K = int(input())\n",
    "route = [[] for _ in range(V)]\n",
    "for e in range(E):\n",
    "    u, v, w = map(int, input().split())\n",
    "    route[u - 1].append([v - 1, w])\n",
    "for d in dijkstra(K):\n",
    "    print(d if d != INF else 'INF')"
   ]
  },
  {
   "cell_type": "code",
   "execution_count": null,
   "metadata": {},
   "outputs": [],
   "source": [
    "# 11779 최소비용 구하기 2"
   ]
  },
  {
   "cell_type": "code",
   "execution_count": 5,
   "metadata": {},
   "outputs": [
    {
     "name": "stdout",
     "output_type": "stream",
     "text": [
      "5\n",
      "8\n",
      "1 2 2\n",
      "1 3 3\n",
      "1 4 1\n",
      "1 5 10\n",
      "2 4 2\n",
      "3 4 1\n",
      "3 5 1\n",
      "4 5 3\n",
      "1 5\n",
      "4\n",
      "3\n",
      "1 4 5\n"
     ]
    }
   ],
   "source": [
    "from heapq import heappush, heappop\n",
    "INF = 1e9\n",
    "\n",
    "def dijkstra(S, E):\n",
    "    dist = [INF] * V\n",
    "    before = [-1] * V\n",
    "    dist[S - 1] = 0\n",
    "    q = []\n",
    "    heappush(q, [0, S - 1])\n",
    "    while q:\n",
    "        cost, pos = heappop(q)\n",
    "        for p, c in route[pos]:\n",
    "            c += cost\n",
    "            if c < dist[p]:\n",
    "                dist[p] = c\n",
    "                heappush(q, [c, p])\n",
    "                before[p] = pos\n",
    "    print(dist[E - 1])\n",
    "    result = []\n",
    "    i = E - 1\n",
    "    while True:\n",
    "        if before[i] == -1:\n",
    "            result.append(i + 1)\n",
    "            return result\n",
    "        result.append(i + 1)\n",
    "        i = before[i]\n",
    "\n",
    "V = int(input())\n",
    "E = int(input())\n",
    "route = [[] for _ in range(V)]\n",
    "for e in range(E):\n",
    "    u, v, w = map(int, input().split())\n",
    "    route[u - 1].append([v - 1, w])\n",
    "S, E = map(int, input().split())\n",
    "result = dijkstra(S, E)\n",
    "print(len(result))\n",
    "print(* result[::-1])"
   ]
  },
  {
   "cell_type": "code",
   "execution_count": null,
   "metadata": {},
   "outputs": [],
   "source": [
    "# 2665 미로만들기"
   ]
  },
  {
   "cell_type": "code",
   "execution_count": 4,
   "metadata": {},
   "outputs": [
    {
     "name": "stdout",
     "output_type": "stream",
     "text": [
      "8\n",
      "11100110\n",
      "11010010\n",
      "10011010\n",
      "11101100\n",
      "01000111\n",
      "00110001\n",
      "11011000\n",
      "11000111\n",
      "2\n"
     ]
    }
   ],
   "source": [
    "from collections import deque\n",
    "INF = 1e9\n",
    "\n",
    "N = int(input())\n",
    "maps = [list(map(int, input())) for _ in range(N)]\n",
    "visited = [[INF] * N for _ in range(N)]\n",
    "q = deque()\n",
    "visited[0][0] = 0\n",
    "q.append([0, 0])\n",
    "dy = [-1, 1, 0, 0]\n",
    "dx = [0, 0, -1, 1]\n",
    "while q:\n",
    "    y, x = q.popleft()\n",
    "    for d in range(4):\n",
    "        ny = y + dy[d]\n",
    "        nx = x + dx[d]\n",
    "        if 0 <= ny < N and 0 <= nx < N and visited[ny][nx] > visited[y][x] + (1 - maps[ny][nx]):\n",
    "            visited[ny][nx] = visited[y][x] + (1 - maps[ny][nx])\n",
    "            k = visited[ny][nx]\n",
    "            q.append([ny, nx])\n",
    "print(visited[N - 1][N - 1])"
   ]
  },
  {
   "cell_type": "code",
   "execution_count": null,
   "metadata": {},
   "outputs": [],
   "source": [
    "# 1504 특정한 최단 경로"
   ]
  },
  {
   "cell_type": "code",
   "execution_count": 3,
   "metadata": {},
   "outputs": [
    {
     "name": "stdout",
     "output_type": "stream",
     "text": [
      "4 6\n",
      "1 2 3\n",
      "2 3 3\n",
      "3 4 1\n",
      "1 3 5\n",
      "2 4 5\n",
      "1 4 4\n",
      "2 3\n",
      "7\n"
     ]
    }
   ],
   "source": [
    "from heapq import heappush, heappop\n",
    "INF = 1e9\n",
    "\n",
    "def dijkstra(a, b):\n",
    "    dist = [INF] * V\n",
    "    dist[a - 1] = 0\n",
    "    q = []\n",
    "    heappush(q, [0, a - 1])\n",
    "    while q:\n",
    "        cost, pos = heappop(q)\n",
    "        for p, c in route[pos]:\n",
    "            c += cost\n",
    "            if c < dist[p]:\n",
    "                dist[p] = c\n",
    "                heappush(q, [c, p])\n",
    "    return dist[b - 1]\n",
    "\n",
    "V, E = map(int, input().split())\n",
    "route = [[] for _ in range(V)]\n",
    "for e in range(E):\n",
    "    u, v, w = map(int, input().split())\n",
    "    route[u - 1].append([v - 1, w])\n",
    "    route[v - 1].append([u - 1, w])\n",
    "V1, V2 = map(int, input().split())\n",
    "result1 = dijkstra(1, V1) + dijkstra(V1, V2) + dijkstra(V2, V)\n",
    "result2 = dijkstra(1, V2) + dijkstra(V2, V1) + dijkstra(V1, V)\n",
    "result = min(result1, result2, INF)\n",
    "print(result if result != INF else -1)"
   ]
  },
  {
   "cell_type": "code",
   "execution_count": null,
   "metadata": {},
   "outputs": [],
   "source": [
    "# 18223 민준이와 마산 그리고 건우"
   ]
  },
  {
   "cell_type": "code",
   "execution_count": 2,
   "metadata": {},
   "outputs": [
    {
     "name": "stdout",
     "output_type": "stream",
     "text": [
      "4 3 3\n",
      "1 2 1\n",
      "2 3 1\n",
      "2 4 1\n",
      "GOOD BYE\n"
     ]
    }
   ],
   "source": [
    "from heapq import heappush, heappop\n",
    "INF = 1e9\n",
    "\n",
    "\n",
    "def dijkstra(a, b):\n",
    "    dist = [INF] * V\n",
    "    dist[a - 1] = 0\n",
    "    q = []\n",
    "    heappush(q, [0, a - 1])\n",
    "    while q:\n",
    "        cost, pos = heappop(q)\n",
    "        for p, c in route[pos]:\n",
    "            c += cost\n",
    "            if c < dist[p]:\n",
    "                dist[p] = c\n",
    "                heappush(q, [c, p])\n",
    "    return dist[b - 1]\n",
    "\n",
    "\n",
    "V, E, P = map(int, input().split())\n",
    "route = [[] for _ in range(V)]\n",
    "for e in range(E):\n",
    "    u, v, w = map(int, input().split())\n",
    "    route[u - 1].append([v - 1, w])\n",
    "    route[v - 1].append([u - 1, w])\n",
    "result1 = dijkstra(1, V)\n",
    "result2 = dijkstra(1, P) + dijkstra(P, V)\n",
    "print('SAVE HIM' if result2 <= result1 else 'GOOD BYE')"
   ]
  },
  {
   "cell_type": "code",
   "execution_count": null,
   "metadata": {},
   "outputs": [],
   "source": [
    "# 4485 녹색 옷 입은 애가 젤다지?"
   ]
  },
  {
   "cell_type": "code",
   "execution_count": 1,
   "metadata": {},
   "outputs": [
    {
     "name": "stdout",
     "output_type": "stream",
     "text": [
      "3\n",
      "5 5 4\n",
      "3 9 1\n",
      " 3 2 7\n",
      "Problem 1: 20\n",
      "5\n",
      "3 7 2 0 1\n",
      "2 8 0 9 1\n",
      "1 2 1 8 1\n",
      "9 8 9 2 0\n",
      "3 6 5 1 5\n",
      "Problem 2: 19\n",
      "7\n",
      "9 0 5 1 1 5 3\n",
      "4 1 2 1 6 5 3\n",
      "0 7 6 1 6 8 5\n",
      "1 1 7 8 3 2 3\n",
      "9 4 0 7 6 4 1\n",
      "5 8 3 2 4 8 3\n",
      "7 4 8 4 8 3 4\n",
      "Problem 3: 36\n",
      "0\n"
     ]
    }
   ],
   "source": [
    "from collections import deque\n",
    "\n",
    "INF = 1e9\n",
    "tc = 1\n",
    "while True:\n",
    "    N = int(input())\n",
    "    if N == 0:\n",
    "        break\n",
    "    maps = [list(map(int, input().split())) for _ in range(N)]\n",
    "    visited = [[INF] * N for _ in range(N)]\n",
    "    q = deque()\n",
    "    visited[0][0] = maps[0][0]\n",
    "    q.append([0, 0])\n",
    "    dy = [-1, 1, 0, 0]\n",
    "    dx = [0, 0, -1, 1]\n",
    "    while q:\n",
    "        y, x = q.popleft()\n",
    "        for d in range(4):\n",
    "            ny = y + dy[d]\n",
    "            nx = x + dx[d]\n",
    "            if 0 <= ny < N and 0 <= nx < N and visited[ny][nx] > visited[y][x] + maps[ny][nx]:\n",
    "                visited[ny][nx] = visited[y][x] + maps[ny][nx]\n",
    "                q.append([ny, nx])\n",
    "    print(f'Problem {tc}: {visited[N - 1][N - 1]}')\n",
    "    tc += 1"
   ]
  }
 ],
 "metadata": {
  "kernelspec": {
   "display_name": "Python 3",
   "language": "python",
   "name": "python3"
  },
  "language_info": {
   "codemirror_mode": {
    "name": "ipython",
    "version": 3
   },
   "file_extension": ".py",
   "mimetype": "text/x-python",
   "name": "python",
   "nbconvert_exporter": "python",
   "pygments_lexer": "ipython3",
   "version": "3.7.4"
  }
 },
 "nbformat": 4,
 "nbformat_minor": 2
}
