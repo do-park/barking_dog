{
 "cells": [
  {
   "cell_type": "code",
   "execution_count": null,
   "metadata": {},
   "outputs": [],
   "source": [
    "# 10828 스택"
   ]
  },
  {
   "cell_type": "code",
   "execution_count": 1,
   "metadata": {},
   "outputs": [
    {
     "name": "stdout",
     "output_type": "stream",
     "text": [
      "7\n"
     ]
    },
    {
     "ename": "IndexError",
     "evalue": "list index out of range",
     "output_type": "error",
     "traceback": [
      "\u001b[1;31m---------------------------------------------------------------------------\u001b[0m",
      "\u001b[1;31mIndexError\u001b[0m                                Traceback (most recent call last)",
      "\u001b[1;32m<ipython-input-1-165fd1da7678>\u001b[0m in \u001b[0;36m<module>\u001b[1;34m\u001b[0m\n\u001b[0;32m      6\u001b[0m \u001b[1;32mfor\u001b[0m \u001b[0mi\u001b[0m \u001b[1;32min\u001b[0m \u001b[0mrange\u001b[0m\u001b[1;33m(\u001b[0m\u001b[1;36m0\u001b[0m\u001b[1;33m,\u001b[0m \u001b[0mN\u001b[0m\u001b[1;33m)\u001b[0m\u001b[1;33m:\u001b[0m\u001b[1;33m\u001b[0m\u001b[1;33m\u001b[0m\u001b[0m\n\u001b[0;32m      7\u001b[0m     \u001b[0mcmd\u001b[0m \u001b[1;33m=\u001b[0m \u001b[0msys\u001b[0m\u001b[1;33m.\u001b[0m\u001b[0mstdin\u001b[0m\u001b[1;33m.\u001b[0m\u001b[0mreadline\u001b[0m\u001b[1;33m(\u001b[0m\u001b[1;33m)\u001b[0m\u001b[1;33m.\u001b[0m\u001b[0msplit\u001b[0m\u001b[1;33m(\u001b[0m\u001b[1;33m)\u001b[0m\u001b[1;33m\u001b[0m\u001b[1;33m\u001b[0m\u001b[0m\n\u001b[1;32m----> 8\u001b[1;33m     \u001b[1;32mif\u001b[0m \u001b[0mcmd\u001b[0m\u001b[1;33m[\u001b[0m\u001b[1;36m0\u001b[0m\u001b[1;33m]\u001b[0m \u001b[1;33m==\u001b[0m \u001b[1;34m'push'\u001b[0m\u001b[1;33m:\u001b[0m\u001b[1;33m\u001b[0m\u001b[1;33m\u001b[0m\u001b[0m\n\u001b[0m\u001b[0;32m      9\u001b[0m         \u001b[0mmy_stack\u001b[0m\u001b[1;33m.\u001b[0m\u001b[0mappend\u001b[0m\u001b[1;33m(\u001b[0m\u001b[0mcmd\u001b[0m\u001b[1;33m[\u001b[0m\u001b[1;36m1\u001b[0m\u001b[1;33m]\u001b[0m\u001b[1;33m)\u001b[0m\u001b[1;33m\u001b[0m\u001b[1;33m\u001b[0m\u001b[0m\n\u001b[0;32m     10\u001b[0m     \u001b[1;32melif\u001b[0m \u001b[0mcmd\u001b[0m\u001b[1;33m[\u001b[0m\u001b[1;36m0\u001b[0m\u001b[1;33m]\u001b[0m \u001b[1;33m==\u001b[0m \u001b[1;34m'pop'\u001b[0m\u001b[1;33m:\u001b[0m\u001b[1;33m\u001b[0m\u001b[1;33m\u001b[0m\u001b[0m\n",
      "\u001b[1;31mIndexError\u001b[0m: list index out of range"
     ]
    }
   ],
   "source": [
    "import sys\n",
    "\n",
    "N = int(input())\n",
    "my_stack = []\n",
    "\n",
    "for i in range(0, N):\n",
    "    cmd = sys.stdin.readline().split()\n",
    "    if cmd[0] == 'push':\n",
    "        my_stack.append(cmd[1])\n",
    "    elif cmd[0] == 'pop':\n",
    "        if len(my_stack):\n",
    "            print(my_stack.pop())\n",
    "        else:\n",
    "            print(-1)\n",
    "    elif cmd[0] == 'size':\n",
    "        print(len(my_stack))\n",
    "    elif cmd[0] == 'empty':\n",
    "        if len(my_stack):\n",
    "            print(0)\n",
    "        else:\n",
    "            print(1)\n",
    "    elif cmd[0] == 'top':\n",
    "        if len(my_stack):\n",
    "            print(my_stack[-1])\n",
    "        else:\n",
    "            print(-1)"
   ]
  },
  {
   "cell_type": "code",
   "execution_count": null,
   "metadata": {},
   "outputs": [],
   "source": [
    "# 10845 큐"
   ]
  },
  {
   "cell_type": "code",
   "execution_count": null,
   "metadata": {},
   "outputs": [],
   "source": [
    "import sys\n",
    "from collections import deque\n",
    "\n",
    "Q = deque()\n",
    "for n in range(0, int(input())):\n",
    "    cmd = sys.stdin.readline().split()\n",
    "    if cmd[0] == 'push':\n",
    "        Q.append(cmd[1])\n",
    "    elif cmd[0] == 'pop':\n",
    "        if Q:\n",
    "            print(Q.popleft())\n",
    "        else:\n",
    "            print(-1)\n",
    "    elif cmd[0] == 'size':\n",
    "        print(len(Q))\n",
    "    elif cmd[0] == 'empty':\n",
    "        if Q:\n",
    "            print(0)\n",
    "        else:\n",
    "            print(1)\n",
    "    elif cmd[0] == 'front':\n",
    "        if Q:\n",
    "            print(Q[0])\n",
    "        else:\n",
    "            print(-1)\n",
    "    elif cmd[0] == 'back':\n",
    "        if Q:\n",
    "            print(Q[-1])\n",
    "        else:\n",
    "            print(-1)"
   ]
  },
  {
   "cell_type": "code",
   "execution_count": null,
   "metadata": {},
   "outputs": [],
   "source": [
    "# 10866 덱"
   ]
  },
  {
   "cell_type": "code",
   "execution_count": null,
   "metadata": {},
   "outputs": [],
   "source": [
    "import sys\n",
    "from collections import deque\n",
    "\n",
    "deq = deque()\n",
    "for n in range(0, int(input())):\n",
    "    cmd = sys.stdin.readline().split()\n",
    "    if cmd[0] == 'push_front':\n",
    "        deq.appendleft(cmd[1])\n",
    "    elif cmd[0] == 'push_back':\n",
    "        deq.append(cmd[1])\n",
    "    elif cmd[0] == 'pop_front':\n",
    "        if deq:\n",
    "            print(deq.popleft())\n",
    "        else:\n",
    "            print(-1)\n",
    "    elif cmd[0] == 'pop_back':\n",
    "        if deq:\n",
    "            print(deq.pop())\n",
    "        else:\n",
    "            print(-1)\n",
    "    elif cmd[0] == 'size':\n",
    "        print(len(deq))\n",
    "    elif cmd[0] == 'empty':\n",
    "        if deq:\n",
    "            print(0)\n",
    "        else:\n",
    "            print(1)\n",
    "    elif cmd[0] == 'front':\n",
    "        if deq:\n",
    "            print(deq[0])\n",
    "        else:\n",
    "            print(-1)\n",
    "    elif cmd[0] == 'back':\n",
    "        if deq:\n",
    "            print(deq[-1])\n",
    "        else:\n",
    "            print(-1)"
   ]
  },
  {
   "cell_type": "code",
   "execution_count": null,
   "metadata": {},
   "outputs": [],
   "source": [
    "# 1874 스택 수열"
   ]
  },
  {
   "cell_type": "code",
   "execution_count": null,
   "metadata": {},
   "outputs": [],
   "source": [
    "class Stack():\n",
    "    def __init__(self):\n",
    "        self.num_list = []\n",
    "        self.plus_minus = []\n",
    " \n",
    "    def push(self, num):\n",
    "        self.num_list.append(num)\n",
    "        self.plus_minus.append('+')\n",
    " \n",
    "    def pop(self):\n",
    "        if len(self.num_list) != 0:\n",
    "            self.plus_minus.append('-')\n",
    "            return self.num_list.pop()\n",
    "        else:\n",
    "            return -1\n",
    " \n",
    "    def size(self):\n",
    "        return len(self.num_list)\n",
    " \n",
    "    def empty(self):\n",
    "        if len(self.num_list) == 0:\n",
    "            return 1\n",
    "        else:\n",
    "            return 0\n",
    " \n",
    "    def top(self):\n",
    "        if len(self.num_list) != 0:\n",
    "            return self.num_list[-1]\n",
    "        else:\n",
    "            return -1\n",
    " \n",
    "stack = Stack()\n",
    "count = 1\n",
    "possibility = True\n",
    "for i in range(int(input())):\n",
    "    num = int(input())\n",
    "    while count <= num:\n",
    "        stack.push(count)\n",
    "        count += 1\n",
    "    if stack.num_list[-1] == num:\n",
    "        stack.pop()\n",
    "    else:\n",
    "        possibility = False\n",
    "        break\n",
    " \n",
    "if possibility == False:\n",
    "    print('NO')\n",
    "else:\n",
    "    for k in stack.plus_minus:\n",
    "        print(k)"
   ]
  },
  {
   "cell_type": "code",
   "execution_count": null,
   "metadata": {},
   "outputs": [],
   "source": [
    "# 1021 회전하는 큐"
   ]
  },
  {
   "cell_type": "code",
   "execution_count": null,
   "metadata": {},
   "outputs": [],
   "source": [
    "def move(p, num):\n",
    "    right = 0\n",
    "    left = 0\n",
    "    while True:\n",
    "        if deq[p] == num:\n",
    "            left = len(deq) - right\n",
    "            break\n",
    "        else:\n",
    "            right += 1\n",
    "            p += 1\n",
    "    if right < left:\n",
    "        if len(deq) == 0:\n",
    "            return 0, right\n",
    "        return p, right\n",
    "    else:\n",
    "        if len(deq) == 0:\n",
    "            return 0, left\n",
    "        return p, left\n",
    "\n",
    "N, M = map(int, input().split())\n",
    "number = list(map(int, input().split()))\n",
    "deq = [n for n in range(1, N + 1)]\n",
    "result = 0\n",
    "for num in number:\n",
    "    pointer, count = move(0, num)\n",
    "    temp = deq[pointer + 1:] + deq[:pointer]\n",
    "    deq = temp\n",
    "    result += count\n",
    "print(result)"
   ]
  },
  {
   "cell_type": "code",
   "execution_count": null,
   "metadata": {},
   "outputs": [],
   "source": [
    "# 5430 AC"
   ]
  },
  {
   "cell_type": "code",
   "execution_count": null,
   "metadata": {},
   "outputs": [],
   "source": [
    "from collections import deque\n",
    "\n",
    "T = int(input())\n",
    "for tc in range(T):\n",
    "    P = list(map(str, input()))\n",
    "    N = int(input())\n",
    "    temp = list(map(str, input()))\n",
    "    arr = deque()\n",
    "    n = ''\n",
    "    for t in temp:\n",
    "        if t not in ['[', ']', ' ', ',']:\n",
    "            n += t\n",
    "        else:\n",
    "            if n:\n",
    "                arr.append(n)\n",
    "                n = ''\n",
    "    flag = 1\n",
    "    R = 0\n",
    "    for p in P:\n",
    "        if p == 'R':\n",
    "            if R:\n",
    "                R = 0\n",
    "            else:\n",
    "                R = 1\n",
    "        if p == 'D':\n",
    "            if arr:\n",
    "                if R:\n",
    "                    arr.pop()\n",
    "                else:\n",
    "                    arr.popleft()\n",
    "            else:\n",
    "                flag = 0\n",
    "                break\n",
    "    if flag:\n",
    "        if R:\n",
    "            arr.reverse()\n",
    "        print('[', end='')\n",
    "        print(*arr, sep=',', end='')\n",
    "        print(']')\n",
    "    else:\n",
    "        print('error')"
   ]
  },
  {
   "cell_type": "code",
   "execution_count": null,
   "metadata": {},
   "outputs": [],
   "source": [
    "# 9012 괄호"
   ]
  },
  {
   "cell_type": "code",
   "execution_count": 2,
   "metadata": {},
   "outputs": [
    {
     "name": "stdout",
     "output_type": "stream",
     "text": [
      "6\n",
      "(())())\n",
      "NO\n",
      "(((()())()\n",
      "NO\n",
      "(()())((()))\n",
      "YES\n",
      "((()()(()))(((())))()\n",
      "NO\n",
      "()()()()(()()())()\n",
      "YES\n",
      "(()((())()(\n",
      "NO\n"
     ]
    }
   ],
   "source": [
    "T = int(input())\n",
    "\n",
    "for tc in range(T):\n",
    "    S = list(map(str, input()))\n",
    "    stack =[]\n",
    "    for s in S:\n",
    "        if s == '(':\n",
    "            stack.append(s)\n",
    "        elif s == ')':\n",
    "            if len(stack) == 0:\n",
    "                print('NO')\n",
    "                break\n",
    "            else:\n",
    "                del stack[-1]\n",
    "\n",
    "    else:\n",
    "        print('YES') if len(stack) == 0 else print('NO')"
   ]
  }
 ],
 "metadata": {
  "kernelspec": {
   "display_name": "Python 3",
   "language": "python",
   "name": "python3"
  },
  "language_info": {
   "codemirror_mode": {
    "name": "ipython",
    "version": 3
   },
   "file_extension": ".py",
   "mimetype": "text/x-python",
   "name": "python",
   "nbconvert_exporter": "python",
   "pygments_lexer": "ipython3",
   "version": "3.7.4"
  }
 },
 "nbformat": 4,
 "nbformat_minor": 2
}
