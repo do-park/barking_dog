{
 "cells": [
  {
   "cell_type": "code",
   "execution_count": null,
   "metadata": {
    "collapsed": true
   },
   "outputs": [],
   "source": [
    "# 10808 알파벳 개수"
   ]
  },
  {
   "cell_type": "code",
   "execution_count": 1,
   "metadata": {},
   "outputs": [
    {
     "name": "stdout",
     "output_type": "stream",
     "text": [
      "baekjoon\n",
      "1 1 0 0 1 0 0 0 0 1 1 0 0 1 2 0 0 0 0 0 0 0 0 0 0 0 "
     ]
    }
   ],
   "source": [
    "alpha = [0] * 26\n",
    "\n",
    "S = list(map(str, input()))\n",
    "\n",
    "for i in range(len(S)):\n",
    "    alpha[ord(S[i]) - 97] += 1\n",
    "\n",
    "for i in range(26):\n",
    "    print(alpha[i], end=' ')"
   ]
  },
  {
   "cell_type": "code",
   "execution_count": null,
   "metadata": {
    "collapsed": true
   },
   "outputs": [],
   "source": [
    "# 10807 개수 세기"
   ]
  },
  {
   "cell_type": "code",
   "execution_count": 2,
   "metadata": {},
   "outputs": [
    {
     "name": "stdout",
     "output_type": "stream",
     "text": [
      "11\n",
      "1 4 1 2 4 2 4 2 3 4 4\n",
      "2\n",
      "3\n"
     ]
    }
   ],
   "source": [
    "N = int(input())\n",
    "num = list(map(int, input().split()))\n",
    "V = int(input())\n",
    "cnt = 0\n",
    "for n in num:\n",
    "    if V == n:\n",
    "        cnt += 1\n",
    "\n",
    "print(cnt)"
   ]
  },
  {
   "cell_type": "code",
   "execution_count": null,
   "metadata": {
    "collapsed": true
   },
   "outputs": [],
   "source": [
    "# 1406 에디터"
   ]
  },
  {
   "cell_type": "code",
   "execution_count": null,
   "metadata": {
    "collapsed": true
   },
   "outputs": [],
   "source": []
  },
  {
   "cell_type": "code",
   "execution_count": null,
   "metadata": {
    "collapsed": true
   },
   "outputs": [],
   "source": [
    "# 2577 숫자의 개수"
   ]
  },
  {
   "cell_type": "code",
   "execution_count": 3,
   "metadata": {},
   "outputs": [
    {
     "name": "stdout",
     "output_type": "stream",
     "text": [
      "150\n",
      "266\n",
      "427\n",
      "3\n",
      "1\n",
      "0\n",
      "2\n",
      "0\n",
      "0\n",
      "0\n",
      "2\n",
      "0\n",
      "0\n"
     ]
    }
   ],
   "source": [
    "A = int(input())\n",
    "B = int(input())\n",
    "C = int(input())\n",
    "result = A * B * C\n",
    "ans = [0] * 10\n",
    "while result:\n",
    "    ans[result % 10] += 1\n",
    "    result //= 10\n",
    "\n",
    "for i in range(10):\n",
    "    print(ans[i])"
   ]
  },
  {
   "cell_type": "code",
   "execution_count": null,
   "metadata": {
    "collapsed": true
   },
   "outputs": [],
   "source": [
    "# 11328 Strfry"
   ]
  },
  {
   "cell_type": "code",
   "execution_count": 4,
   "metadata": {},
   "outputs": [
    {
     "name": "stdout",
     "output_type": "stream",
     "text": [
      "4\n",
      "a a\n",
      "Possible\n",
      "ab ba\n",
      "Possible\n",
      "ring gnir\n",
      "Possible\n",
      "newt twan\n",
      "Impossible\n"
     ]
    }
   ],
   "source": [
    "N = int(input())\n",
    "for n in range(N):\n",
    "    str1, str2 = input().split()\n",
    "    str1 = sorted(str1)\n",
    "    str2 = sorted(str2)\n",
    "\n",
    "    if len(str1) != len(str2):\n",
    "        flag = 0\n",
    "    else:\n",
    "        for i in range(len(str1)):\n",
    "            if str1[i] != str2[i]:\n",
    "                flag = 0\n",
    "                break\n",
    "        else:\n",
    "            flag = 1\n",
    "    if flag:\n",
    "        print('Possible')\n",
    "    else:\n",
    "        print('Impossible')"
   ]
  },
  {
   "cell_type": "code",
   "execution_count": null,
   "metadata": {
    "collapsed": true
   },
   "outputs": [],
   "source": [
    "# 13300 방 배정"
   ]
  },
  {
   "cell_type": "code",
   "execution_count": 5,
   "metadata": {},
   "outputs": [
    {
     "name": "stdout",
     "output_type": "stream",
     "text": [
      "3 3\n",
      "0 3\n",
      "1 5\n",
      "0 6\n",
      "3\n"
     ]
    }
   ],
   "source": [
    "N, K = map(int, input().split())\n",
    "student = [[0] * 2 for _ in range(7)]\n",
    "for n in range(N):\n",
    "    gender, grade = map(int, input().split())\n",
    "    student[grade][gender] += 1\n",
    "result = 0\n",
    "for i in range(1, 7):\n",
    "    for j in range(2):\n",
    "        cnt = student[i][j] // K\n",
    "        if student[i][j] % K:\n",
    "            cnt += 1\n",
    "        result += cnt\n",
    "print(result)"
   ]
  },
  {
   "cell_type": "code",
   "execution_count": null,
   "metadata": {
    "collapsed": true
   },
   "outputs": [],
   "source": [
    "# 1475 방 번호"
   ]
  },
  {
   "cell_type": "code",
   "execution_count": 6,
   "metadata": {},
   "outputs": [
    {
     "name": "stdout",
     "output_type": "stream",
     "text": [
      "9999\n",
      "2\n"
     ]
    }
   ],
   "source": [
    "N = list(map(int, input()))\n",
    "num = [0] * 10\n",
    "for n in N:\n",
    "    num[n] += 1\n",
    "num[6] = (num[6] + num[9]) // 2 + 1 if (num[6] + num[9]) % 2 else (num[6] + num[9]) // 2\n",
    "num[9] = 0\n",
    "print(max(num))"
   ]
  },
  {
   "cell_type": "code",
   "execution_count": null,
   "metadata": {
    "collapsed": true
   },
   "outputs": [],
   "source": [
    "# 1158 요세푸스 문제"
   ]
  },
  {
   "cell_type": "code",
   "execution_count": 7,
   "metadata": {},
   "outputs": [
    {
     "name": "stdout",
     "output_type": "stream",
     "text": [
      "7 3\n",
      "<3, 6, 2, 7, 5, 1, 4>\n"
     ]
    }
   ],
   "source": [
    "N, K = map(int, input().split())\n",
    "num = list(range(1, N + 1))\n",
    "result = []\n",
    "k = K - 1\n",
    "while True:\n",
    "    result.append(num.pop(k))\n",
    "    if not num:\n",
    "        break\n",
    "    k = (k + K - 1) % len(num)\n",
    "print('<' + ', '.join(map(str, result)) + '>')"
   ]
  },
  {
   "cell_type": "code",
   "execution_count": null,
   "metadata": {
    "collapsed": true
   },
   "outputs": [],
   "source": [
    "# 5397 키로거"
   ]
  },
  {
   "cell_type": "code",
   "execution_count": null,
   "metadata": {
    "collapsed": true
   },
   "outputs": [],
   "source": []
  },
  {
   "cell_type": "code",
   "execution_count": null,
   "metadata": {
    "collapsed": true
   },
   "outputs": [],
   "source": [
    "# 1717 애너그램 만들기"
   ]
  },
  {
   "cell_type": "code",
   "execution_count": 8,
   "metadata": {},
   "outputs": [
    {
     "name": "stdout",
     "output_type": "stream",
     "text": [
      "aabbcc\n",
      "xxyybb\n",
      "8\n"
     ]
    }
   ],
   "source": [
    "a = input()\n",
    "b = input()\n",
    "A = [0] * 26\n",
    "B = [0] * 26\n",
    "for s in a:\n",
    "    A[ord(s) - ord('a')] += 1\n",
    "for s in b:\n",
    "    B[ord(s) - ord('a')] += 1\n",
    "result = 0\n",
    "for i in range(26):\n",
    "    result += abs(A[i] - B[i])\n",
    "print(result)"
   ]
  }
 ],
 "metadata": {
  "kernelspec": {
   "display_name": "Python 3",
   "language": "python",
   "name": "python3"
  },
  "language_info": {
   "codemirror_mode": {
    "name": "ipython",
    "version": 3
   },
   "file_extension": ".py",
   "mimetype": "text/x-python",
   "name": "python",
   "nbconvert_exporter": "python",
   "pygments_lexer": "ipython3",
   "version": "3.8.2"
  }
 },
 "nbformat": 4,
 "nbformat_minor": 2
}
