{
 "cells": [
  {
   "cell_type": "code",
   "execution_count": null,
   "metadata": {},
   "outputs": [],
   "source": [
    "# 1629 곱셈"
   ]
  },
  {
   "cell_type": "code",
   "execution_count": 3,
   "metadata": {},
   "outputs": [
    {
     "name": "stdout",
     "output_type": "stream",
     "text": [
      "10 11 12\n",
      "4\n"
     ]
    }
   ],
   "source": [
    "def recursive(a, b, c):\n",
    "    if not b:\n",
    "        return 1\n",
    "    res = recursive(a, b//2, c)\n",
    "    res = res * res % c\n",
    "    if b % 2:\n",
    "        return res * a % c\n",
    "    else:\n",
    "        return res\n",
    "\n",
    "A, B, C = map(int, input().split())\n",
    "print(recursive(A, B, C))"
   ]
  },
  {
   "cell_type": "code",
   "execution_count": null,
   "metadata": {},
   "outputs": [],
   "source": [
    "# 11729 하노이 탑 이동 순서"
   ]
  },
  {
   "cell_type": "code",
   "execution_count": 1,
   "metadata": {},
   "outputs": [
    {
     "name": "stdout",
     "output_type": "stream",
     "text": [
      "3\n",
      "7\n",
      "1 3\n",
      "1 2\n",
      "3 2\n",
      "1 3\n",
      "2 1\n",
      "2 3\n",
      "1 3\n"
     ]
    }
   ],
   "source": [
    "def hanoi(n, start, temp, end):\n",
    "    if n == 1:\n",
    "        print(start, end)\n",
    "    else:\n",
    "        hanoi(n - 1, start, end, temp)\n",
    "        print(start, end)\n",
    "        hanoi(n -1, temp, start, end)\n",
    "\n",
    "N = int(input())\n",
    "result = 0\n",
    "i = 0\n",
    "while i < N :\n",
    "    result = 2 * result + 1\n",
    "    i += 1\n",
    "print(result)\n",
    "hanoi(N, 1, 2, 3)"
   ]
  },
  {
   "cell_type": "code",
   "execution_count": null,
   "metadata": {},
   "outputs": [],
   "source": [
    "# 1074 Z"
   ]
  },
  {
   "cell_type": "code",
   "execution_count": 2,
   "metadata": {},
   "outputs": [
    {
     "name": "stdout",
     "output_type": "stream",
     "text": [
      "3 7 7\n",
      "63\n"
     ]
    }
   ],
   "source": [
    "def z(N, R, C, res):\n",
    "    if N == 1:\n",
    "        if R == 0 and C == 0:\n",
    "            return res\n",
    "        elif R == 0 and C == 1:\n",
    "            return res + 1\n",
    "        elif R == 1 and C == 0:\n",
    "            return res + 2\n",
    "        else:\n",
    "            return res + 3\n",
    "    else:\n",
    "        n = 2 ** (N - 1)\n",
    "        if C >= n:\n",
    "            res += n ** 2\n",
    "            C -= n\n",
    "        if R >= n:\n",
    "            res += (n ** 2) * 2\n",
    "            R -= n\n",
    "        return z(N - 1, R, C, res)\n",
    "\n",
    "\n",
    "N, R, C = map(int, input().split())\n",
    "print(z(N, R, C, 0))"
   ]
  },
  {
   "cell_type": "code",
   "execution_count": null,
   "metadata": {},
   "outputs": [],
   "source": [
    "# 2447 별 찍기 - 10"
   ]
  },
  {
   "cell_type": "code",
   "execution_count": 1,
   "metadata": {},
   "outputs": [
    {
     "name": "stdout",
     "output_type": "stream",
     "text": [
      "27\n",
      "***************************\n",
      "* ** ** ** ** ** ** ** ** *\n",
      "***************************\n",
      "***   ******   ******   ***\n",
      "* *   * ** *   * ** *   * *\n",
      "***   ******   ******   ***\n",
      "***************************\n",
      "* ** ** ** ** ** ** ** ** *\n",
      "***************************\n",
      "*********         *********\n",
      "* ** ** *         * ** ** *\n",
      "*********         *********\n",
      "***   ***         ***   ***\n",
      "* *   * *         * *   * *\n",
      "***   ***         ***   ***\n",
      "*********         *********\n",
      "* ** ** *         * ** ** *\n",
      "*********         *********\n",
      "***************************\n",
      "* ** ** ** ** ** ** ** ** *\n",
      "***************************\n",
      "***   ******   ******   ***\n",
      "* *   * ** *   * ** *   * *\n",
      "***   ******   ******   ***\n",
      "***************************\n",
      "* ** ** ** ** ** ** ** ** *\n",
      "***************************\n"
     ]
    }
   ],
   "source": [
    "def star(y, x, M):\n",
    "    if (y // M) % 3 == 1 and (x // M) % 3 == 1:\n",
    "        print(' ', end='')\n",
    "        return\n",
    "    else:\n",
    "        if M // 3 == 0:\n",
    "            print('*', end='')\n",
    "            return\n",
    "        else:\n",
    "            star(y, x, M // 3)\n",
    "\n",
    "N = int(input())\n",
    "for i in range(N):\n",
    "    for j in range(N):\n",
    "        star(i, j, N)\n",
    "    print()"
   ]
  },
  {
   "cell_type": "code",
   "execution_count": null,
   "metadata": {},
   "outputs": [],
   "source": [
    "# 2448 별 찍기 - 11"
   ]
  },
  {
   "cell_type": "code",
   "execution_count": null,
   "metadata": {},
   "outputs": [],
   "source": []
  },
  {
   "cell_type": "code",
   "execution_count": null,
   "metadata": {},
   "outputs": [],
   "source": [
    "# 1992 쿼드트리"
   ]
  },
  {
   "cell_type": "code",
   "execution_count": 4,
   "metadata": {},
   "outputs": [
    {
     "name": "stdout",
     "output_type": "stream",
     "text": [
      "8\n",
      "11110000\n",
      "11110000\n",
      "00011100\n",
      "00011100\n",
      "11110000\n",
      "11110000\n",
      "11110011\n",
      "11110011\n",
      "((110(0101))(0010)1(0001))\n"
     ]
    }
   ],
   "source": [
    "def zip(Y, X, M):\n",
    "    global result\n",
    "    stnd = maps[Y][X]\n",
    "    for i in range(Y, Y + M):\n",
    "        for j in range(X, X + M):\n",
    "            if maps[i][j] != stnd:\n",
    "                result += '('\n",
    "                m = M // 2\n",
    "                zip(Y, X, m)\n",
    "                zip(Y, X + m, m)\n",
    "                zip(Y + m, X, m)\n",
    "                zip(Y + m, X + m, m)\n",
    "                result += ')'\n",
    "                return\n",
    "    else:\n",
    "        result += str(stnd)\n",
    "        return\n",
    "\n",
    "N = int(input())\n",
    "maps = [list(map(int, input())) for _ in range(N)]\n",
    "result = ''\n",
    "zip(0, 0, N)\n",
    "print(result)"
   ]
  },
  {
   "cell_type": "code",
   "execution_count": null,
   "metadata": {},
   "outputs": [],
   "source": [
    "# 16684 하노삼의 탑"
   ]
  },
  {
   "cell_type": "code",
   "execution_count": null,
   "metadata": {},
   "outputs": [],
   "source": []
  }
 ],
 "metadata": {
  "kernelspec": {
   "display_name": "Python 3",
   "language": "python",
   "name": "python3"
  },
  "language_info": {
   "codemirror_mode": {
    "name": "ipython",
    "version": 3
   },
   "file_extension": ".py",
   "mimetype": "text/x-python",
   "name": "python",
   "nbconvert_exporter": "python",
   "pygments_lexer": "ipython3",
   "version": "3.7.4"
  }
 },
 "nbformat": 4,
 "nbformat_minor": 2
}
