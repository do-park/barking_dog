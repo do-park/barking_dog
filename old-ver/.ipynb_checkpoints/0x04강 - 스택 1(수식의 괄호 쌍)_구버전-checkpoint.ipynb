{
 "cells": [
  {
   "cell_type": "code",
   "execution_count": null,
   "metadata": {},
   "outputs": [],
   "source": [
    "# 9012 괄호"
   ]
  },
  {
   "cell_type": "code",
   "execution_count": null,
   "metadata": {},
   "outputs": [],
   "source": [
    "T = int(input())\n",
    "\n",
    "for tc in range(T):\n",
    "    S = list(map(str, input()))\n",
    "    stack =[]\n",
    "    for s in S:\n",
    "        if s == '(':\n",
    "            stack.append(s)\n",
    "        elif s == ')':\n",
    "            if len(stack) == 0:\n",
    "                print('NO')\n",
    "                break\n",
    "            else:\n",
    "                del stack[-1]\n",
    "\n",
    "    else:\n",
    "        print('YES') if len(stack) == 0 else print('NO')"
   ]
  },
  {
   "cell_type": "code",
   "execution_count": null,
   "metadata": {},
   "outputs": [],
   "source": [
    "# 10799 쇠막대기"
   ]
  },
  {
   "cell_type": "code",
   "execution_count": null,
   "metadata": {},
   "outputs": [],
   "source": [
    "pipe = list(map(str, input()))\n",
    "stack = []\n",
    "result = 0\n",
    "for p in range(0, len(pipe)):\n",
    "    if pipe[p] == '(':\n",
    "        stack.append(1)\n",
    "    else:\n",
    "        stack.pop()\n",
    "        if pipe[p - 1] == '(':\n",
    "            result += len(stack)\n",
    "        else:\n",
    "            result += 1\n",
    "print(result)"
   ]
  },
  {
   "cell_type": "code",
   "execution_count": null,
   "metadata": {},
   "outputs": [],
   "source": [
    "# 2504 괄호의 값"
   ]
  },
  {
   "cell_type": "code",
   "execution_count": null,
   "metadata": {},
   "outputs": [],
   "source": [
    "cmd = list(map(str, input()))\n",
    "stack = []\n",
    "result = 0\n",
    "for i in range(len(cmd)):\n",
    "    if cmd[i] == ')':\n",
    "        temp = 0\n",
    "        while stack:\n",
    "            if stack[-1] == '(':\n",
    "                stack.pop()\n",
    "                if temp == 0:\n",
    "                    stack.append(2)\n",
    "                    break\n",
    "                else:\n",
    "                    stack.append(2 * temp)\n",
    "                    break\n",
    "            elif stack[-1] == '[':\n",
    "                result = -1\n",
    "                break\n",
    "            else:\n",
    "                temp += stack.pop()\n",
    "    elif cmd[i] == ']':\n",
    "        temp = 0\n",
    "        while stack:\n",
    "            if stack[-1] == '[':\n",
    "                stack.pop()\n",
    "                if temp == 0:\n",
    "                    stack.append(3)\n",
    "                    break\n",
    "                else:\n",
    "                    stack.append(3 * temp)\n",
    "                    break\n",
    "            elif stack[-1] == '(':\n",
    "                result = -1\n",
    "                break\n",
    "            else:\n",
    "                temp += stack.pop()\n",
    "    else:\n",
    "        stack.append(cmd[i])\n",
    "\n",
    "if result:\n",
    "    print(0)\n",
    "else:\n",
    "    for s in stack:\n",
    "        if s == \"(\" or s ==\"[\":\n",
    "            print(0)\n",
    "            break\n",
    "        else:\n",
    "            result += s\n",
    "    else:\n",
    "        print(result)"
   ]
  },
  {
   "cell_type": "code",
   "execution_count": null,
   "metadata": {},
   "outputs": [],
   "source": [
    "# 2493 탑"
   ]
  },
  {
   "cell_type": "code",
   "execution_count": null,
   "metadata": {},
   "outputs": [],
   "source": [
    "N = int(input())\n",
    "tower = list(map(int, input().split()))\n",
    "receiver = [0] * N\n",
    "stack = []\n",
    "for i in range(N-1, -1, -1):\n",
    "    while stack and tower[stack[-1]] <= tower[i]:\n",
    "        receiver[stack.pop()] = i + 1\n",
    "    stack.append(i)\n",
    "print(*receiver)"
   ]
  }
 ],
 "metadata": {
  "kernelspec": {
   "display_name": "Python 3",
   "language": "python",
   "name": "python3"
  },
  "language_info": {
   "codemirror_mode": {
    "name": "ipython",
    "version": 3
   },
   "file_extension": ".py",
   "mimetype": "text/x-python",
   "name": "python",
   "nbconvert_exporter": "python",
   "pygments_lexer": "ipython3",
   "version": "3.7.4"
  }
 },
 "nbformat": 4,
 "nbformat_minor": 2
}
