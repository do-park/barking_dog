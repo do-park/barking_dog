{
 "cells": [
  {
   "cell_type": "code",
   "execution_count": null,
   "metadata": {},
   "outputs": [],
   "source": [
    "# 1920 수 찾기"
   ]
  },
  {
   "cell_type": "code",
   "execution_count": 1,
   "metadata": {},
   "outputs": [
    {
     "name": "stdout",
     "output_type": "stream",
     "text": [
      "5\n",
      "4 1 5 2 3\n",
      "5\n",
      "1 3 7 9 5\n",
      "1\n",
      "1\n",
      "0\n",
      "0\n",
      "1\n"
     ]
    }
   ],
   "source": [
    "N = int(input())\n",
    "A = list(map(int, input().split()))\n",
    "A.sort()\n",
    "M = int(input())\n",
    "numbers = list(map(int, input().split()))\n",
    "for number in numbers:\n",
    "    flag = 0\n",
    "    start = 0\n",
    "    end = N - 1\n",
    "    while start <= end:\n",
    "        mid = (start + end) // 2\n",
    "        if A[mid] < number:\n",
    "            start = mid + 1\n",
    "        elif A[mid] > number:\n",
    "            end = mid - 1\n",
    "        else:\n",
    "            flag = 1\n",
    "            break\n",
    "    print(flag)"
   ]
  },
  {
   "cell_type": "code",
   "execution_count": null,
   "metadata": {},
   "outputs": [],
   "source": [
    "# 10816 숫자 카드 2"
   ]
  },
  {
   "cell_type": "code",
   "execution_count": 2,
   "metadata": {},
   "outputs": [
    {
     "name": "stdout",
     "output_type": "stream",
     "text": [
      "10\n",
      "6 3 2 10 10 10 -10 -10 7 3\n",
      "8\n",
      "10 9 -5 2 3 4 5 -10\n",
      "3 0 0 1 2 0 0 2 "
     ]
    }
   ],
   "source": [
    "def upper_bound(arr, target, size):\n",
    "    start, end = 0, size\n",
    "    while start < end:\n",
    "        mid = (start + end) // 2\n",
    "        if arr[mid] > target:\n",
    "            end = mid\n",
    "        else:\n",
    "            start = mid + 1\n",
    "    return end\n",
    "\n",
    "def lower_bound(arr, target, size):\n",
    "    start, end = 0, size\n",
    "    while start < end:\n",
    "        mid = (start + end) // 2\n",
    "        if arr[mid] >= target:\n",
    "            end = mid\n",
    "        else:\n",
    "            start = mid + 1\n",
    "    return end\n",
    "\n",
    "N = int(input())\n",
    "A = sorted(list(map(int, input().split())))\n",
    "M = int(input())\n",
    "B = list(map(int, input().split()))\n",
    "for number in B:\n",
    "    U = upper_bound(A, number, N)\n",
    "    L = lower_bound(A, number, N)\n",
    "    if U == L:\n",
    "        if A[U - 1] == number:\n",
    "            print(1, end=' ')\n",
    "        else:\n",
    "            print(0, end=' ')\n",
    "    else:\n",
    "        print(U - L, end=' ')"
   ]
  },
  {
   "cell_type": "code",
   "execution_count": null,
   "metadata": {},
   "outputs": [],
   "source": [
    "# 10815 숫자 카드"
   ]
  },
  {
   "cell_type": "code",
   "execution_count": 2,
   "metadata": {},
   "outputs": [
    {
     "name": "stdout",
     "output_type": "stream",
     "text": [
      "5\n",
      "6 3 2 10 -10\n",
      "8\n",
      "10 9 -5 2 3 4 5 -10\n",
      "1 0 0 1 1 0 0 1 "
     ]
    }
   ],
   "source": [
    "N = int(input())\n",
    "A = list(map(int, input().split()))\n",
    "A.sort()\n",
    "M = int(input())\n",
    "numbers = list(map(int, input().split()))\n",
    "for number in numbers:\n",
    "    flag = 0\n",
    "    start = 0\n",
    "    end = N - 1\n",
    "    while start <= end:\n",
    "        mid = (start + end) // 2\n",
    "        if A[mid] < number:\n",
    "            start = mid + 1\n",
    "        elif A[mid] > number:\n",
    "            end = mid - 1\n",
    "        else:\n",
    "            flag = 1\n",
    "            break\n",
    "    print(flag, end=' ')"
   ]
  },
  {
   "cell_type": "code",
   "execution_count": null,
   "metadata": {},
   "outputs": [],
   "source": [
    "# 1822 차집합"
   ]
  },
  {
   "cell_type": "code",
   "execution_count": 1,
   "metadata": {},
   "outputs": [
    {
     "name": "stdout",
     "output_type": "stream",
     "text": [
      "4 3\n",
      "2 5 11 7\n",
      "9 7 4\n",
      "3\n",
      "2 5 11\n"
     ]
    }
   ],
   "source": [
    "a, b = map(int, input().split())\n",
    "A = set(list(map(int, input().split())))\n",
    "B = set(list(map(int, input().split())))\n",
    "C = list(A - B)\n",
    "C.sort()\n",
    "print(len(C))\n",
    "if len(C):\n",
    "    print(*C)"
   ]
  },
  {
   "cell_type": "code",
   "execution_count": null,
   "metadata": {},
   "outputs": [],
   "source": [
    "# 7453 합이 0인 네 정수"
   ]
  },
  {
   "cell_type": "code",
   "execution_count": null,
   "metadata": {},
   "outputs": [],
   "source": []
  },
  {
   "cell_type": "code",
   "execution_count": null,
   "metadata": {},
   "outputs": [],
   "source": [
    "# 2003 수들의 합 2"
   ]
  },
  {
   "cell_type": "code",
   "execution_count": 3,
   "metadata": {},
   "outputs": [
    {
     "name": "stdout",
     "output_type": "stream",
     "text": [
      "4 2\n",
      "1 1 1 1\n",
      "3\n"
     ]
    }
   ],
   "source": [
    "N, M = map(int, input().split())\n",
    "A = list(map(int, input().split()))\n",
    "start, end, total, count = 0, 0, 0, 0\n",
    "while True:\n",
    "    if total >= M:\n",
    "        total -= A[start]\n",
    "        start += 1\n",
    "    elif end == N:\n",
    "        break\n",
    "    else:\n",
    "        total += A[end]\n",
    "        end += 1\n",
    "    if total == M:\n",
    "        count += 1\n",
    "print(count)"
   ]
  },
  {
   "cell_type": "code",
   "execution_count": null,
   "metadata": {},
   "outputs": [],
   "source": [
    "# 2467 용액"
   ]
  },
  {
   "cell_type": "code",
   "execution_count": 4,
   "metadata": {},
   "outputs": [
    {
     "name": "stdout",
     "output_type": "stream",
     "text": [
      "5\n",
      "-99 -2 -1 4 98\n",
      "-99 98\n"
     ]
    }
   ],
   "source": [
    "N = int(input())\n",
    "A = sorted(list(map(int, input().split())))\n",
    "answer = 2000000000\n",
    "answer1, answer2 = 0, 0\n",
    "start, end = 0, N - 1\n",
    "while start < end:\n",
    "    result = A[start] + A[end]\n",
    "    if abs(result) < abs(answer):\n",
    "        answer = result\n",
    "        answer1, answer2 = A[start], A[end]\n",
    "        if result == 0:\n",
    "            break\n",
    "    if result < 0:\n",
    "        start += 1\n",
    "    elif result > 0:\n",
    "        end -= 1\n",
    "print(answer1, answer2)"
   ]
  },
  {
   "cell_type": "code",
   "execution_count": null,
   "metadata": {},
   "outputs": [],
   "source": [
    "# 14921 용액 합성하기"
   ]
  },
  {
   "cell_type": "code",
   "execution_count": 5,
   "metadata": {},
   "outputs": [
    {
     "name": "stdout",
     "output_type": "stream",
     "text": [
      "5\n",
      "-101 -3 -1 5 93\n",
      "2\n"
     ]
    }
   ],
   "source": [
    "N = int(input())\n",
    "A = sorted(list(map(int,input().split())))\n",
    "start, end = 0, N - 1\n",
    "answer = 200000000\n",
    "while start < end:\n",
    "    result = A[start] + A[end]\n",
    "    if abs(result) < abs(answer):\n",
    "        answer = result\n",
    "        if answer == 0:\n",
    "            break\n",
    "    if result > 0:\n",
    "        end -= 1\n",
    "    if result < 0:\n",
    "        start += 1\n",
    "print(answer)"
   ]
  },
  {
   "cell_type": "code",
   "execution_count": null,
   "metadata": {},
   "outputs": [],
   "source": [
    "# 1253 좋다"
   ]
  },
  {
   "cell_type": "code",
   "execution_count": null,
   "metadata": {},
   "outputs": [],
   "source": []
  }
 ],
 "metadata": {
  "kernelspec": {
   "display_name": "Python 3",
   "language": "python",
   "name": "python3"
  },
  "language_info": {
   "codemirror_mode": {
    "name": "ipython",
    "version": 3
   },
   "file_extension": ".py",
   "mimetype": "text/x-python",
   "name": "python",
   "nbconvert_exporter": "python",
   "pygments_lexer": "ipython3",
   "version": "3.7.4"
  }
 },
 "nbformat": 4,
 "nbformat_minor": 2
}
