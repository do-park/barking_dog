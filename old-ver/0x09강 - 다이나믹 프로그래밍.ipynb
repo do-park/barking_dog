{
 "cells": [
  {
   "cell_type": "code",
   "execution_count": null,
   "metadata": {},
   "outputs": [],
   "source": [
    "# 1463 1로 만들기"
   ]
  },
  {
   "cell_type": "code",
   "execution_count": 1,
   "metadata": {},
   "outputs": [
    {
     "name": "stdout",
     "output_type": "stream",
     "text": [
      "10\n",
      "3\n"
     ]
    }
   ],
   "source": [
    "N = int(input())\n",
    "dp = [0] * (N + 1)\n",
    "for n in range(2, N + 1):\n",
    "    dp[n] =  dp[n - 1] + 1\n",
    "    if n % 2 == 0:\n",
    "        dp[n] = min(dp[n // 2] + 1, dp[n])\n",
    "    if n % 3 == 0:\n",
    "        dp[n] = min(dp[n // 3] + 1, dp[n])\n",
    "print(dp[N])"
   ]
  },
  {
   "cell_type": "code",
   "execution_count": null,
   "metadata": {},
   "outputs": [],
   "source": [
    "# 2579 계단 오르기"
   ]
  },
  {
   "cell_type": "code",
   "execution_count": 2,
   "metadata": {},
   "outputs": [
    {
     "name": "stdout",
     "output_type": "stream",
     "text": [
      "6\n",
      "10\n",
      "20\n",
      "15\n",
      "25\n",
      "10\n",
      "20\n",
      "75\n"
     ]
    }
   ],
   "source": [
    "N = int(input())\n",
    "stairs = [0]\n",
    "for n in range(N):\n",
    "    stairs.append(int(input()))\n",
    "dp = [[0] * (N + 1) for _ in range(2)]\n",
    "dp[0][1] = stairs[1]\n",
    "for n in range(2, N + 1):\n",
    "    dp[0][n] = max(dp[0][n - 2], dp[1][n - 2]) + stairs[n]\n",
    "    dp[1][n] = dp[0][n - 1] + stairs[n]\n",
    "print(max(dp[0][N], dp[1][N]))"
   ]
  },
  {
   "cell_type": "code",
   "execution_count": null,
   "metadata": {},
   "outputs": [],
   "source": [
    "# 1149 RGB거리"
   ]
  },
  {
   "cell_type": "code",
   "execution_count": 3,
   "metadata": {},
   "outputs": [
    {
     "name": "stdout",
     "output_type": "stream",
     "text": [
      "3\n",
      "26 40 83\n",
      "49 60 57\n",
      "13 89 99\n",
      "96\n"
     ]
    }
   ],
   "source": [
    "N = int(input())\n",
    "rgb = [list(map(int, input().split())) for _ in range(N)]\n",
    "dp = [[0] * N for _ in range(3)]\n",
    "for i in range(3):\n",
    "    dp[i][0] = rgb[0][i]\n",
    "for n in range(1, N):\n",
    "    dp[0][n] = min(dp[1][n - 1], dp[2][n - 1]) + rgb[n][0]\n",
    "    dp[1][n] = min(dp[0][n - 1], dp[2][n - 1]) + rgb[n][1]\n",
    "    dp[2][n] = min(dp[0][n - 1], dp[1][n - 1]) + rgb[n][2]\n",
    "print(min(dp[0][N - 1], dp[1][N - 1], dp[2][N - 1]))"
   ]
  },
  {
   "cell_type": "code",
   "execution_count": null,
   "metadata": {},
   "outputs": [],
   "source": [
    "# 11726 2xn 타일링"
   ]
  },
  {
   "cell_type": "code",
   "execution_count": 4,
   "metadata": {},
   "outputs": [
    {
     "name": "stdout",
     "output_type": "stream",
     "text": [
      "9\n",
      "55\n"
     ]
    }
   ],
   "source": [
    "N = int(input())\n",
    "dp = [0, 1, 2] + [0] * N\n",
    "for n in range(3, N + 3):\n",
    "    dp[n] = (dp[n - 1] + dp[n - 2]) % 10007\n",
    "print(dp[N])"
   ]
  },
  {
   "cell_type": "code",
   "execution_count": null,
   "metadata": {},
   "outputs": [],
   "source": [
    "# 1912 연속합"
   ]
  },
  {
   "cell_type": "code",
   "execution_count": 5,
   "metadata": {},
   "outputs": [
    {
     "name": "stdout",
     "output_type": "stream",
     "text": [
      "10 -4 3 1 5 6 -35 12 21 -1\n"
     ]
    },
    {
     "ename": "ValueError",
     "evalue": "invalid literal for int() with base 10: '10 -4 3 1 5 6 -35 12 21 -1'",
     "output_type": "error",
     "traceback": [
      "\u001b[1;31m---------------------------------------------------------------------------\u001b[0m",
      "\u001b[1;31mValueError\u001b[0m                                Traceback (most recent call last)",
      "\u001b[1;32m<ipython-input-5-a47eec4a1935>\u001b[0m in \u001b[0;36m<module>\u001b[1;34m\u001b[0m\n\u001b[1;32m----> 1\u001b[1;33m \u001b[0mN\u001b[0m \u001b[1;33m=\u001b[0m \u001b[0mint\u001b[0m\u001b[1;33m(\u001b[0m\u001b[0minput\u001b[0m\u001b[1;33m(\u001b[0m\u001b[1;33m)\u001b[0m\u001b[1;33m)\u001b[0m\u001b[1;33m\u001b[0m\u001b[1;33m\u001b[0m\u001b[0m\n\u001b[0m\u001b[0;32m      2\u001b[0m \u001b[0mnumbers\u001b[0m \u001b[1;33m=\u001b[0m \u001b[0mlist\u001b[0m\u001b[1;33m(\u001b[0m\u001b[0mmap\u001b[0m\u001b[1;33m(\u001b[0m\u001b[0mint\u001b[0m\u001b[1;33m,\u001b[0m \u001b[0minput\u001b[0m\u001b[1;33m(\u001b[0m\u001b[1;33m)\u001b[0m\u001b[1;33m.\u001b[0m\u001b[0msplit\u001b[0m\u001b[1;33m(\u001b[0m\u001b[1;33m)\u001b[0m\u001b[1;33m)\u001b[0m\u001b[1;33m)\u001b[0m\u001b[1;33m\u001b[0m\u001b[1;33m\u001b[0m\u001b[0m\n\u001b[0;32m      3\u001b[0m \u001b[0mdp\u001b[0m \u001b[1;33m=\u001b[0m \u001b[1;33m[\u001b[0m\u001b[1;36m0\u001b[0m\u001b[1;33m]\u001b[0m \u001b[1;33m*\u001b[0m \u001b[0mN\u001b[0m\u001b[1;33m\u001b[0m\u001b[1;33m\u001b[0m\u001b[0m\n\u001b[0;32m      4\u001b[0m \u001b[0mdp\u001b[0m\u001b[1;33m[\u001b[0m\u001b[1;36m0\u001b[0m\u001b[1;33m]\u001b[0m \u001b[1;33m=\u001b[0m \u001b[0mnumbers\u001b[0m\u001b[1;33m[\u001b[0m\u001b[1;36m0\u001b[0m\u001b[1;33m]\u001b[0m\u001b[1;33m\u001b[0m\u001b[1;33m\u001b[0m\u001b[0m\n\u001b[0;32m      5\u001b[0m \u001b[1;32mfor\u001b[0m \u001b[0mn\u001b[0m \u001b[1;32min\u001b[0m \u001b[0mrange\u001b[0m\u001b[1;33m(\u001b[0m\u001b[1;36m1\u001b[0m\u001b[1;33m,\u001b[0m \u001b[0mN\u001b[0m\u001b[1;33m)\u001b[0m\u001b[1;33m:\u001b[0m\u001b[1;33m\u001b[0m\u001b[1;33m\u001b[0m\u001b[0m\n",
      "\u001b[1;31mValueError\u001b[0m: invalid literal for int() with base 10: '10 -4 3 1 5 6 -35 12 21 -1'"
     ]
    }
   ],
   "source": [
    "N = int(input())\n",
    "numbers = list(map(int, input().split()))\n",
    "dp = [0] * N\n",
    "dp[0] = numbers[0]\n",
    "for n in range(1, N):\n",
    "    dp[n] = max(0, dp[n - 1]) + numbers[n]\n",
    "print(max(dp))"
   ]
  },
  {
   "cell_type": "code",
   "execution_count": null,
   "metadata": {},
   "outputs": [],
   "source": [
    "# 11053 가장 긴 증가하는 부분 수열"
   ]
  },
  {
   "cell_type": "code",
   "execution_count": 6,
   "metadata": {},
   "outputs": [
    {
     "name": "stdout",
     "output_type": "stream",
     "text": [
      "6\n",
      "10 20 10 30 20 50\n",
      "4\n"
     ]
    }
   ],
   "source": [
    "N = int(input())\n",
    "A = list(map(int, input().split()))\n",
    "dp = [0] * N\n",
    "dp[0] = 1\n",
    "for i in range(1, N):\n",
    "    dp[i] = 1\n",
    "    for j in range(i):\n",
    "        if A[j] < A[i]:\n",
    "            dp[i] = max(dp[i], dp[j] + 1)\n",
    "print(max(dp))"
   ]
  },
  {
   "cell_type": "code",
   "execution_count": null,
   "metadata": {},
   "outputs": [],
   "source": [
    "# 2293 동전 1"
   ]
  },
  {
   "cell_type": "code",
   "execution_count": 7,
   "metadata": {},
   "outputs": [
    {
     "name": "stdout",
     "output_type": "stream",
     "text": [
      "3 10\n",
      "1\n",
      "2\n",
      "5\n",
      "10\n"
     ]
    }
   ],
   "source": [
    "N, K = map(int, input().split())\n",
    "coins = [int(input()) for _ in range(N)]\n",
    "dp = [0] * (K + 1)\n",
    "dp[0] = 1\n",
    "for coin in coins:\n",
    "    for i in range(coin, K + 1):\n",
    "        dp[i] += dp[i - coin]\n",
    "print(dp[K])"
   ]
  },
  {
   "cell_type": "code",
   "execution_count": null,
   "metadata": {},
   "outputs": [],
   "source": [
    "# 9095 1, 2, 3 더하기"
   ]
  },
  {
   "cell_type": "code",
   "execution_count": 8,
   "metadata": {},
   "outputs": [
    {
     "name": "stdout",
     "output_type": "stream",
     "text": [
      "3\n",
      "4\n",
      "7\n",
      "10\n",
      "7\n",
      "44\n",
      "274\n"
     ]
    }
   ],
   "source": [
    "T = int(input())\n",
    "N = [int(input()) for _ in range(T)]\n",
    "mx = max(N)\n",
    "dp = [0, 1, 2, 4] + [0] * (mx - 3)\n",
    "for i in range(4, mx + 1):\n",
    "    dp[i] = dp[i - 1] + dp[i - 2] + dp[i - 3]\n",
    "for n in N:\n",
    "    print(dp[n])"
   ]
  },
  {
   "cell_type": "code",
   "execution_count": null,
   "metadata": {},
   "outputs": [],
   "source": [
    "# 1003 피보나치 함수"
   ]
  },
  {
   "cell_type": "code",
   "execution_count": 9,
   "metadata": {},
   "outputs": [
    {
     "name": "stdout",
     "output_type": "stream",
     "text": [
      "3\n",
      "0\n",
      "1\n",
      "3\n",
      "1 0\n",
      "0 1\n",
      "1 2\n"
     ]
    }
   ],
   "source": [
    "T = int(input())\n",
    "N = [int(input()) for _ in range(T)]\n",
    "mx = max(max(N), 1)\n",
    "dp = [[0] * (mx + 1) for _ in range(2)]\n",
    "dp[0][0], dp[1][1] = 1, 1\n",
    "for i in range(2, mx + 1):\n",
    "    dp[0][i] = dp[0][i - 1] + dp[0][i - 2]\n",
    "    dp[1][i] = dp[1][i - 1] + dp[1][i - 2]\n",
    "for n in N:\n",
    "    print(dp[0][n], dp[1][n])"
   ]
  },
  {
   "cell_type": "code",
   "execution_count": null,
   "metadata": {},
   "outputs": [],
   "source": [
    "# 2193 이친수"
   ]
  },
  {
   "cell_type": "code",
   "execution_count": 10,
   "metadata": {},
   "outputs": [
    {
     "name": "stdout",
     "output_type": "stream",
     "text": [
      "3\n",
      "2\n"
     ]
    }
   ],
   "source": [
    "N = int(input())\n",
    "dp = [0, 1] + [0] * (N - 1)\n",
    "for n in range(2, N + 1):\n",
    "    dp[n] = dp[n - 1] + dp[n - 2]\n",
    "print(dp[-1])"
   ]
  },
  {
   "cell_type": "code",
   "execution_count": null,
   "metadata": {},
   "outputs": [],
   "source": [
    "# 1932 정수 삼각형"
   ]
  },
  {
   "cell_type": "code",
   "execution_count": 11,
   "metadata": {},
   "outputs": [
    {
     "name": "stdout",
     "output_type": "stream",
     "text": [
      "5\n",
      "7\n",
      "3 8\n",
      "8 1 0\n",
      "2 7 4 4\n",
      "4 5 2 6 5\n",
      "30\n"
     ]
    }
   ],
   "source": [
    "N = int(input())\n",
    "dp_now = [0] * (N + 1)\n",
    "dp_nxt = [0] * (N + 1)\n",
    "for n in range(N):\n",
    "    temp = [0] + list(map(int, input().split()))\n",
    "    for i in range(1, len(temp)):\n",
    "        dp_nxt[i] = max(dp_now[i - 1], dp_now[i]) + temp[i]\n",
    "    dp_now = dp_nxt\n",
    "    dp_nxt = [0] * (N + 1)\n",
    "print(max(dp_now))"
   ]
  },
  {
   "cell_type": "code",
   "execution_count": null,
   "metadata": {},
   "outputs": [],
   "source": [
    "# 2156 포도주 시식"
   ]
  },
  {
   "cell_type": "code",
   "execution_count": 12,
   "metadata": {},
   "outputs": [
    {
     "name": "stdout",
     "output_type": "stream",
     "text": [
      "6\n",
      "6\n",
      "10\n",
      "13\n",
      "9\n",
      "8\n",
      "1\n",
      "33\n"
     ]
    }
   ],
   "source": [
    "N = int(input())\n",
    "wine = [0]\n",
    "for n in range(N):\n",
    "    wine.append(int(input()))\n",
    "wine += [0]\n",
    "dp = [[0] * (N + 2) for _ in range(3)]\n",
    "dp[1][1] = wine[1]\n",
    "for n in range(2, N + 2):\n",
    "    dp[0][n] = max(dp[0][n - 1], dp[1][n - 1], dp[2][n - 1])\n",
    "    dp[1][n] = max(dp[0][n - 2], dp[1][n - 2], dp[2][n - 2]) + wine[n]\n",
    "    dp[2][n] = dp[1][n - 1] + wine[n]\n",
    "print(max(dp[0][N + 1], dp[1][N + 1], dp[2][N + 1]))"
   ]
  },
  {
   "cell_type": "code",
   "execution_count": null,
   "metadata": {},
   "outputs": [],
   "source": [
    "# 10844 쉬운 계단 수"
   ]
  },
  {
   "cell_type": "code",
   "execution_count": 13,
   "metadata": {},
   "outputs": [
    {
     "name": "stdout",
     "output_type": "stream",
     "text": [
      "2\n",
      "17\n"
     ]
    }
   ],
   "source": [
    "N = int(input())\n",
    "dp_now = [0] + [1] * 10 + [0]\n",
    "dp_nxt = [0] * 12\n",
    "for n in range(1, N):\n",
    "    for i in range(1, 11):\n",
    "        dp_nxt[i] = (dp_now[i - 1] + dp_now[i + 1]) % 1000000000\n",
    "    dp_now = dp_nxt\n",
    "    dp_nxt = [0] * 12\n",
    "print(sum(dp_now[2:11]) % 1000000000)"
   ]
  },
  {
   "cell_type": "code",
   "execution_count": null,
   "metadata": {},
   "outputs": [],
   "source": [
    "# 11727 2xn 타일링 2"
   ]
  },
  {
   "cell_type": "code",
   "execution_count": 14,
   "metadata": {},
   "outputs": [
    {
     "name": "stdout",
     "output_type": "stream",
     "text": [
      "8\n",
      "171\n"
     ]
    }
   ],
   "source": [
    "N = int(input())\n",
    "dp = [0, 1, 3] + [0] * (N - 2)\n",
    "for i in range(3, N + 1):\n",
    "    dp[i] = (dp[i - 1] + (dp[i - 2] * 2)) % 10007\n",
    "print(dp[N])"
   ]
  },
  {
   "cell_type": "code",
   "execution_count": null,
   "metadata": {},
   "outputs": [],
   "source": [
    "# 11052 카드 구매하기"
   ]
  },
  {
   "cell_type": "code",
   "execution_count": 15,
   "metadata": {},
   "outputs": [
    {
     "name": "stdout",
     "output_type": "stream",
     "text": [
      "5\n",
      "10 9 8 7 6\n",
      "50\n"
     ]
    }
   ],
   "source": [
    "N = int(input())\n",
    "P = [0] + list(map(int, input().split()))\n",
    "for i in range(1, N + 1):\n",
    "    for j in range(1, i // 2 + 1):\n",
    "        P[i] = max(P[i], P[i - j] + P[j])\n",
    "print(P[-1])"
   ]
  },
  {
   "cell_type": "code",
   "execution_count": null,
   "metadata": {},
   "outputs": [],
   "source": [
    "# 9465 스티커"
   ]
  },
  {
   "cell_type": "code",
   "execution_count": 17,
   "metadata": {},
   "outputs": [
    {
     "name": "stdout",
     "output_type": "stream",
     "text": [
      "2\n",
      "5\n",
      "50 10 100 20 40\n",
      "30 50 70 10 60\n",
      "260\n",
      "7\n",
      "10 30 10 50 100 20 40\n",
      "20 40 30 50 60 20 80\n",
      "290\n"
     ]
    }
   ],
   "source": [
    "for tc in range(int(input())):\n",
    "    N = int(input())\n",
    "    sticker = [list(map(int, input().split())) for _ in range(2)]\n",
    "    dp = [[0] * N for _ in range(3)]\n",
    "    dp[1][0] = sticker[0][0]\n",
    "    dp[2][0] = sticker[1][0]\n",
    "    for n in range(1, N):\n",
    "        dp[0][n] = max(dp[0][n - 1], dp[1][n - 1], dp[2][n - 1])\n",
    "        dp[1][n] = sticker[0][n] + max(dp[0][n - 1], dp[2][n - 1])\n",
    "        dp[2][n] = sticker[1][n] + max(dp[0][n - 1], dp[1][n - 1])\n",
    "    print(max(dp[0][N - 1], dp[1][N - 1], dp[2][N - 1]))"
   ]
  },
  {
   "cell_type": "code",
   "execution_count": null,
   "metadata": {},
   "outputs": [],
   "source": [
    "# 9461 파도반 수열"
   ]
  },
  {
   "cell_type": "code",
   "execution_count": 18,
   "metadata": {},
   "outputs": [
    {
     "name": "stdout",
     "output_type": "stream",
     "text": [
      "2\n",
      "6\n",
      "12\n",
      "3\n",
      "16\n"
     ]
    }
   ],
   "source": [
    "T = int(input())\n",
    "N = [int(input()) for _ in range(T)]\n",
    "mx = max(N)\n",
    "dp = [0, 1, 1] + [0] * (mx - 2)\n",
    "for i in range(3, mx + 1):\n",
    "    dp[i] = dp[i - 2] + dp[i - 3]\n",
    "for n in N:\n",
    "    print(dp[n])"
   ]
  },
  {
   "cell_type": "code",
   "execution_count": null,
   "metadata": {},
   "outputs": [],
   "source": [
    "# 11057 오르막 수"
   ]
  },
  {
   "cell_type": "code",
   "execution_count": 19,
   "metadata": {},
   "outputs": [
    {
     "name": "stdout",
     "output_type": "stream",
     "text": [
      "3\n",
      "220\n"
     ]
    }
   ],
   "source": [
    "N = int(input())\n",
    "dp = [1] * 10\n",
    "for n in range(1, N):\n",
    "    tp = [0] * 10\n",
    "    tp[0] = sum(dp)\n",
    "    for i in range(1, 10):\n",
    "        tp[i] = (tp[i - 1] - dp[i - 1]) % 10007\n",
    "    dp = tp\n",
    "print((sum(dp)) % 10007)"
   ]
  },
  {
   "cell_type": "code",
   "execution_count": null,
   "metadata": {},
   "outputs": [],
   "source": [
    "# 2167 2차원 배열의 합"
   ]
  },
  {
   "cell_type": "code",
   "execution_count": 20,
   "metadata": {},
   "outputs": [
    {
     "name": "stdout",
     "output_type": "stream",
     "text": [
      "2 3\n",
      "1 2 4\n",
      "8 16 32\n",
      "3\n",
      "1 1 2 3\n",
      "63\n",
      "1 2 1 2\n",
      "2\n",
      "1 3 2 3\n",
      "36\n"
     ]
    }
   ],
   "source": [
    "N, M = map(int, input().split())\n",
    "maps = [list(map(int, input().split())) for _ in range(N)]\n",
    "dp = [[0] * (M + 1) for _ in range(N + 1)]\n",
    "for n in range(1, N + 1):\n",
    "    for m in range(1, M + 1):\n",
    "        dp[n][m] = dp[n - 1][m] + dp[n][m - 1] + maps[n - 1][m - 1] - dp[n - 1][m - 1]\n",
    "K = int(input())\n",
    "for k in range(K):\n",
    "    i, j, x, y = map(int, input().split())\n",
    "    print(dp[x][y] - dp[x][j - 1] - dp[i - 1][y] + dp[i - 1][j - 1])"
   ]
  },
  {
   "cell_type": "code",
   "execution_count": null,
   "metadata": {},
   "outputs": [],
   "source": [
    "# 14501 퇴사"
   ]
  },
  {
   "cell_type": "code",
   "execution_count": 21,
   "metadata": {},
   "outputs": [
    {
     "name": "stdout",
     "output_type": "stream",
     "text": [
      "7\n",
      "3 10\n",
      "5 20\n",
      "1 10\n",
      "1 20\n",
      "2 15\n",
      "4 40\n",
      "2 200\n",
      "45\n"
     ]
    }
   ],
   "source": [
    "def func(index, profit):\n",
    "    global result\n",
    "    if index > N:\n",
    "        return\n",
    "    if index == N:\n",
    "        result = max(result, profit)\n",
    "        return\n",
    "    func(index + 1, profit)\n",
    "    func(index + T[index], profit + P[index])\n",
    "\n",
    "N = int(input())\n",
    "T = [0] * N\n",
    "P = [0] * N\n",
    "for n in range(N):\n",
    "    t, p = map(int, input().split())\n",
    "    T[n] = t\n",
    "    P[n] = p\n",
    "result = 0\n",
    "func(0, 0)\n",
    "print(result)"
   ]
  },
  {
   "cell_type": "code",
   "execution_count": null,
   "metadata": {},
   "outputs": [],
   "source": [
    "# 2294 동전 2"
   ]
  },
  {
   "cell_type": "code",
   "execution_count": 22,
   "metadata": {},
   "outputs": [
    {
     "name": "stdout",
     "output_type": "stream",
     "text": [
      "3 15\n",
      "1\n",
      "5\n",
      "12\n",
      "3\n"
     ]
    }
   ],
   "source": [
    "N, K = map(int, input().split())\n",
    "coins = [int(input()) for _ in range(N)]\n",
    "dp = [100001] * (K + 1)\n",
    "dp[0] = 0\n",
    "for coin in coins:\n",
    "    for i in range(coin, K + 1):\n",
    "        dp[i] = min(dp[i - coin] + 1, dp[i])\n",
    "print(dp[K] if dp[K] < 100001 else -1)"
   ]
  },
  {
   "cell_type": "code",
   "execution_count": null,
   "metadata": {},
   "outputs": [],
   "source": [
    "# 11048 이동하기"
   ]
  },
  {
   "cell_type": "code",
   "execution_count": 23,
   "metadata": {},
   "outputs": [
    {
     "name": "stdout",
     "output_type": "stream",
     "text": [
      "3 3\n",
      "1 0 0\n",
      "0 1 0\n",
      "0 0 1\n",
      "3\n"
     ]
    }
   ],
   "source": [
    "N, M = map(int, input().split())\n",
    "maps = [list(map(int, input().split())) for _ in range(N)]\n",
    "dp = [[0] * M for _ in range(N)]\n",
    "dp[0][0] = maps[0][0]\n",
    "for n in range(1, N):\n",
    "    dp[n][0] = dp[n - 1][0] + maps[n][0]\n",
    "for m in range(1, M):\n",
    "    dp[0][m] = dp[0][m - 1] + maps[0][m]\n",
    "for n in range(1, N):\n",
    "    for m in range(1, M):\n",
    "        dp[n][m] = max(dp[n - 1][m], dp[n][m - 1]) + maps[n][m]\n",
    "print(dp[-1][-1])"
   ]
  },
  {
   "cell_type": "code",
   "execution_count": null,
   "metadata": {},
   "outputs": [],
   "source": [
    "# 1699 제곱수의 합"
   ]
  },
  {
   "cell_type": "code",
   "execution_count": 24,
   "metadata": {},
   "outputs": [
    {
     "name": "stdout",
     "output_type": "stream",
     "text": [
      "7\n",
      "4\n"
     ]
    }
   ],
   "source": [
    "N = int(input())\n",
    "dp = [1e9] * (N + 1)\n",
    "dp[0] = 0\n",
    "sqr = []\n",
    "i = 1\n",
    "while i * i <= N:\n",
    "    sqr.append(i * i)\n",
    "    i += 1\n",
    "for s in sqr:\n",
    "    for i in range(s, N + 1):\n",
    "        dp[i] = min(dp[i - s] + 1, dp[i])\n",
    "print(dp[-1])"
   ]
  },
  {
   "cell_type": "code",
   "execution_count": null,
   "metadata": {},
   "outputs": [],
   "source": [
    "# 2133 타일 채우기"
   ]
  },
  {
   "cell_type": "code",
   "execution_count": null,
   "metadata": {},
   "outputs": [],
   "source": []
  },
  {
   "cell_type": "code",
   "execution_count": null,
   "metadata": {},
   "outputs": [],
   "source": [
    "# 9251 LCS"
   ]
  },
  {
   "cell_type": "code",
   "execution_count": 25,
   "metadata": {},
   "outputs": [
    {
     "name": "stdout",
     "output_type": "stream",
     "text": [
      "ACAYKP\n",
      "CAPCAK\n",
      "4\n"
     ]
    }
   ],
   "source": [
    "S1 = input()\n",
    "L1 = len(S1)\n",
    "S2 = input()\n",
    "L2 = len(S2)\n",
    "table = [[0] * (L1 + 1) for _ in range(L2 + 1)]\n",
    "for i in range(L2):\n",
    "    for j in range(L1):\n",
    "        if S2[i] == S1[j]:\n",
    "            table[i + 1][j + 1] = table[i][j] + 1\n",
    "        else:\n",
    "            table[i + 1][j + 1] = max(table[i][j + 1], table[i + 1][j])\n",
    "print(table[L2][L1])"
   ]
  },
  {
   "cell_type": "code",
   "execution_count": null,
   "metadata": {},
   "outputs": [],
   "source": [
    "# 1520 내리막 길"
   ]
  },
  {
   "cell_type": "code",
   "execution_count": null,
   "metadata": {},
   "outputs": [],
   "source": []
  },
  {
   "cell_type": "code",
   "execution_count": null,
   "metadata": {},
   "outputs": [],
   "source": [
    "# 11722 가장 긴 감소하는 부분 수열"
   ]
  },
  {
   "cell_type": "code",
   "execution_count": 26,
   "metadata": {},
   "outputs": [
    {
     "name": "stdout",
     "output_type": "stream",
     "text": [
      "6\n",
      "10 30 10 20 20 10\n",
      "3\n"
     ]
    }
   ],
   "source": [
    "N = int(input())\n",
    "A = list(map(int, input().split()))\n",
    "dp = [0] * N\n",
    "dp[0] = 1\n",
    "for i in range(1, N):\n",
    "    dp[i] = 1\n",
    "    for j in range(i):\n",
    "        if A[i] < A[j]:\n",
    "            dp[i] = max(dp[i], dp[j] + 1)\n",
    "print(max(dp))"
   ]
  },
  {
   "cell_type": "code",
   "execution_count": null,
   "metadata": {},
   "outputs": [],
   "source": [
    "# 1890 점프"
   ]
  },
  {
   "cell_type": "code",
   "execution_count": null,
   "metadata": {},
   "outputs": [],
   "source": []
  },
  {
   "cell_type": "code",
   "execution_count": null,
   "metadata": {},
   "outputs": [],
   "source": [
    "# 2225 합분해"
   ]
  },
  {
   "cell_type": "code",
   "execution_count": 33,
   "metadata": {},
   "outputs": [
    {
     "name": "stdout",
     "output_type": "stream",
     "text": [
      "20 2\n",
      "21\n"
     ]
    }
   ],
   "source": [
    "N, K = map(int, input().split())\n",
    "dp = [1] * (N + 1)\n",
    "for k in range(1, K):\n",
    "    for n in range(1, N + 1):\n",
    "        dp[n] = (dp[n - 1] + dp[n]) % 1000000000\n",
    "print(dp[-1])"
   ]
  },
  {
   "cell_type": "code",
   "execution_count": null,
   "metadata": {},
   "outputs": [],
   "source": [
    "# 1965 상자넣기"
   ]
  },
  {
   "cell_type": "code",
   "execution_count": 34,
   "metadata": {},
   "outputs": [
    {
     "name": "stdout",
     "output_type": "stream",
     "text": [
      "8\n",
      "1 6 2 5 7 3 5 6\n",
      "5\n"
     ]
    }
   ],
   "source": [
    "N = int(input())\n",
    "boxes = list(map(int, input().split()))\n",
    "dp = [1] * N\n",
    "for i in range(1, N):\n",
    "    for j in range(0, i):\n",
    "        if boxes[i] > boxes[j]:\n",
    "            dp[i] = max(dp[i], dp[j] + 1)\n",
    "print(max(dp))"
   ]
  },
  {
   "cell_type": "code",
   "execution_count": null,
   "metadata": {},
   "outputs": [],
   "source": [
    "# 1309 동물원"
   ]
  },
  {
   "cell_type": "code",
   "execution_count": null,
   "metadata": {},
   "outputs": [],
   "source": []
  },
  {
   "cell_type": "code",
   "execution_count": null,
   "metadata": {},
   "outputs": [],
   "source": [
    "# 11054 가장 긴 바이토닉 부분 수열"
   ]
  },
  {
   "cell_type": "code",
   "execution_count": 35,
   "metadata": {},
   "outputs": [
    {
     "name": "stdout",
     "output_type": "stream",
     "text": [
      "10\n",
      "1 5 2 1 4 3 4 5 2 1\n",
      "7\n"
     ]
    }
   ],
   "source": [
    "N = int(input())\n",
    "A = list(map(int, input().split()))\n",
    "dpF = [0] * N\n",
    "dpR = [0] * N\n",
    "for i in range(1, N):\n",
    "    for j in range(i):\n",
    "        if A[i] > A[j]:\n",
    "            dpF[i] = max(dpF[i], dpF[j] + 1)\n",
    "for i in range(N - 1, -1, -1):\n",
    "    for j in range(N - 1, i, -1):\n",
    "        if A[i] > A[j]:\n",
    "            dpR[i] = max(dpR[i], dpR[j] + 1)\n",
    "result = 0\n",
    "for n in range(N):\n",
    "    temp = dpF[n] + dpR[n]\n",
    "    if result < temp:\n",
    "        result = temp\n",
    "print(result + 1)"
   ]
  },
  {
   "cell_type": "code",
   "execution_count": null,
   "metadata": {},
   "outputs": [],
   "source": [
    "# 1937 욕심쟁이 판다"
   ]
  },
  {
   "cell_type": "code",
   "execution_count": null,
   "metadata": {},
   "outputs": [],
   "source": []
  },
  {
   "cell_type": "code",
   "execution_count": null,
   "metadata": {},
   "outputs": [],
   "source": [
    "# 1915 가장 큰 정사각형"
   ]
  },
  {
   "cell_type": "code",
   "execution_count": 28,
   "metadata": {},
   "outputs": [
    {
     "name": "stdout",
     "output_type": "stream",
     "text": [
      "4 4\n",
      "0100\n",
      "0111\n",
      "1110\n",
      "0010\n",
      "4\n"
     ]
    }
   ],
   "source": [
    "N, M = map(int, input().split())\n",
    "maps = [list(map(int, input())) for _ in range(N)]\n",
    "result = maps[0][0]\n",
    "for n in range(1, N):\n",
    "    for m in range(1, M):\n",
    "        if maps[n][m]:\n",
    "            maps[n][m] = min(maps[n - 1][m], maps[n][m - 1], maps[n - 1][m - 1]) + 1\n",
    "            result = max(result, maps[n][m])\n",
    "print(result ** 2)"
   ]
  },
  {
   "cell_type": "code",
   "execution_count": null,
   "metadata": {},
   "outputs": [],
   "source": [
    "# 2011 암호코드"
   ]
  },
  {
   "cell_type": "code",
   "execution_count": 36,
   "metadata": {},
   "outputs": [
    {
     "name": "stdout",
     "output_type": "stream",
     "text": [
      "25114\n",
      "6\n"
     ]
    }
   ],
   "source": [
    "N = list(map(int, input()))\n",
    "L = len(N)\n",
    "dp = [[0, 0] for _ in range(L + 1)]\n",
    "dp[0][0] = 1\n",
    "for n in range(L):\n",
    "    if N[n] != 0:\n",
    "        dp[n + 1][0] = sum(dp[n])\n",
    "    if n > 0 and N[n - 1] != 0 and (N[n - 1] * 10 + N[n]) < 27:\n",
    "        dp[n + 1][1] = sum(dp[n - 1])\n",
    "print(sum(dp[L]) % 1000000)"
   ]
  },
  {
   "cell_type": "code",
   "execution_count": null,
   "metadata": {},
   "outputs": [],
   "source": [
    "# 2096 내려가기"
   ]
  },
  {
   "cell_type": "code",
   "execution_count": 37,
   "metadata": {},
   "outputs": [
    {
     "name": "stdout",
     "output_type": "stream",
     "text": [
      "3\n",
      "1 2 3\n",
      "4 5 6\n",
      "4 9 0\n",
      "18 6\n"
     ]
    }
   ],
   "source": [
    "N = int(input())\n",
    "score = list(map(int, input().split()))\n",
    "dp_min = score\n",
    "dp_max = score\n",
    "temp_min = [0, 0, 0]\n",
    "temp_max = [0, 0, 0]\n",
    "for n in range(N - 1):\n",
    "    score = list(map(int, input().split()))\n",
    "    temp_min[0] = score[0] + min(dp_min[0], dp_min[1])\n",
    "    temp_min[1] = score[1] + min(dp_min)\n",
    "    temp_min[2] = score[2] + min(dp_min[1], dp_min[2])\n",
    "    temp_max[0] = score[0] + max(dp_max[0], dp_max[1])\n",
    "    temp_max[1] = score[1] + max(dp_max)\n",
    "    temp_max[2] = score[2] + max(dp_max[1], dp_max[2])\n",
    "    dp_min = temp_min\n",
    "    dp_max = temp_max\n",
    "    temp_min = [0, 0, 0]\n",
    "    temp_max = [0, 0, 0]\n",
    "print(f'{max(dp_max)} {min(dp_min)}')"
   ]
  },
  {
   "cell_type": "code",
   "execution_count": null,
   "metadata": {},
   "outputs": [],
   "source": [
    "# 1904 01타일"
   ]
  },
  {
   "cell_type": "code",
   "execution_count": 38,
   "metadata": {},
   "outputs": [
    {
     "name": "stdout",
     "output_type": "stream",
     "text": [
      "4\n",
      "5\n"
     ]
    }
   ],
   "source": [
    "N = int(input())\n",
    "dp = [0, 1, 2] + [0] * (N - 2)\n",
    "for n in range(3, N + 1):\n",
    "    dp[n] = (dp[n - 1] + dp[n - 2]) % 15746\n",
    "print(dp[N])"
   ]
  },
  {
   "cell_type": "code",
   "execution_count": null,
   "metadata": {},
   "outputs": [],
   "source": [
    "# 9252 LCS 2"
   ]
  },
  {
   "cell_type": "code",
   "execution_count": 39,
   "metadata": {},
   "outputs": [
    {
     "name": "stdout",
     "output_type": "stream",
     "text": [
      "ACAYKP\n",
      "CAPCAK\n",
      "4\n",
      "ACAK\n"
     ]
    }
   ],
   "source": [
    "S1 = input()\n",
    "L1 = len(S1)\n",
    "S2 = input()\n",
    "L2 = len(S2)\n",
    "table = [[0] * (L1 + 1) for _ in range(L2 + 1)]\n",
    "for i in range(L2):\n",
    "    for j in range(L1):\n",
    "        if S1[j] == S2[i]:\n",
    "            table[i + 1][j + 1] = table[i][j] + 1\n",
    "        else:\n",
    "            table[i + 1][j + 1] = max(table[i][j + 1], table[i + 1][j])\n",
    "result = table[L2][L1]\n",
    "print(result)\n",
    "answer = ''\n",
    "y = L2\n",
    "x = L1\n",
    "while result > 0:\n",
    "    if table[y][x - 1] == result - 1 and table[y - 1][x] == result - 1:\n",
    "        answer = S1[x - 1] + answer\n",
    "        result, y, x = result - 1, y - 1, x - 1\n",
    "    else:\n",
    "        if table[y - 1][x] > table[y][x - 1]:\n",
    "            y -= 1\n",
    "        else:\n",
    "            x -= 1\n",
    "print(answer)"
   ]
  },
  {
   "cell_type": "code",
   "execution_count": null,
   "metadata": {},
   "outputs": [],
   "source": [
    "# 10164 격자상의 경로"
   ]
  },
  {
   "cell_type": "code",
   "execution_count": null,
   "metadata": {},
   "outputs": [],
   "source": []
  },
  {
   "cell_type": "code",
   "execution_count": null,
   "metadata": {},
   "outputs": [],
   "source": [
    "# 2631 줄세우기"
   ]
  },
  {
   "cell_type": "code",
   "execution_count": 41,
   "metadata": {},
   "outputs": [
    {
     "name": "stdout",
     "output_type": "stream",
     "text": [
      "7\n",
      "3\n",
      "7\n",
      "5\n",
      "2\n",
      "6\n",
      "1\n",
      "4\n",
      "4\n"
     ]
    }
   ],
   "source": [
    "N = int(input())\n",
    "children = [int(input()) for _ in range(N)]\n",
    "dp = [0] * N\n",
    "for i in range(1, N):\n",
    "    for j in range(i):\n",
    "        if children[i] > children[j]:\n",
    "            dp[i] = max(dp[i], dp[j] + 1)\n",
    "print(N - max(dp) - 1)"
   ]
  },
  {
   "cell_type": "code",
   "execution_count": null,
   "metadata": {},
   "outputs": [],
   "source": [
    "# 2302 극장 좌석"
   ]
  },
  {
   "cell_type": "code",
   "execution_count": 42,
   "metadata": {},
   "outputs": [
    {
     "name": "stdout",
     "output_type": "stream",
     "text": [
      "9\n",
      "2\n",
      "4\n",
      "7\n",
      "12\n"
     ]
    }
   ],
   "source": [
    "N = int(input())\n",
    "M = int(input())\n",
    "fixed = [0] + [int(input()) for _ in range(M)] + [N + 1]\n",
    "dp = [1, 1, 2] + [0] * (N - 2)\n",
    "for i in range(3, N + 1):\n",
    "    dp[i] = dp[i - 1] + dp[i - 2]\n",
    "result = 1\n",
    "for i in range(M + 1):\n",
    "    result *= (dp[fixed[i + 1] - fixed[i] - 1])\n",
    "print(result)"
   ]
  },
  {
   "cell_type": "code",
   "execution_count": null,
   "metadata": {},
   "outputs": [],
   "source": [
    "# 1495 기타리스트"
   ]
  },
  {
   "cell_type": "code",
   "execution_count": null,
   "metadata": {},
   "outputs": [],
   "source": []
  },
  {
   "cell_type": "code",
   "execution_count": null,
   "metadata": {},
   "outputs": [],
   "source": [
    "# 17069 파이프 옮기기 2"
   ]
  },
  {
   "cell_type": "code",
   "execution_count": null,
   "metadata": {},
   "outputs": [],
   "source": []
  }
 ],
 "metadata": {
  "kernelspec": {
   "display_name": "Python 3",
   "language": "python",
   "name": "python3"
  },
  "language_info": {
   "codemirror_mode": {
    "name": "ipython",
    "version": 3
   },
   "file_extension": ".py",
   "mimetype": "text/x-python",
   "name": "python",
   "nbconvert_exporter": "python",
   "pygments_lexer": "ipython3",
   "version": "3.7.4"
  }
 },
 "nbformat": 4,
 "nbformat_minor": 2
}
