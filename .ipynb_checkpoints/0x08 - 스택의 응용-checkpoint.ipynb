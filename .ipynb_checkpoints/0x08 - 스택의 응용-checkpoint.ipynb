{
 "cells": [
  {
   "cell_type": "code",
   "execution_count": null,
   "metadata": {},
   "outputs": [],
   "source": [
    "# 4949. 균형잡힌 세상"
   ]
  },
  {
   "cell_type": "code",
   "execution_count": 1,
   "metadata": {},
   "outputs": [
    {
     "name": "stdout",
     "output_type": "stream",
     "text": [
      "So when I die (the [first] I will see in (heaven) is a score list).\n",
      "yes\n",
      "[ first in ] ( first out ).\n",
      "yes\n",
      "Half Moon tonight (At least it is better than no Moon at all].\n",
      "no\n",
      "A rope may form )( a trail in a maze.\n",
      "no\n",
      "Help( I[m being held prisoner in a fortune cookie factory)].\n",
      "no\n",
      "([ (([( [ ] ) ( ) (( ))] )) ]).\n",
      "yes\n",
      " .\n",
      "yes\n",
      ".\n"
     ]
    }
   ],
   "source": [
    "while True:\n",
    "    S = input()\n",
    "    if S == '.':\n",
    "        break\n",
    "\n",
    "    S = list(S)\n",
    "    stack =[]\n",
    "    for s in S:\n",
    "        if s == '(' or s == '[':\n",
    "            stack.append(s)\n",
    "        elif s == ')':\n",
    "            if len(stack) == 0:\n",
    "                print('no')\n",
    "                break\n",
    "            else:\n",
    "                if stack[-1] == '(':\n",
    "                    del stack[-1]\n",
    "                else:\n",
    "                    print('no')\n",
    "                    break\n",
    "        elif s == ']':\n",
    "            if len(stack) == 0:\n",
    "                print('no')\n",
    "                break\n",
    "            else:\n",
    "                if stack[-1] == '[':\n",
    "                    del stack[-1]\n",
    "                else:\n",
    "                    print('no')\n",
    "                    break\n",
    "\n",
    "    else:\n",
    "        print('yes') if len(stack) == 0 else print('no')"
   ]
  },
  {
   "cell_type": "code",
   "execution_count": null,
   "metadata": {},
   "outputs": [],
   "source": [
    "# 10799. 쇠막대기"
   ]
  },
  {
   "cell_type": "code",
   "execution_count": 2,
   "metadata": {},
   "outputs": [
    {
     "name": "stdout",
     "output_type": "stream",
     "text": [
      "(((()(()()))(())()))(()())\n",
      "24\n"
     ]
    }
   ],
   "source": [
    "pipe = list(map(str, input()))\n",
    "stack = []\n",
    "result = 0\n",
    "for p in range(0, len(pipe)):\n",
    "    if pipe[p] == '(':\n",
    "        stack.append(1)\n",
    "    else:\n",
    "        stack.pop()\n",
    "        if pipe[p - 1] == '(':\n",
    "            result += len(stack)\n",
    "        else:\n",
    "            result += 1\n",
    "print(result)"
   ]
  },
  {
   "cell_type": "code",
   "execution_count": null,
   "metadata": {},
   "outputs": [],
   "source": [
    "# 2504. 괄호의 값"
   ]
  },
  {
   "cell_type": "code",
   "execution_count": 3,
   "metadata": {},
   "outputs": [
    {
     "name": "stdout",
     "output_type": "stream",
     "text": [
      "(()[[]])([])\n",
      "28\n"
     ]
    }
   ],
   "source": [
    "cmd = list(map(str, input()))\n",
    "stack = []\n",
    "result = 0\n",
    "for i in range(len(cmd)):\n",
    "    if cmd[i] == ')':\n",
    "        temp = 0\n",
    "        while stack:\n",
    "            if stack[-1] == '(':\n",
    "                stack.pop()\n",
    "                if temp == 0:\n",
    "                    stack.append(2)\n",
    "                    break\n",
    "                else:\n",
    "                    stack.append(2 * temp)\n",
    "                    break\n",
    "            elif stack[-1] == '[':\n",
    "                result = -1\n",
    "                break\n",
    "            else:\n",
    "                temp += stack.pop()\n",
    "    elif cmd[i] == ']':\n",
    "        temp = 0\n",
    "        while stack:\n",
    "            if stack[-1] == '[':\n",
    "                stack.pop()\n",
    "                if temp == 0:\n",
    "                    stack.append(3)\n",
    "                    break\n",
    "                else:\n",
    "                    stack.append(3 * temp)\n",
    "                    break\n",
    "            elif stack[-1] == '(':\n",
    "                result = -1\n",
    "                break\n",
    "            else:\n",
    "                temp += stack.pop()\n",
    "    else:\n",
    "        stack.append(cmd[i])\n",
    "\n",
    "if result:\n",
    "    print(0)\n",
    "else:\n",
    "    for s in stack:\n",
    "        if s == \"(\" or s ==\"[\":\n",
    "            print(0)\n",
    "            break\n",
    "        else:\n",
    "            result += s\n",
    "    else:\n",
    "        print(result)"
   ]
  },
  {
   "cell_type": "code",
   "execution_count": null,
   "metadata": {},
   "outputs": [],
   "source": [
    "# 9012. 괄호"
   ]
  },
  {
   "cell_type": "code",
   "execution_count": 4,
   "metadata": {},
   "outputs": [
    {
     "name": "stdout",
     "output_type": "stream",
     "text": [
      "6\n",
      "(())())\n",
      "NO\n",
      "(((()())()\n",
      "NO\n",
      "(()())((()))\n",
      "YES\n",
      "((()()(()))(((())))()\n",
      "NO\n",
      "()()()()(()()())()\n",
      "YES\n",
      "(()((())()(\n",
      "NO\n"
     ]
    }
   ],
   "source": [
    "T = int(input())\n",
    "\n",
    "for tc in range(T):\n",
    "    S = list(map(str, input()))\n",
    "    stack =[]\n",
    "    for s in S:\n",
    "        if s == '(':\n",
    "            stack.append(s)\n",
    "        elif s == ')':\n",
    "            if len(stack) == 0:\n",
    "                print('NO')\n",
    "                break\n",
    "            else:\n",
    "                del stack[-1]\n",
    "\n",
    "    else:\n",
    "        print('YES') if len(stack) == 0 else print('NO')"
   ]
  },
  {
   "cell_type": "code",
   "execution_count": null,
   "metadata": {},
   "outputs": [],
   "source": [
    "# 4889. 안정적인 문자열"
   ]
  },
  {
   "cell_type": "code",
   "execution_count": 5,
   "metadata": {},
   "outputs": [
    {
     "name": "stdout",
     "output_type": "stream",
     "text": [
      "}{\n",
      "1. 2\n",
      "{}{}{}\n",
      "2. 0\n",
      "{{{}\n",
      "3. 1\n",
      "---\n"
     ]
    }
   ],
   "source": [
    "tc = 1\n",
    "cmd = list(map(str, input()))\n",
    "while cmd[0] != '-':\n",
    "    stack = []\n",
    "    answer = 0\n",
    "    for c in cmd:\n",
    "        if c == '{':\n",
    "            stack.append('{')\n",
    "        elif c == '}':\n",
    "            if stack:\n",
    "                if stack[-1] == '{':\n",
    "                    stack.pop()\n",
    "                else:\n",
    "                    stack.append('}')\n",
    "            else:\n",
    "                stack.append('}')\n",
    "    for i in range(len(stack)):\n",
    "        if i % 2 and stack[i] != '}':\n",
    "            answer += 1\n",
    "        elif not i % 2 and stack[i] != '{':\n",
    "            answer += 1\n",
    "    print(f'{tc}. {answer}')\n",
    "    tc += 1\n",
    "    cmd = list(map(str, input()))"
   ]
  }
 ],
 "metadata": {
  "kernelspec": {
   "display_name": "Python 3",
   "language": "python",
   "name": "python3"
  },
  "language_info": {
   "codemirror_mode": {
    "name": "ipython",
    "version": 3
   },
   "file_extension": ".py",
   "mimetype": "text/x-python",
   "name": "python",
   "nbconvert_exporter": "python",
   "pygments_lexer": "ipython3",
   "version": "3.7.4"
  }
 },
 "nbformat": 4,
 "nbformat_minor": 2
}
