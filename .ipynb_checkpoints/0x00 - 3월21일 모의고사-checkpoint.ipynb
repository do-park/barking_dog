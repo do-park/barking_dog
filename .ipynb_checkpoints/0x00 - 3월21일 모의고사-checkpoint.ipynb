{
 "cells": [
  {
   "cell_type": "code",
   "execution_count": null,
   "metadata": {},
   "outputs": [],
   "source": [
    "# 18808. 스티커 붙이기"
   ]
  },
  {
   "cell_type": "code",
   "execution_count": 1,
   "metadata": {},
   "outputs": [
    {
     "name": "stdout",
     "output_type": "stream",
     "text": [
      "1 3 3\n",
      "2 3\n",
      "1 0 0\n",
      "1 1 1\n",
      "1 1\n",
      "1\n",
      "3 1\n",
      "1\n",
      "1\n",
      "1\n",
      "1\n"
     ]
    }
   ],
   "source": [
    "def stickit():\n",
    "    global laptop\n",
    "    global sticker\n",
    "    for n in range(N - R + 1):\n",
    "        for m in range(M - C + 1):\n",
    "            cnt = 0\n",
    "            for r in range(R):\n",
    "                for c in range(C):\n",
    "                    if laptop[n + r][m + c] and sticker[r][c]:\n",
    "                        cnt = 0\n",
    "                        break\n",
    "                    else:\n",
    "                        cnt += 1\n",
    "            if cnt == (R * C):\n",
    "                for r in range(R):\n",
    "                    for c in range(C):\n",
    "                        if sticker[r][c]:\n",
    "                            laptop[n + r][m + c] = sticker[r][c]\n",
    "                return 1\n",
    "    return 0\n",
    "\n",
    "def turn(sticker):\n",
    "    new = [[0] * R for _ in range(C)]\n",
    "    for r in range(R):\n",
    "        for c in range(C):\n",
    "            new[c][R - r - 1] = sticker[r][c]\n",
    "    return new\n",
    "\n",
    "\n",
    "N, M, K = map(int, input().split())\n",
    "laptop = [[0] * M for _ in range(N)]\n",
    "for k in range(K):\n",
    "    R, C = map(int, input().split())\n",
    "    sticker = [list(map(int, input().split())) for _ in range(R)]\n",
    "    for i in range(4):\n",
    "        if N >= R and M >= C:\n",
    "            if stickit():\n",
    "                break\n",
    "        sticker = turn(sticker)\n",
    "        R, C = C, R\n",
    "\n",
    "result = 0\n",
    "for n in range(N):\n",
    "    for m in range(M):\n",
    "        if laptop[n][m]:\n",
    "            result += 1\n",
    "print(result)"
   ]
  },
  {
   "cell_type": "code",
   "execution_count": 2,
   "metadata": {},
   "outputs": [
    {
     "ename": "ValueError",
     "evalue": "not enough values to unpack (expected 3, got 0)",
     "output_type": "error",
     "traceback": [
      "\u001b[1;31m---------------------------------------------------------------------------\u001b[0m",
      "\u001b[1;31mValueError\u001b[0m                                Traceback (most recent call last)",
      "\u001b[1;32m<ipython-input-2-7a768e89e5cd>\u001b[0m in \u001b[0;36m<module>\u001b[1;34m\u001b[0m\n\u001b[0;32m      2\u001b[0m \u001b[0minput\u001b[0m \u001b[1;33m=\u001b[0m \u001b[0msys\u001b[0m\u001b[1;33m.\u001b[0m\u001b[0mstdin\u001b[0m\u001b[1;33m.\u001b[0m\u001b[0mreadline\u001b[0m\u001b[1;33m\u001b[0m\u001b[1;33m\u001b[0m\u001b[0m\n\u001b[0;32m      3\u001b[0m \u001b[1;33m\u001b[0m\u001b[0m\n\u001b[1;32m----> 4\u001b[1;33m \u001b[0mn\u001b[0m\u001b[1;33m,\u001b[0m\u001b[0mm\u001b[0m\u001b[1;33m,\u001b[0m\u001b[0mk\u001b[0m \u001b[1;33m=\u001b[0m \u001b[0mmap\u001b[0m\u001b[1;33m(\u001b[0m\u001b[0mint\u001b[0m\u001b[1;33m,\u001b[0m \u001b[0minput\u001b[0m\u001b[1;33m(\u001b[0m\u001b[1;33m)\u001b[0m\u001b[1;33m.\u001b[0m\u001b[0msplit\u001b[0m\u001b[1;33m(\u001b[0m\u001b[1;33m)\u001b[0m\u001b[1;33m)\u001b[0m\u001b[1;33m\u001b[0m\u001b[1;33m\u001b[0m\u001b[0m\n\u001b[0m\u001b[0;32m      5\u001b[0m \u001b[0mnote\u001b[0m \u001b[1;33m=\u001b[0m \u001b[1;33m[\u001b[0m\u001b[1;33m[\u001b[0m\u001b[1;36m0\u001b[0m\u001b[1;33m]\u001b[0m\u001b[1;33m*\u001b[0m\u001b[0mm\u001b[0m \u001b[1;32mfor\u001b[0m \u001b[0mi\u001b[0m \u001b[1;32min\u001b[0m \u001b[0mrange\u001b[0m\u001b[1;33m(\u001b[0m\u001b[0mn\u001b[0m\u001b[1;33m)\u001b[0m\u001b[1;33m]\u001b[0m\u001b[1;33m\u001b[0m\u001b[1;33m\u001b[0m\u001b[0m\n\u001b[0;32m      6\u001b[0m \u001b[1;33m\u001b[0m\u001b[0m\n",
      "\u001b[1;31mValueError\u001b[0m: not enough values to unpack (expected 3, got 0)"
     ]
    }
   ],
   "source": [
    "import sys\n",
    "input = sys.stdin.readline\n",
    "\n",
    "n,m,k = map(int, input().split())\n",
    "note = [[0]*m for i in range(n)]\n",
    "\n",
    "def rotate(paper):\n",
    "  r, c = len(paper), len(paper[0])\n",
    "  return [[paper[r-1-j][i] for j in range(r)] for i in range(c)]\n",
    "\n",
    "\n",
    "def pastable(x, y):\n",
    "  if any(note[x+i][y+j] == 1 and paper[i][j] == 1 for i in range(r) for j in range(c)):\n",
    "    return False\n",
    "  for i in range(r):\n",
    "    for j in range(c):\n",
    "      if paper[i][j] == 1:\n",
    "        note[x+i][y+j] = 1\n",
    "  return True\n",
    "\n",
    "\n",
    "for _ in range(k):\n",
    "  r, c = map(int, input().split())\n",
    "  paper = [list(map(int, input().split())) for _ in range(r)]\n",
    "  for rot in range(4):\n",
    "    is_paste = False\n",
    "    for x in range(n-r+1):\n",
    "      if is_paste: break\n",
    "      for y in range(m-c+1):\n",
    "        if pastable(x,y):\n",
    "          is_paste = True\n",
    "          break\n",
    "    if is_paste: break\n",
    "    if rot != 3:\n",
    "      paper = rotate(paper)\n",
    "      r, c = c, r\n",
    "\n",
    "sys.stdout.write(str(sum([sum(L) for L in note])))"
   ]
  },
  {
   "cell_type": "code",
   "execution_count": null,
   "metadata": {},
   "outputs": [],
   "source": []
  },
  {
   "cell_type": "code",
   "execution_count": null,
   "metadata": {},
   "outputs": [],
   "source": []
  }
 ],
 "metadata": {
  "kernelspec": {
   "display_name": "Python 3",
   "language": "python",
   "name": "python3"
  },
  "language_info": {
   "codemirror_mode": {
    "name": "ipython",
    "version": 3
   },
   "file_extension": ".py",
   "mimetype": "text/x-python",
   "name": "python",
   "nbconvert_exporter": "python",
   "pygments_lexer": "ipython3",
   "version": "3.7.4"
  }
 },
 "nbformat": 4,
 "nbformat_minor": 2
}
