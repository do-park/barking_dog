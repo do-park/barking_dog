{
 "cells": [
  {
   "cell_type": "code",
   "execution_count": null,
   "metadata": {},
   "outputs": [],
   "source": [
    "# 1926. 그림"
   ]
  },
  {
   "cell_type": "code",
   "execution_count": 12,
   "metadata": {},
   "outputs": [
    {
     "name": "stdout",
     "output_type": "stream",
     "text": [
      "6 5\n",
      "1 1 0 1 1\n",
      "0 1 1 0 0\n",
      "0 0 0 0 0\n",
      "1 0 1 1 1\n",
      "0 0 1 1 1\n",
      "0 0 1 1 1\n",
      "4\n",
      "9\n"
     ]
    }
   ],
   "source": [
    "def BFS(picture, visited, queue):\n",
    "    dy = [-1, 1, 0, 0]\n",
    "    dx = [0, 0, -1, 1]\n",
    "    result = 1\n",
    "    while queue:\n",
    "        y, x = queue.popleft()\n",
    "        for d in range(4):\n",
    "            Y = y + dy[d]\n",
    "            X = x + dx[d]\n",
    "            if 0 <= X < m and 0 <= Y < n and not visited[Y][X] and picture[Y][X]:\n",
    "                visited[Y][X] = True\n",
    "                queue.append([Y, X])\n",
    "                result += 1\n",
    "    return result\n",
    "\n",
    "\n",
    "import collections\n",
    "\n",
    "n, m = map(int, input().split())\n",
    "picture = [list(map(int, input().split())) for _ in range(n)]\n",
    "visited = [[False] * m for _ in range(n)]\n",
    "queue = collections.deque()\n",
    "answer = []\n",
    "\n",
    "for i in range(n):\n",
    "    for j in range(m):\n",
    "        if not visited[i][j]:\n",
    "            visited[i][j] = True\n",
    "            if picture[i][j] == 1:\n",
    "                queue.append([i, j])\n",
    "                answer.append(BFS(picture, visited, queue))\n",
    "\n",
    "print(len(answer))\n",
    "if answer:\n",
    "    print(max(answer))\n",
    "else:\n",
    "    print(0)"
   ]
  },
  {
   "cell_type": "code",
   "execution_count": null,
   "metadata": {},
   "outputs": [],
   "source": [
    "# 2178. 미로 탐색"
   ]
  },
  {
   "cell_type": "code",
   "execution_count": 11,
   "metadata": {},
   "outputs": [
    {
     "name": "stdout",
     "output_type": "stream",
     "text": [
      "4 6\n",
      "101111\n",
      "101010\n",
      "101011\n",
      "111011\n",
      "15\n"
     ]
    }
   ],
   "source": [
    "def safe(x, y):\n",
    "    if 0 <= x < M and 0 <= y < N:\n",
    "        return True\n",
    "    else:\n",
    "        return False\n",
    "\n",
    "\n",
    "def BFS(miro, i, j, N, M):\n",
    "    visited = []\n",
    "    queue = [[i, j]]\n",
    "    distance = [[0] * M for _ in range(N)]\n",
    "    distance[0][0] = 1\n",
    "\n",
    "    dy = [-1, 1, 0, 0]  # 상하좌우\n",
    "    dx = [0, 0, -1, 1]\n",
    "\n",
    "    while queue:\n",
    "        [i, j] = queue.pop(0)\n",
    "        visited.append([i, j])\n",
    "\n",
    "        for d in range(4):\n",
    "            Y = dy[d] + i\n",
    "            X = dx[d] + j\n",
    "\n",
    "            if safe(X, Y) and miro[Y][X] == 1 and [Y, X] not in visited and [Y, X] not in queue:\n",
    "                queue.append([Y, X])\n",
    "                distance[Y][X] = distance[i][j] + 1\n",
    "\n",
    "    return distance[N - 1][M - 1]\n",
    "\n",
    "\n",
    "N, M = map(int, input().split())\n",
    "miro = [list(map(int, input())) for _ in range(N)]\n",
    "\n",
    "print(BFS(miro, 0, 0, N, M))"
   ]
  },
  {
   "cell_type": "code",
   "execution_count": null,
   "metadata": {},
   "outputs": [],
   "source": [
    "# 1012. 유기농 배추"
   ]
  },
  {
   "cell_type": "code",
   "execution_count": 10,
   "metadata": {},
   "outputs": [
    {
     "name": "stdout",
     "output_type": "stream",
     "text": [
      "1\n",
      "10 10 1\n",
      "5 5\n",
      "1\n"
     ]
    }
   ],
   "source": [
    "def safe(y, x):\n",
    "    if 0 <= y < N and 0 <= x < M:\n",
    "        return True\n",
    "    else:\n",
    "        return False\n",
    "\n",
    "\n",
    "def BFS(baechu, i, j, visited):\n",
    "    if baechu[i][j] == 0:\n",
    "        visited.append([i, j])\n",
    "        return [0, visited]\n",
    "\n",
    "    block = []\n",
    "    queue = [[i, j]]\n",
    "\n",
    "    while queue:\n",
    "        [i, j] = queue.pop()\n",
    "        block.append([i, j])\n",
    "        visited.append([i, j])\n",
    "\n",
    "        dy = [-1, 1, 0, 0]\n",
    "        dx = [0, 0, -1, 1]\n",
    "\n",
    "        if baechu[i][j] == 1:\n",
    "            for k in range(0, 4):\n",
    "                Y = dy[k] + i\n",
    "                X = dx[k] + j\n",
    "                if safe(Y, X) and baechu[Y][X] == 1 and [Y, X] not in block:\n",
    "                    queue.append([Y, X])\n",
    "\n",
    "    return [len(block), visited]\n",
    "\n",
    "\n",
    "T = int(input())\n",
    "for tc in range(0, T):\n",
    "    M, N, K = list(map(int, input().split()))\n",
    "    baechu = [[0] * M for _ in range(N)]\n",
    "    visited = [[False] * M for _ in range(N)]\n",
    "    result = []\n",
    "\n",
    "    for k in range(K):\n",
    "        x, y = map(int, input().split())\n",
    "        baechu[y][x] = 1\n",
    "\n",
    "    for i in range(N):\n",
    "        for j in range(M):\n",
    "            if [i, j] not in visited:\n",
    "                [size, visited] = BFS(baechu, i, j, visited)\n",
    "                if size != 0:\n",
    "                    result.append(size)\n",
    "\n",
    "    print(len(result))"
   ]
  },
  {
   "cell_type": "code",
   "execution_count": null,
   "metadata": {},
   "outputs": [],
   "source": [
    "# 1697. 숨바꼭질"
   ]
  },
  {
   "cell_type": "code",
   "execution_count": 9,
   "metadata": {},
   "outputs": [
    {
     "name": "stdout",
     "output_type": "stream",
     "text": [
      "5 17\n",
      "4\n"
     ]
    }
   ],
   "source": [
    "import collections\n",
    "\n",
    "\n",
    "def seek():\n",
    "    while queue:\n",
    "        now = queue.popleft()\n",
    "        vn = visited[now]\n",
    "        if now == K:\n",
    "            return vn\n",
    "        next(now - 1, vn)\n",
    "        next(now + 1, vn)\n",
    "        next(now * 2, vn)\n",
    "\n",
    "\n",
    "def next(next, vn):\n",
    "    if 0 <= next < 100001 and (visited[next] == 0 or vn + 1 < visited[next]):\n",
    "        visited[next] = vn + 1\n",
    "        queue.append(next)\n",
    "\n",
    "\n",
    "N, K = map(int, input().split())\n",
    "visited = [0] * 100001\n",
    "queue = collections.deque()\n",
    "queue.append(N)\n",
    "print(seek())"
   ]
  },
  {
   "cell_type": "code",
   "execution_count": null,
   "metadata": {},
   "outputs": [],
   "source": [
    "# 7576. 토마토"
   ]
  },
  {
   "cell_type": "code",
   "execution_count": 8,
   "metadata": {},
   "outputs": [
    {
     "name": "stdout",
     "output_type": "stream",
     "text": [
      "6 4\n",
      "0 0 0 0 0 0\n",
      "0 0 0 0 0 0\n",
      "0 0 0 0 0 0\n",
      "0 0 0 0 0 1\n",
      "8\n"
     ]
    }
   ],
   "source": [
    "from collections import deque\n",
    "\n",
    "def safe(y, x):\n",
    "    if 0 <= y < N and 0 <= x < M:\n",
    "        return True\n",
    "    else:\n",
    "        return False\n",
    "\n",
    "\n",
    "M, N = map(int, input().split())\n",
    "tomato = [list(map(int, input().split())) for _ in range(N)]\n",
    "queue = deque()\n",
    "result = 1\n",
    "\n",
    "for n in range(0, N):\n",
    "    for m in range(0, M):\n",
    "        if tomato[n][m] == 1:\n",
    "            queue.append([n, m])\n",
    "\n",
    "dy = [-1, 1, 0, 0]\n",
    "dx = [0, 0, -1, 1]\n",
    "\n",
    "while queue:\n",
    "    [i, j] = queue.popleft()\n",
    "\n",
    "    for d in range(4):\n",
    "        Y = dy[d] + i\n",
    "        X = dx[d] + j\n",
    "\n",
    "        if safe(Y, X) and tomato[Y][X] == 0:\n",
    "            queue.append([Y, X])\n",
    "            tomato[Y][X] = tomato[i][j] + 1\n",
    "            if result < tomato[Y][X]:\n",
    "                result = tomato[Y][X]\n",
    "\n",
    "for t in tomato:\n",
    "    if 0 in t:\n",
    "        result = 0\n",
    "        break\n",
    "\n",
    "print(result - 1)"
   ]
  },
  {
   "cell_type": "code",
   "execution_count": null,
   "metadata": {},
   "outputs": [],
   "source": [
    "# 7569. 토마토"
   ]
  },
  {
   "cell_type": "code",
   "execution_count": 7,
   "metadata": {},
   "outputs": [
    {
     "name": "stdout",
     "output_type": "stream",
     "text": [
      "5 3 2\n",
      "0 0 0 0 0\n",
      "0 0 0 0 0\n",
      "0 0 0 0 0\n",
      "0 0 0 0 0\n",
      "0 0 1 0 0\n",
      "0 0 0 0 0\n",
      "4\n"
     ]
    }
   ],
   "source": [
    "import sys\n",
    "from collections import deque\n",
    "\n",
    "def safe3d(x, y, z):\n",
    "    if 0 <= x < M and 0 <= y < N and 0 <= z < H:\n",
    "        return True\n",
    "    else:\n",
    "        return False\n",
    "\n",
    "\n",
    "M, N, H = map(int, input().split())\n",
    "tomato = [[list(map(int, input().split())) for _ in range (N)] for _ in range(H)]\n",
    "\n",
    "queue = deque()\n",
    "\n",
    "for h in range(H):\n",
    "    for n in range(N):\n",
    "        for m in range(M):\n",
    "            if tomato[h][n][m] == 1:\n",
    "                queue.append([h, n, m])\n",
    "\n",
    "dz = [0, 0, 0, 0, 1, -1]\n",
    "dy = [0, 0, 1, -1, 0, 0]\n",
    "dx = [1, -1, 0, 0, 0, 0]\n",
    "result = 1\n",
    "\n",
    "while queue:\n",
    "    z, y, x = queue.popleft()\n",
    "    for d in range(6):\n",
    "        Z = z + dz[d]\n",
    "        Y = y + dy[d]\n",
    "        X = x + dx[d]\n",
    "\n",
    "        if safe3d(X, Y, Z) and tomato[Z][Y][X] == 0:\n",
    "            tomato[Z][Y][X] = tomato[z][y][x] + 1\n",
    "            queue.append([Z, Y, X])\n",
    "            if result < tomato[Z][Y][X]:\n",
    "                result = tomato[Z][Y][X]\n",
    "\n",
    "flag = 1\n",
    "while flag:\n",
    "    for h in range(H):\n",
    "        for n in range(N):\n",
    "            for m in range(M):\n",
    "                if tomato[h][n][m] == 0:\n",
    "                    result = 0\n",
    "                    flag = 0\n",
    "                    break\n",
    "    else:\n",
    "        flag = 0\n",
    "\n",
    "print(result - 1)"
   ]
  },
  {
   "cell_type": "code",
   "execution_count": null,
   "metadata": {},
   "outputs": [],
   "source": [
    "# 9466. 텀프로젝트"
   ]
  },
  {
   "cell_type": "code",
   "execution_count": null,
   "metadata": {},
   "outputs": [],
   "source": []
  },
  {
   "cell_type": "code",
   "execution_count": null,
   "metadata": {},
   "outputs": [],
   "source": [
    "# 2667. 단지번호붙이기"
   ]
  },
  {
   "cell_type": "code",
   "execution_count": 6,
   "metadata": {},
   "outputs": [
    {
     "name": "stdout",
     "output_type": "stream",
     "text": [
      "7\n",
      "0110100\n",
      "0110101\n",
      "1110101\n",
      "0000111\n",
      "0100000\n",
      "0111110\n",
      "0111000\n",
      "3\n",
      "7\n",
      "8\n",
      "9\n"
     ]
    }
   ],
   "source": [
    "def safe(x, y):\n",
    "    if (0 <= x < N and 0 <= y < N):\n",
    "        return True\n",
    "    else:\n",
    "        return False\n",
    "\n",
    "\n",
    "def BFS(apart, i, j, N, visited):\n",
    "    if apart[i][j] == 0:\n",
    "        visited.append([i, j])\n",
    "        return [0, visited]\n",
    "\n",
    "    block = []\n",
    "    queue = [[i, j]]\n",
    "\n",
    "    while queue:\n",
    "        [i, j] = queue.pop()\n",
    "        block.append([i, j])\n",
    "        visited.append([i, j])\n",
    "\n",
    "        if apart[i][j] == 1:\n",
    "            dy = [-1, 1, 0, 0]\n",
    "            dx = [0, 0, -1, 1]\n",
    "            for k in range(0, 4):\n",
    "                Y = dy[k] + i\n",
    "                X = dx[k] + j\n",
    "                if safe(X, Y) and apart[Y][X] == 1 and [Y, X] not in block and [Y, X] not in queue:\n",
    "                    queue.append([Y, X])\n",
    "\n",
    "    return [len(block), visited]\n",
    "\n",
    "N = int(input())\n",
    "apart = [list(map(int, input())) for _ in range(N)]\n",
    "visited = []\n",
    "result = []\n",
    "\n",
    "\n",
    "\n",
    "for i in range(0, N):\n",
    "    for j in range(0, N):\n",
    "        if [i, j] not in visited:\n",
    "            [size, visited] = BFS(apart, i, j, N, visited)\n",
    "            if size != 0:\n",
    "                result.append(size)\n",
    "\n",
    "print(len(result))\n",
    "for i in sorted(result):\n",
    "    print(i)"
   ]
  },
  {
   "cell_type": "code",
   "execution_count": null,
   "metadata": {},
   "outputs": [],
   "source": [
    "# 2583. 영역 구하기"
   ]
  },
  {
   "cell_type": "code",
   "execution_count": 5,
   "metadata": {},
   "outputs": [
    {
     "name": "stdout",
     "output_type": "stream",
     "text": [
      "5 7 3\n",
      "0 2 4 4\n",
      "1 1 2 5\n",
      "4 0 6 2\n",
      "3\n",
      "1 7 13 "
     ]
    }
   ],
   "source": [
    "def safe(y, x):\n",
    "    if 0 <= y < M and 0 <= x < N:\n",
    "        return True\n",
    "    else:\n",
    "        return False\n",
    "\n",
    "\n",
    "def BFS(area, i, j, visited):\n",
    "    if area[i][j]:\n",
    "        visited[i][j] = True\n",
    "        return [0, visited]\n",
    "\n",
    "    block = []\n",
    "    queue = [[i, j]]\n",
    "\n",
    "    while queue:\n",
    "        [i, j] = queue.pop()\n",
    "        block.append([i, j])\n",
    "        visited[i][j] = True\n",
    "\n",
    "        dy = [-1, 1, 0, 0]\n",
    "        dx = [0, 0, -1, 1]\n",
    "\n",
    "        if area[i][j] == 0:\n",
    "            for k in range(4):\n",
    "                Y = dy[k] + i\n",
    "                X = dx[k] + j\n",
    "                if safe(Y, X) and area[Y][X] == 0 and [Y, X] not in block and [Y, X] not in queue:\n",
    "                    queue.append([Y, X])\n",
    "\n",
    "    return [len(block), visited]\n",
    "\n",
    "\n",
    "M, N, K = list(map(int, input().split()))\n",
    "area = [[0] * N for _ in range(M)]\n",
    "for k in range(K):\n",
    "    x1, y1, x2, y2 = list(map(int, input().split()))\n",
    "    for x in range(x1, x2):\n",
    "        for y in range(y1, y2):\n",
    "            area[y][x] = 1\n",
    "\n",
    "result = []\n",
    "visited = [[False] * N for _ in range(M)]\n",
    "for y in range(0, M):\n",
    "    for x in range(0, N):\n",
    "        if not visited[y][x]:\n",
    "            [size, visited] = BFS(area, y, x, visited)\n",
    "            if size != 0:\n",
    "                result.append(size)\n",
    "\n",
    "print(len(result))\n",
    "for r in sorted(result):\n",
    "    print(r, end=' ')"
   ]
  },
  {
   "cell_type": "code",
   "execution_count": null,
   "metadata": {},
   "outputs": [],
   "source": [
    "# 7562. 나이트의 이동"
   ]
  },
  {
   "cell_type": "code",
   "execution_count": 4,
   "metadata": {
    "scrolled": true
   },
   "outputs": [
    {
     "name": "stdout",
     "output_type": "stream",
     "text": [
      "3\n",
      "8\n",
      "0 0\n",
      "7 0\n",
      "5\n",
      "100\n",
      "0 0\n",
      "30 50\n",
      "28\n",
      "10\n",
      "1 1\n",
      "1 1\n",
      "0\n"
     ]
    }
   ],
   "source": [
    "import collections\n",
    "\n",
    "def knight():\n",
    "    dy = [1, 1, 2, 2, -1, -1, -2, -2]\n",
    "    dx = [2, -2, 1, -1, 2, -2, 1, -1]\n",
    "    while queue:\n",
    "        y, x = queue.popleft()\n",
    "        move = visited[y][x]\n",
    "        if x == dst_x and y == dst_y:\n",
    "            return move\n",
    "        for d in range(8):\n",
    "            Y = y + dy[d]\n",
    "            X = x + dx[d]\n",
    "            if 0 <= Y < I and 0 <= X < I and (visited[Y][X] == -1 or visited[Y][X] > move + 1):\n",
    "                visited[Y][X] = move + 1\n",
    "                queue.append([Y, X])\n",
    "\n",
    "\n",
    "T = int(input())\n",
    "for tc in range(T):\n",
    "    I = int(input())\n",
    "    visited = [[-1] * I for _ in range(I)]\n",
    "    srt_y, srt_x = map(int, input().split())\n",
    "    dst_y, dst_x = map(int, input().split())\n",
    "    visited[srt_y][srt_x] = 0\n",
    "    queue = collections.deque()\n",
    "    queue.append([srt_y, srt_x])\n",
    "    print(knight())"
   ]
  },
  {
   "cell_type": "code",
   "execution_count": null,
   "metadata": {},
   "outputs": [],
   "source": [
    "# 10026. 적록색약"
   ]
  },
  {
   "cell_type": "code",
   "execution_count": 2,
   "metadata": {},
   "outputs": [
    {
     "name": "stdout",
     "output_type": "stream",
     "text": [
      "5\n",
      "RRRBB\n",
      "GGBBB\n",
      "BBBRR\n",
      "BBRRR\n",
      "RRRRR\n",
      "4 3\n"
     ]
    }
   ],
   "source": [
    "import collections\n",
    "\n",
    "def norm():\n",
    "    cnt = 1\n",
    "    while queue_n:\n",
    "        y, x = queue_n.popleft()\n",
    "        clr = picture[y][x]\n",
    "        for d in range(4):\n",
    "            Y = y + dy[d]\n",
    "            X = x + dx[d]\n",
    "            if 0 <= X < N and 0 <= Y < N and not visited_n[Y][X] and picture[Y][X] == clr:\n",
    "                visited_n[Y][X] = True\n",
    "                queue_n.append([Y, X])\n",
    "                cnt += 1\n",
    "    return cnt\n",
    "\n",
    "def weak():\n",
    "    cnt = 1\n",
    "    while queue_w:\n",
    "        y, x = queue_w.popleft()\n",
    "        clr = picture[y][x]\n",
    "        for d in range(4):\n",
    "            Y = y + dy[d]\n",
    "            X = x + dx[d]\n",
    "            if 0 <= X < N and 0 <= Y < N and not visited_w[Y][X]:\n",
    "                if picture[Y][X] == 'B' and clr == 'B':\n",
    "                    visited_w[Y][X] = True\n",
    "                    queue_w.append([Y, X])\n",
    "                    cnt += 1\n",
    "                elif (picture[Y][X] == 'R' or picture[Y][X] == 'G') and (clr == 'R' or clr == 'G'):\n",
    "                    visited_w[Y][X] = True\n",
    "                    queue_w.append([Y, X])\n",
    "                    cnt += 1\n",
    "    return cnt\n",
    "\n",
    "\n",
    "N = int(input())\n",
    "picture = [list(map(str, input())) for _ in range(N)]\n",
    "visited_n = [[False] * N for _ in range(N)]\n",
    "visited_w = [[False] * N for _ in range(N)]\n",
    "queue_n = collections.deque()\n",
    "queue_w = collections.deque()\n",
    "result_n = []\n",
    "result_w = []\n",
    "dy = [-1, 1, 0, 0]\n",
    "dx = [0, 0, -1, 1]\n",
    "\n",
    "for i in range(N):\n",
    "    for j in range(N):\n",
    "        if not visited_n[i][j]:\n",
    "            visited_n[i][j] = True\n",
    "            queue_n.append([i, j])\n",
    "            result_n.append(norm())\n",
    "        if not visited_w[i][j]:\n",
    "            visited_w[i][j] = True\n",
    "            queue_w.append([i, j])\n",
    "            result_w.append(weak())\n",
    "\n",
    "print(len(result_n), len(result_w))"
   ]
  },
  {
   "cell_type": "code",
   "execution_count": null,
   "metadata": {},
   "outputs": [],
   "source": [
    "# 2206. 벽 부수고 이동하기"
   ]
  },
  {
   "cell_type": "code",
   "execution_count": null,
   "metadata": {},
   "outputs": [],
   "source": []
  },
  {
   "cell_type": "code",
   "execution_count": null,
   "metadata": {},
   "outputs": [],
   "source": [
    "# 2468. 안전 영역"
   ]
  },
  {
   "cell_type": "code",
   "execution_count": 1,
   "metadata": {},
   "outputs": [
    {
     "name": "stdout",
     "output_type": "stream",
     "text": [
      "5\n",
      "6 8 2 6 2\n",
      "3 2 3 4 6\n",
      "6 7 3 3 2\n",
      "7 2 5 3 6\n",
      "8 9 5 2 7\n",
      "5\n"
     ]
    }
   ],
   "source": [
    "import collections\n",
    "\n",
    "def safe():\n",
    "    cnt = 1\n",
    "    dy = [-1, 1, 0, 0]\n",
    "    dx = [0, 0, -1, 1]\n",
    "    while queue:\n",
    "        ny, nx = queue.popleft()\n",
    "        for d in range(4):\n",
    "            Y = ny + dy[d]\n",
    "            X = nx + dx[d]\n",
    "            if 0 <= Y < N and 0 <= X < N and not visited[Y][X] and maps[Y][X] != -1:\n",
    "                visited[Y][X] = True\n",
    "                queue.append([Y, X])\n",
    "                cnt += 1\n",
    "    return cnt\n",
    "\n",
    "N = int(input())\n",
    "maps = [list(map(int, input().split())) for _ in range(N)]\n",
    "ans = 1\n",
    "for i in range(1, 101):\n",
    "    flag = False\n",
    "    for y in range(N):\n",
    "        for x in range(N):\n",
    "            if maps[y][x] == i:\n",
    "                maps[y][x] = -1\n",
    "                flag = True\n",
    "    if flag:\n",
    "        queue = collections.deque()\n",
    "        visited = [[False] * N for _ in range(N)]\n",
    "        result = []\n",
    "        for x in range(N):\n",
    "            for y in range(N):\n",
    "                if not visited[y][x]:\n",
    "                    visited[y][x] = True\n",
    "                    if maps[y][x] != -1:\n",
    "                        queue.append([y, x])\n",
    "                        result.append(safe())\n",
    "        if len(result) >= ans:\n",
    "            ans = len(result)\n",
    "print(ans)"
   ]
  },
  {
   "cell_type": "code",
   "execution_count": null,
   "metadata": {},
   "outputs": [],
   "source": [
    "# 2573. 빙산"
   ]
  },
  {
   "cell_type": "code",
   "execution_count": null,
   "metadata": {},
   "outputs": [],
   "source": []
  },
  {
   "cell_type": "code",
   "execution_count": null,
   "metadata": {},
   "outputs": [],
   "source": [
    "# 5427. 불"
   ]
  },
  {
   "cell_type": "code",
   "execution_count": null,
   "metadata": {},
   "outputs": [],
   "source": []
  },
  {
   "cell_type": "code",
   "execution_count": null,
   "metadata": {},
   "outputs": [],
   "source": [
    "# 2146. 다리 만들기"
   ]
  },
  {
   "cell_type": "code",
   "execution_count": null,
   "metadata": {},
   "outputs": [],
   "source": []
  },
  {
   "cell_type": "code",
   "execution_count": null,
   "metadata": {},
   "outputs": [],
   "source": [
    "# 5014. 스타트링크"
   ]
  },
  {
   "cell_type": "code",
   "execution_count": null,
   "metadata": {},
   "outputs": [],
   "source": []
  }
 ],
 "metadata": {
  "kernelspec": {
   "display_name": "Python 3",
   "language": "python",
   "name": "python3"
  },
  "language_info": {
   "codemirror_mode": {
    "name": "ipython",
    "version": 3
   },
   "file_extension": ".py",
   "mimetype": "text/x-python",
   "name": "python",
   "nbconvert_exporter": "python",
   "pygments_lexer": "ipython3",
   "version": "3.7.6"
  }
 },
 "nbformat": 4,
 "nbformat_minor": 4
}
