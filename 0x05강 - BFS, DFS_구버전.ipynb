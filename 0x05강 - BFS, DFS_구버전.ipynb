{
 "cells": [
  {
   "cell_type": "code",
   "execution_count": null,
   "metadata": {},
   "outputs": [],
   "source": [
    "# 1926. 그림"
   ]
  },
  {
   "cell_type": "code",
   "execution_count": 12,
   "metadata": {},
   "outputs": [
    {
     "name": "stdout",
     "output_type": "stream",
     "text": [
      "6 5\n",
      "1 1 0 1 1\n",
      "0 1 1 0 0\n",
      "0 0 0 0 0\n",
      "1 0 1 1 1\n",
      "0 0 1 1 1\n",
      "0 0 1 1 1\n",
      "4\n",
      "9\n"
     ]
    }
   ],
   "source": [
    "def BFS(picture, visited, queue):\n",
    "    dy = [-1, 1, 0, 0]\n",
    "    dx = [0, 0, -1, 1]\n",
    "    result = 1\n",
    "    while queue:\n",
    "        y, x = queue.popleft()\n",
    "        for d in range(4):\n",
    "            Y = y + dy[d]\n",
    "            X = x + dx[d]\n",
    "            if 0 <= X < m and 0 <= Y < n and not visited[Y][X] and picture[Y][X]:\n",
    "                visited[Y][X] = True\n",
    "                queue.append([Y, X])\n",
    "                result += 1\n",
    "    return result\n",
    "\n",
    "\n",
    "import collections\n",
    "\n",
    "n, m = map(int, input().split())\n",
    "picture = [list(map(int, input().split())) for _ in range(n)]\n",
    "visited = [[False] * m for _ in range(n)]\n",
    "queue = collections.deque()\n",
    "answer = []\n",
    "\n",
    "for i in range(n):\n",
    "    for j in range(m):\n",
    "        if not visited[i][j]:\n",
    "            visited[i][j] = True\n",
    "            if picture[i][j] == 1:\n",
    "                queue.append([i, j])\n",
    "                answer.append(BFS(picture, visited, queue))\n",
    "\n",
    "print(len(answer))\n",
    "if answer:\n",
    "    print(max(answer))\n",
    "else:\n",
    "    print(0)"
   ]
  },
  {
   "cell_type": "code",
   "execution_count": null,
   "metadata": {},
   "outputs": [],
   "source": [
    "# 2178. 미로 탐색"
   ]
  },
  {
   "cell_type": "code",
   "execution_count": 11,
   "metadata": {},
   "outputs": [
    {
     "name": "stdout",
     "output_type": "stream",
     "text": [
      "4 6\n",
      "101111\n",
      "101010\n",
      "101011\n",
      "111011\n",
      "15\n"
     ]
    }
   ],
   "source": [
    "def safe(x, y):\n",
    "    if 0 <= x < M and 0 <= y < N:\n",
    "        return True\n",
    "    else:\n",
    "        return False\n",
    "\n",
    "\n",
    "def BFS(miro, i, j, N, M):\n",
    "    visited = []\n",
    "    queue = [[i, j]]\n",
    "    distance = [[0] * M for _ in range(N)]\n",
    "    distance[0][0] = 1\n",
    "\n",
    "    dy = [-1, 1, 0, 0]  # 상하좌우\n",
    "    dx = [0, 0, -1, 1]\n",
    "\n",
    "    while queue:\n",
    "        [i, j] = queue.pop(0)\n",
    "        visited.append([i, j])\n",
    "\n",
    "        for d in range(4):\n",
    "            Y = dy[d] + i\n",
    "            X = dx[d] + j\n",
    "\n",
    "            if safe(X, Y) and miro[Y][X] == 1 and [Y, X] not in visited and [Y, X] not in queue:\n",
    "                queue.append([Y, X])\n",
    "                distance[Y][X] = distance[i][j] + 1\n",
    "\n",
    "    return distance[N - 1][M - 1]\n",
    "\n",
    "\n",
    "N, M = map(int, input().split())\n",
    "miro = [list(map(int, input())) for _ in range(N)]\n",
    "\n",
    "print(BFS(miro, 0, 0, N, M))"
   ]
  },
  {
   "cell_type": "code",
   "execution_count": null,
   "metadata": {},
   "outputs": [],
   "source": [
    "# 1012. 유기농 배추"
   ]
  },
  {
   "cell_type": "code",
   "execution_count": 10,
   "metadata": {},
   "outputs": [
    {
     "name": "stdout",
     "output_type": "stream",
     "text": [
      "1\n",
      "10 10 1\n",
      "5 5\n",
      "1\n"
     ]
    }
   ],
   "source": [
    "def safe(y, x):\n",
    "    if 0 <= y < N and 0 <= x < M:\n",
    "        return True\n",
    "    else:\n",
    "        return False\n",
    "\n",
    "\n",
    "def BFS(baechu, i, j, visited):\n",
    "    if baechu[i][j] == 0:\n",
    "        visited.append([i, j])\n",
    "        return [0, visited]\n",
    "\n",
    "    block = []\n",
    "    queue = [[i, j]]\n",
    "\n",
    "    while queue:\n",
    "        [i, j] = queue.pop()\n",
    "        block.append([i, j])\n",
    "        visited.append([i, j])\n",
    "\n",
    "        dy = [-1, 1, 0, 0]\n",
    "        dx = [0, 0, -1, 1]\n",
    "\n",
    "        if baechu[i][j] == 1:\n",
    "            for k in range(0, 4):\n",
    "                Y = dy[k] + i\n",
    "                X = dx[k] + j\n",
    "                if safe(Y, X) and baechu[Y][X] == 1 and [Y, X] not in block:\n",
    "                    queue.append([Y, X])\n",
    "\n",
    "    return [len(block), visited]\n",
    "\n",
    "\n",
    "T = int(input())\n",
    "for tc in range(0, T):\n",
    "    M, N, K = list(map(int, input().split()))\n",
    "    baechu = [[0] * M for _ in range(N)]\n",
    "    visited = [[False] * M for _ in range(N)]\n",
    "    result = []\n",
    "\n",
    "    for k in range(K):\n",
    "        x, y = map(int, input().split())\n",
    "        baechu[y][x] = 1\n",
    "\n",
    "    for i in range(N):\n",
    "        for j in range(M):\n",
    "            if [i, j] not in visited:\n",
    "                [size, visited] = BFS(baechu, i, j, visited)\n",
    "                if size != 0:\n",
    "                    result.append(size)\n",
    "\n",
    "    print(len(result))"
   ]
  },
  {
   "cell_type": "code",
   "execution_count": null,
   "metadata": {},
   "outputs": [],
   "source": [
    "# 1697. 숨바꼭질"
   ]
  },
  {
   "cell_type": "code",
   "execution_count": 9,
   "metadata": {},
   "outputs": [
    {
     "name": "stdout",
     "output_type": "stream",
     "text": [
      "5 17\n",
      "4\n"
     ]
    }
   ],
   "source": [
    "import collections\n",
    "\n",
    "\n",
    "def seek():\n",
    "    while queue:\n",
    "        now = queue.popleft()\n",
    "        vn = visited[now]\n",
    "        if now == K:\n",
    "            return vn\n",
    "        next(now - 1, vn)\n",
    "        next(now + 1, vn)\n",
    "        next(now * 2, vn)\n",
    "\n",
    "\n",
    "def next(next, vn):\n",
    "    if 0 <= next < 100001 and (visited[next] == 0 or vn + 1 < visited[next]):\n",
    "        visited[next] = vn + 1\n",
    "        queue.append(next)\n",
    "\n",
    "\n",
    "N, K = map(int, input().split())\n",
    "visited = [0] * 100001\n",
    "queue = collections.deque()\n",
    "queue.append(N)\n",
    "print(seek())"
   ]
  },
  {
   "cell_type": "code",
   "execution_count": null,
   "metadata": {},
   "outputs": [],
   "source": [
    "# 7576. 토마토"
   ]
  },
  {
   "cell_type": "code",
   "execution_count": 8,
   "metadata": {},
   "outputs": [
    {
     "name": "stdout",
     "output_type": "stream",
     "text": [
      "6 4\n",
      "0 0 0 0 0 0\n",
      "0 0 0 0 0 0\n",
      "0 0 0 0 0 0\n",
      "0 0 0 0 0 1\n",
      "8\n"
     ]
    }
   ],
   "source": [
    "from collections import deque\n",
    "\n",
    "def safe(y, x):\n",
    "    if 0 <= y < N and 0 <= x < M:\n",
    "        return True\n",
    "    else:\n",
    "        return False\n",
    "\n",
    "\n",
    "M, N = map(int, input().split())\n",
    "tomato = [list(map(int, input().split())) for _ in range(N)]\n",
    "queue = deque()\n",
    "result = 1\n",
    "\n",
    "for n in range(0, N):\n",
    "    for m in range(0, M):\n",
    "        if tomato[n][m] == 1:\n",
    "            queue.append([n, m])\n",
    "\n",
    "dy = [-1, 1, 0, 0]\n",
    "dx = [0, 0, -1, 1]\n",
    "\n",
    "while queue:\n",
    "    [i, j] = queue.popleft()\n",
    "\n",
    "    for d in range(4):\n",
    "        Y = dy[d] + i\n",
    "        X = dx[d] + j\n",
    "\n",
    "        if safe(Y, X) and tomato[Y][X] == 0:\n",
    "            queue.append([Y, X])\n",
    "            tomato[Y][X] = tomato[i][j] + 1\n",
    "            if result < tomato[Y][X]:\n",
    "                result = tomato[Y][X]\n",
    "\n",
    "for t in tomato:\n",
    "    if 0 in t:\n",
    "        result = 0\n",
    "        break\n",
    "\n",
    "print(result - 1)"
   ]
  },
  {
   "cell_type": "code",
   "execution_count": null,
   "metadata": {},
   "outputs": [],
   "source": [
    "# 7569. 토마토"
   ]
  },
  {
   "cell_type": "code",
   "execution_count": 7,
   "metadata": {},
   "outputs": [
    {
     "name": "stdout",
     "output_type": "stream",
     "text": [
      "5 3 2\n",
      "0 0 0 0 0\n",
      "0 0 0 0 0\n",
      "0 0 0 0 0\n",
      "0 0 0 0 0\n",
      "0 0 1 0 0\n",
      "0 0 0 0 0\n",
      "4\n"
     ]
    }
   ],
   "source": [
    "import sys\n",
    "from collections import deque\n",
    "\n",
    "def safe3d(x, y, z):\n",
    "    if 0 <= x < M and 0 <= y < N and 0 <= z < H:\n",
    "        return True\n",
    "    else:\n",
    "        return False\n",
    "\n",
    "\n",
    "M, N, H = map(int, input().split())\n",
    "tomato = [[list(map(int, input().split())) for _ in range (N)] for _ in range(H)]\n",
    "\n",
    "queue = deque()\n",
    "\n",
    "for h in range(H):\n",
    "    for n in range(N):\n",
    "        for m in range(M):\n",
    "            if tomato[h][n][m] == 1:\n",
    "                queue.append([h, n, m])\n",
    "\n",
    "dz = [0, 0, 0, 0, 1, -1]\n",
    "dy = [0, 0, 1, -1, 0, 0]\n",
    "dx = [1, -1, 0, 0, 0, 0]\n",
    "result = 1\n",
    "\n",
    "while queue:\n",
    "    z, y, x = queue.popleft()\n",
    "    for d in range(6):\n",
    "        Z = z + dz[d]\n",
    "        Y = y + dy[d]\n",
    "        X = x + dx[d]\n",
    "\n",
    "        if safe3d(X, Y, Z) and tomato[Z][Y][X] == 0:\n",
    "            tomato[Z][Y][X] = tomato[z][y][x] + 1\n",
    "            queue.append([Z, Y, X])\n",
    "            if result < tomato[Z][Y][X]:\n",
    "                result = tomato[Z][Y][X]\n",
    "\n",
    "flag = 1\n",
    "while flag:\n",
    "    for h in range(H):\n",
    "        for n in range(N):\n",
    "            for m in range(M):\n",
    "                if tomato[h][n][m] == 0:\n",
    "                    result = 0\n",
    "                    flag = 0\n",
    "                    break\n",
    "    else:\n",
    "        flag = 0\n",
    "\n",
    "print(result - 1)"
   ]
  },
  {
   "cell_type": "code",
   "execution_count": null,
   "metadata": {},
   "outputs": [],
   "source": [
    "# 9466. 텀프로젝트"
   ]
  },
  {
   "cell_type": "code",
   "execution_count": null,
   "metadata": {},
   "outputs": [],
   "source": []
  },
  {
   "cell_type": "code",
   "execution_count": null,
   "metadata": {},
   "outputs": [],
   "source": [
    "# 2667. 단지번호붙이기"
   ]
  },
  {
   "cell_type": "code",
   "execution_count": 6,
   "metadata": {},
   "outputs": [
    {
     "name": "stdout",
     "output_type": "stream",
     "text": [
      "7\n",
      "0110100\n",
      "0110101\n",
      "1110101\n",
      "0000111\n",
      "0100000\n",
      "0111110\n",
      "0111000\n",
      "3\n",
      "7\n",
      "8\n",
      "9\n"
     ]
    }
   ],
   "source": [
    "def safe(x, y):\n",
    "    if (0 <= x < N and 0 <= y < N):\n",
    "        return True\n",
    "    else:\n",
    "        return False\n",
    "\n",
    "\n",
    "def BFS(apart, i, j, N, visited):\n",
    "    if apart[i][j] == 0:\n",
    "        visited.append([i, j])\n",
    "        return [0, visited]\n",
    "\n",
    "    block = []\n",
    "    queue = [[i, j]]\n",
    "\n",
    "    while queue:\n",
    "        [i, j] = queue.pop()\n",
    "        block.append([i, j])\n",
    "        visited.append([i, j])\n",
    "\n",
    "        if apart[i][j] == 1:\n",
    "            dy = [-1, 1, 0, 0]\n",
    "            dx = [0, 0, -1, 1]\n",
    "            for k in range(0, 4):\n",
    "                Y = dy[k] + i\n",
    "                X = dx[k] + j\n",
    "                if safe(X, Y) and apart[Y][X] == 1 and [Y, X] not in block and [Y, X] not in queue:\n",
    "                    queue.append([Y, X])\n",
    "\n",
    "    return [len(block), visited]\n",
    "\n",
    "N = int(input())\n",
    "apart = [list(map(int, input())) for _ in range(N)]\n",
    "visited = []\n",
    "result = []\n",
    "\n",
    "\n",
    "\n",
    "for i in range(0, N):\n",
    "    for j in range(0, N):\n",
    "        if [i, j] not in visited:\n",
    "            [size, visited] = BFS(apart, i, j, N, visited)\n",
    "            if size != 0:\n",
    "                result.append(size)\n",
    "\n",
    "print(len(result))\n",
    "for i in sorted(result):\n",
    "    print(i)"
   ]
  },
  {
   "cell_type": "code",
   "execution_count": null,
   "metadata": {},
   "outputs": [],
   "source": [
    "# 2583. 영역 구하기"
   ]
  },
  {
   "cell_type": "code",
   "execution_count": 5,
   "metadata": {},
   "outputs": [
    {
     "name": "stdout",
     "output_type": "stream",
     "text": [
      "5 7 3\n",
      "0 2 4 4\n",
      "1 1 2 5\n",
      "4 0 6 2\n",
      "3\n",
      "1 7 13 "
     ]
    }
   ],
   "source": [
    "def safe(y, x):\n",
    "    if 0 <= y < M and 0 <= x < N:\n",
    "        return True\n",
    "    else:\n",
    "        return False\n",
    "\n",
    "\n",
    "def BFS(area, i, j, visited):\n",
    "    if area[i][j]:\n",
    "        visited[i][j] = True\n",
    "        return [0, visited]\n",
    "\n",
    "    block = []\n",
    "    queue = [[i, j]]\n",
    "\n",
    "    while queue:\n",
    "        [i, j] = queue.pop()\n",
    "        block.append([i, j])\n",
    "        visited[i][j] = True\n",
    "\n",
    "        dy = [-1, 1, 0, 0]\n",
    "        dx = [0, 0, -1, 1]\n",
    "\n",
    "        if area[i][j] == 0:\n",
    "            for k in range(4):\n",
    "                Y = dy[k] + i\n",
    "                X = dx[k] + j\n",
    "                if safe(Y, X) and area[Y][X] == 0 and [Y, X] not in block and [Y, X] not in queue:\n",
    "                    queue.append([Y, X])\n",
    "\n",
    "    return [len(block), visited]\n",
    "\n",
    "\n",
    "M, N, K = list(map(int, input().split()))\n",
    "area = [[0] * N for _ in range(M)]\n",
    "for k in range(K):\n",
    "    x1, y1, x2, y2 = list(map(int, input().split()))\n",
    "    for x in range(x1, x2):\n",
    "        for y in range(y1, y2):\n",
    "            area[y][x] = 1\n",
    "\n",
    "result = []\n",
    "visited = [[False] * N for _ in range(M)]\n",
    "for y in range(0, M):\n",
    "    for x in range(0, N):\n",
    "        if not visited[y][x]:\n",
    "            [size, visited] = BFS(area, y, x, visited)\n",
    "            if size != 0:\n",
    "                result.append(size)\n",
    "\n",
    "print(len(result))\n",
    "for r in sorted(result):\n",
    "    print(r, end=' ')"
   ]
  },
  {
   "cell_type": "code",
   "execution_count": null,
   "metadata": {},
   "outputs": [],
   "source": [
    "# 7562. 나이트의 이동"
   ]
  },
  {
   "cell_type": "code",
   "execution_count": 4,
   "metadata": {
    "scrolled": true
   },
   "outputs": [
    {
     "name": "stdout",
     "output_type": "stream",
     "text": [
      "3\n",
      "8\n",
      "0 0\n",
      "7 0\n",
      "5\n",
      "100\n",
      "0 0\n",
      "30 50\n",
      "28\n",
      "10\n",
      "1 1\n",
      "1 1\n",
      "0\n"
     ]
    }
   ],
   "source": [
    "import collections\n",
    "\n",
    "def knight():\n",
    "    dy = [1, 1, 2, 2, -1, -1, -2, -2]\n",
    "    dx = [2, -2, 1, -1, 2, -2, 1, -1]\n",
    "    while queue:\n",
    "        y, x = queue.popleft()\n",
    "        move = visited[y][x]\n",
    "        if x == dst_x and y == dst_y:\n",
    "            return move\n",
    "        for d in range(8):\n",
    "            Y = y + dy[d]\n",
    "            X = x + dx[d]\n",
    "            if 0 <= Y < I and 0 <= X < I and (visited[Y][X] == -1 or visited[Y][X] > move + 1):\n",
    "                visited[Y][X] = move + 1\n",
    "                queue.append([Y, X])\n",
    "\n",
    "\n",
    "T = int(input())\n",
    "for tc in range(T):\n",
    "    I = int(input())\n",
    "    visited = [[-1] * I for _ in range(I)]\n",
    "    srt_y, srt_x = map(int, input().split())\n",
    "    dst_y, dst_x = map(int, input().split())\n",
    "    visited[srt_y][srt_x] = 0\n",
    "    queue = collections.deque()\n",
    "    queue.append([srt_y, srt_x])\n",
    "    print(knight())"
   ]
  },
  {
   "cell_type": "code",
   "execution_count": null,
   "metadata": {},
   "outputs": [],
   "source": [
    "# 10026. 적록색약"
   ]
  },
  {
   "cell_type": "code",
   "execution_count": 2,
   "metadata": {},
   "outputs": [
    {
     "name": "stdout",
     "output_type": "stream",
     "text": [
      "5\n",
      "RRRBB\n",
      "GGBBB\n",
      "BBBRR\n",
      "BBRRR\n",
      "RRRRR\n",
      "4 3\n"
     ]
    }
   ],
   "source": [
    "import collections\n",
    "\n",
    "def norm():\n",
    "    cnt = 1\n",
    "    while queue_n:\n",
    "        y, x = queue_n.popleft()\n",
    "        clr = picture[y][x]\n",
    "        for d in range(4):\n",
    "            Y = y + dy[d]\n",
    "            X = x + dx[d]\n",
    "            if 0 <= X < N and 0 <= Y < N and not visited_n[Y][X] and picture[Y][X] == clr:\n",
    "                visited_n[Y][X] = True\n",
    "                queue_n.append([Y, X])\n",
    "                cnt += 1\n",
    "    return cnt\n",
    "\n",
    "def weak():\n",
    "    cnt = 1\n",
    "    while queue_w:\n",
    "        y, x = queue_w.popleft()\n",
    "        clr = picture[y][x]\n",
    "        for d in range(4):\n",
    "            Y = y + dy[d]\n",
    "            X = x + dx[d]\n",
    "            if 0 <= X < N and 0 <= Y < N and not visited_w[Y][X]:\n",
    "                if picture[Y][X] == 'B' and clr == 'B':\n",
    "                    visited_w[Y][X] = True\n",
    "                    queue_w.append([Y, X])\n",
    "                    cnt += 1\n",
    "                elif (picture[Y][X] == 'R' or picture[Y][X] == 'G') and (clr == 'R' or clr == 'G'):\n",
    "                    visited_w[Y][X] = True\n",
    "                    queue_w.append([Y, X])\n",
    "                    cnt += 1\n",
    "    return cnt\n",
    "\n",
    "\n",
    "N = int(input())\n",
    "picture = [list(map(str, input())) for _ in range(N)]\n",
    "visited_n = [[False] * N for _ in range(N)]\n",
    "visited_w = [[False] * N for _ in range(N)]\n",
    "queue_n = collections.deque()\n",
    "queue_w = collections.deque()\n",
    "result_n = []\n",
    "result_w = []\n",
    "dy = [-1, 1, 0, 0]\n",
    "dx = [0, 0, -1, 1]\n",
    "\n",
    "for i in range(N):\n",
    "    for j in range(N):\n",
    "        if not visited_n[i][j]:\n",
    "            visited_n[i][j] = True\n",
    "            queue_n.append([i, j])\n",
    "            result_n.append(norm())\n",
    "        if not visited_w[i][j]:\n",
    "            visited_w[i][j] = True\n",
    "            queue_w.append([i, j])\n",
    "            result_w.append(weak())\n",
    "\n",
    "print(len(result_n), len(result_w))"
   ]
  },
  {
   "cell_type": "code",
   "execution_count": null,
   "metadata": {},
   "outputs": [],
   "source": [
    "# 2206. 벽 부수고 이동하기"
   ]
  },
  {
   "cell_type": "code",
   "execution_count": 1,
   "metadata": {},
   "outputs": [
    {
     "name": "stdout",
     "output_type": "stream",
     "text": [
      "6 4\n",
      "0100\n",
      "1110\n",
      "1000\n",
      "0000\n",
      "0111\n",
      "0000\n",
      "15\n"
     ]
    }
   ],
   "source": [
    "from collections import deque\n",
    "\n",
    "def safe(x, y):\n",
    "    if 0 <= x < M and 0 <= y < N:\n",
    "        return True\n",
    "    return False\n",
    "\n",
    "def bfs(Q, visited):\n",
    "    while Q:\n",
    "        y, x = Q.popleft()\n",
    "        for d in range(4):\n",
    "            Y = y + dy[d]\n",
    "            X = x + dx[d]\n",
    "            if safe(X, Y) and maps[Y][X] == 0 and visited[Y][X] == -1:\n",
    "                visited[Y][X] = visited[y][x] + 1\n",
    "                Q.append([Y, X])\n",
    "    return visited\n",
    "\n",
    "N, M = map(int, input().split())\n",
    "maps = []\n",
    "wall = []\n",
    "for n in range(N):\n",
    "    temp = list(map(int, input()))\n",
    "    for m in range(M):\n",
    "        if temp[m] == 1:\n",
    "            wall.append([n, m])\n",
    "    maps.append(temp)\n",
    "\n",
    "visited_s = [[-1] * M for _ in range(N)]\n",
    "visited_e = [[-1] * M for _ in range(N)]\n",
    "Q_s = deque()\n",
    "Q_s.append([0, 0])\n",
    "visited_s[0][0] = 1\n",
    "Q_e = deque()\n",
    "Q_e.append([N-1, M-1])\n",
    "visited_e[N-1][M-1] = 1\n",
    "dy = [-1, 1, 0, 0]\n",
    "dx = [0, 0, -1, 1]\n",
    "visited_s = bfs(Q_s, visited_s)\n",
    "visited_e = bfs(Q_e, visited_e)\n",
    "\n",
    "result = []\n",
    "if visited_e[0][0] != -1:\n",
    "    result.append(visited_e[0][0])\n",
    "\n",
    "for y, x in wall:\n",
    "    if safe(x, y-1) and safe(x, y+1):\n",
    "        if visited_s[y-1][x] != -1 and visited_e[y+1][x] != -1:\n",
    "            result.append(visited_s[y-1][x] + visited_e[y+1][x] + 1)\n",
    "        if visited_e[y-1][x] != -1 and visited_s[y+1][x] != -1:\n",
    "            result.append(visited_e[y-1][x] + visited_s[y+1][x] + 1)\n",
    "    if safe(x-1, y) and safe(x+1, y):\n",
    "        if visited_s[y][x-1] != -1 and visited_e[y][x+1] != -1:\n",
    "            result.append(visited_s[y][x-1] + visited_e[y][x+1] + 1)\n",
    "        if visited_e[y][x-1] != -1 and visited_s[y][x+1] != -1:\n",
    "            result.append(visited_e[y][x-1] + visited_s[y][x+1] + 1)\n",
    "\n",
    "if result:\n",
    "    print(min(result))\n",
    "else:\n",
    "    print(-1)"
   ]
  },
  {
   "cell_type": "code",
   "execution_count": null,
   "metadata": {},
   "outputs": [],
   "source": [
    "# 2468. 안전 영역"
   ]
  },
  {
   "cell_type": "code",
   "execution_count": 1,
   "metadata": {},
   "outputs": [
    {
     "name": "stdout",
     "output_type": "stream",
     "text": [
      "5\n",
      "6 8 2 6 2\n",
      "3 2 3 4 6\n",
      "6 7 3 3 2\n",
      "7 2 5 3 6\n",
      "8 9 5 2 7\n",
      "5\n"
     ]
    }
   ],
   "source": [
    "import collections\n",
    "\n",
    "def safe():\n",
    "    cnt = 1\n",
    "    dy = [-1, 1, 0, 0]\n",
    "    dx = [0, 0, -1, 1]\n",
    "    while queue:\n",
    "        ny, nx = queue.popleft()\n",
    "        for d in range(4):\n",
    "            Y = ny + dy[d]\n",
    "            X = nx + dx[d]\n",
    "            if 0 <= Y < N and 0 <= X < N and not visited[Y][X] and maps[Y][X] != -1:\n",
    "                visited[Y][X] = True\n",
    "                queue.append([Y, X])\n",
    "                cnt += 1\n",
    "    return cnt\n",
    "\n",
    "N = int(input())\n",
    "maps = [list(map(int, input().split())) for _ in range(N)]\n",
    "ans = 1\n",
    "for i in range(1, 101):\n",
    "    flag = False\n",
    "    for y in range(N):\n",
    "        for x in range(N):\n",
    "            if maps[y][x] == i:\n",
    "                maps[y][x] = -1\n",
    "                flag = True\n",
    "    if flag:\n",
    "        queue = collections.deque()\n",
    "        visited = [[False] * N for _ in range(N)]\n",
    "        result = []\n",
    "        for x in range(N):\n",
    "            for y in range(N):\n",
    "                if not visited[y][x]:\n",
    "                    visited[y][x] = True\n",
    "                    if maps[y][x] != -1:\n",
    "                        queue.append([y, x])\n",
    "                        result.append(safe())\n",
    "        if len(result) >= ans:\n",
    "            ans = len(result)\n",
    "print(ans)"
   ]
  },
  {
   "cell_type": "code",
   "execution_count": null,
   "metadata": {},
   "outputs": [],
   "source": [
    "# 2573. 빙산"
   ]
  },
  {
   "cell_type": "code",
   "execution_count": 1,
   "metadata": {},
   "outputs": [
    {
     "name": "stdout",
     "output_type": "stream",
     "text": [
      "5 7\n",
      "0 0 0 0 0 0 0\n",
      "0 2 4 5 3 0 0\n",
      "0 3 0 2 5 2 0\n",
      "0 7 6 2 4 0 0\n",
      "0 0 0 0 0 0 0\n",
      "2\n"
     ]
    }
   ],
   "source": [
    "import collections\n",
    "\n",
    "def warming(iceberg):\n",
    "    temp = [[0] * M for _ in range(N)]\n",
    "    for n in range(N):\n",
    "        for m in range(M):\n",
    "            if iceberg[n][m] != 0:\n",
    "                cnt = 0\n",
    "                for d in range(4):\n",
    "                    Y = dy[d] + n\n",
    "                    X = dx[d] + m\n",
    "                    if 0 <= X < M and 0 <= Y < N and iceberg[Y][X] == 0:\n",
    "                        cnt += 1\n",
    "                temp[n][m] = max(iceberg[n][m] - cnt, 0)\n",
    "    return temp\n",
    "\n",
    "\n",
    "def dfs(iceberg, visited):\n",
    "    while Q:\n",
    "        y, x = Q.popleft()\n",
    "        for d in range(4):\n",
    "            Y = dy[d] + y\n",
    "            X = dx[d] + x\n",
    "            if 0 <= X < M and 0 <= Y < N and iceberg[Y][X] != 0 and not visited[Y][X]:\n",
    "                visited[Y][X] = True\n",
    "                Q.append([Y, X])\n",
    "\n",
    "\n",
    "\n",
    "\n",
    "N, M = map(int, input().split())\n",
    "iceberg = [list(map(int, input().split())) for _ in range(N)]\n",
    "\n",
    "dy = [-1, 1, 0, 0]\n",
    "dx = [0, 0, -1, 1]\n",
    "Q = collections.deque()\n",
    "year = 0\n",
    "while True:\n",
    "    visited = [[False] * M for _ in range(N)]\n",
    "    end = 0\n",
    "    iceberg = warming(iceberg)\n",
    "    year += 1\n",
    "    sep = 0\n",
    "    for n in range(N):\n",
    "        for m in range(M):\n",
    "            if iceberg[n][m] == 0:\n",
    "                end += 1\n",
    "            if iceberg[n][m] != 0 and not visited[n][m]:\n",
    "                visited[n][m] = True\n",
    "                Q.append([n, m])\n",
    "                dfs(iceberg, visited)\n",
    "                sep += 1\n",
    "            if sep > 1: break\n",
    "        if sep > 1: break\n",
    "    if sep > 1:\n",
    "        print(year)\n",
    "        break\n",
    "    if end == N * M:\n",
    "        print(0)\n",
    "        break"
   ]
  },
  {
   "cell_type": "code",
   "execution_count": null,
   "metadata": {},
   "outputs": [],
   "source": [
    "# 5427. 불"
   ]
  },
  {
   "cell_type": "code",
   "execution_count": null,
   "metadata": {},
   "outputs": [],
   "source": []
  },
  {
   "cell_type": "code",
   "execution_count": null,
   "metadata": {},
   "outputs": [],
   "source": [
    "# 2146. 다리 만들기"
   ]
  },
  {
   "cell_type": "code",
   "execution_count": null,
   "metadata": {},
   "outputs": [],
   "source": []
  },
  {
   "cell_type": "code",
   "execution_count": null,
   "metadata": {},
   "outputs": [],
   "source": [
    "# 5014. 스타트링크"
   ]
  },
  {
   "cell_type": "code",
   "execution_count": 2,
   "metadata": {},
   "outputs": [
    {
     "name": "stdout",
     "output_type": "stream",
     "text": [
      "10 1 10 2 1\n",
      "6\n"
     ]
    }
   ],
   "source": [
    "import collections\n",
    "\n",
    "def elevator():\n",
    "    while Q:\n",
    "        now = Q.popleft()\n",
    "        vn = visited[now]\n",
    "        if now == G - 1:\n",
    "            return vn - 1\n",
    "        visit(now + U, vn)\n",
    "        visit(now - D, vn)\n",
    "    return 'use the stairs'\n",
    "\n",
    "def visit(next, vn):\n",
    "    if 0 <= next < F and (visited[next] == 0 or vn + 1 < visited[next]):\n",
    "        visited[next] = vn + 1\n",
    "        Q.append(next)\n",
    "\n",
    "F, S, G, U, D = list(map(int, input().split()))\n",
    "visited = [0] * F\n",
    "visited[S - 1] = 1\n",
    "Q = collections.deque()\n",
    "Q.append(S - 1)\n",
    "print(elevator())"
   ]
  },
  {
   "cell_type": "code",
   "execution_count": null,
   "metadata": {},
   "outputs": [],
   "source": [
    "# 6593. 상범 빌딩"
   ]
  },
  {
   "cell_type": "code",
   "execution_count": null,
   "metadata": {},
   "outputs": [],
   "source": []
  },
  {
   "cell_type": "code",
   "execution_count": null,
   "metadata": {},
   "outputs": [],
   "source": [
    "# 13549. 숨바꼭질 3"
   ]
  },
  {
   "cell_type": "code",
   "execution_count": 3,
   "metadata": {},
   "outputs": [
    {
     "name": "stdout",
     "output_type": "stream",
     "text": [
      "5 17\n",
      "2\n"
     ]
    }
   ],
   "source": [
    "import collections\n",
    "\n",
    "def seek():\n",
    "    while Q:\n",
    "        now = Q.popleft()\n",
    "        vn = visited[now]\n",
    "        if now == K:\n",
    "            return vn\n",
    "        next(now - 1, vn)\n",
    "        next(now + 1, vn)\n",
    "        next(now * 2, vn - 1)\n",
    "\n",
    "def next(nex, vn):\n",
    "    if 0 <= nex < 100001 and (visited[nex] == 0 or visited[nex] > vn + 1):\n",
    "        visited[nex] = vn + 1\n",
    "        Q.append(nex)\n",
    "\n",
    "N, K = map(int, input().split())\n",
    "visited = [0] * 100001\n",
    "visited[N] = 1\n",
    "Q = collections.deque()\n",
    "Q.append(N)\n",
    "print(seek() - 1)"
   ]
  },
  {
   "cell_type": "code",
   "execution_count": null,
   "metadata": {},
   "outputs": [],
   "source": [
    "# 13913. 숨바꼭질 4"
   ]
  },
  {
   "cell_type": "code",
   "execution_count": null,
   "metadata": {},
   "outputs": [],
   "source": []
  },
  {
   "cell_type": "code",
   "execution_count": null,
   "metadata": {},
   "outputs": [],
   "source": [
    "# 1600. 말이 되고픈 원숭이"
   ]
  },
  {
   "cell_type": "code",
   "execution_count": 1,
   "metadata": {},
   "outputs": [
    {
     "name": "stdout",
     "output_type": "stream",
     "text": [
      "1\n",
      "4 4\n",
      "0 0 0 0\n",
      "1 0 0 0\n",
      "0 0 1 0\n",
      "0 1 0 0\n",
      "4\n"
     ]
    }
   ],
   "source": [
    "from _collections import deque\n",
    "\n",
    "\n",
    "def bfs():\n",
    "    Q.append([0, 0, 0])\n",
    "    visited[0][0][0] = 1\n",
    "    while Q:\n",
    "        x, y, z = Q.popleft()\n",
    "        if x == H - 1 and y == W - 1:\n",
    "            print(visited[x][y][z] - 1)\n",
    "            return\n",
    "        if z < K:\n",
    "            knight(x, y, z)\n",
    "            monkey(x, y, z)\n",
    "        elif z == K:\n",
    "            monkey(x, y, z)\n",
    "    print(-1)\n",
    "\n",
    "\n",
    "def knight(x, y, z):\n",
    "    for d in range(4, 12):\n",
    "        nx = x + dx[d]\n",
    "        ny = y + dy[d]\n",
    "        if 0 <= nx < H and 0 <= ny < W:\n",
    "            if maps[nx][ny] == 0 and visited[nx][ny][z + 1] == 0:\n",
    "                visited[nx][ny][z + 1] = visited[x][y][z] + 1\n",
    "                Q.append([nx, ny, z + 1])\n",
    "\n",
    "\n",
    "def monkey(x, y, z):\n",
    "    for d in range(4):\n",
    "        nx = x + dx[d]\n",
    "        ny = y + dy[d]\n",
    "        if 0 <= nx < H and 0 <= ny < W:\n",
    "            if maps[nx][ny] == 0 and visited[nx][ny][z] == 0:\n",
    "                visited[nx][ny][z] = visited[x][y][z] + 1\n",
    "                Q.append([nx, ny, z])\n",
    "\n",
    "\n",
    "K = int(input())\n",
    "W, H = map(int, input().split())\n",
    "maps = [list(map(int, input().split())) for _ in range(H)]\n",
    "visited = [[[0] * (K + 1) for w in range(W)] for h in range(H)]\n",
    "Q = deque()\n",
    "dy = [1, -1, 0, 0, 1, 1, -1, -1, 2, 2, -2, -2]\n",
    "dx = [0, 0, -1, 1, 2, -2, 2, -2, 1, -1, 1, -1]\n",
    "bfs()"
   ]
  },
  {
   "cell_type": "code",
   "execution_count": null,
   "metadata": {},
   "outputs": [],
   "source": [
    "# 3197. 백조의 호수"
   ]
  },
  {
   "cell_type": "code",
   "execution_count": 1,
   "metadata": {},
   "outputs": [
    {
     "name": "stdout",
     "output_type": "stream",
     "text": [
      "8 17\n",
      "...XXXXXX..XX.XXX\n",
      "....XXXXXXXXX.XXX\n",
      "...XXXXXXXXXXXX..\n",
      "..XXXXX.LXXXXXX..\n",
      ".XXXXXX..XXXXXX..\n",
      "XXXXXXX...XXXX...\n",
      "..XXXXX...XXX....\n",
      "....XXXXX.XXXL...\n",
      "2\n"
     ]
    }
   ],
   "source": [
    "from collections import deque\n",
    "\n",
    "def bfs():\n",
    "    while sQ:\n",
    "        y, x = sQ.popleft()\n",
    "        if y == ey and x == ex:\n",
    "            return 1\n",
    "        for d in range(4):\n",
    "            Y = y + dy[d]\n",
    "            X = x + dx[d]\n",
    "            if 0 <= X < C and 0 <= Y < R:\n",
    "                if not visited[Y][X]:\n",
    "                    if lake[Y][X] == '.':\n",
    "                        sQ.append([Y, X])\n",
    "                    else:\n",
    "                        sQ_temp.append([Y, X])\n",
    "                    visited[Y][X] = 1\n",
    "    return 0\n",
    "\n",
    "def melt():\n",
    "    while wQ:\n",
    "        y, x = wQ.popleft()\n",
    "        if lake[y][x] == 'X':\n",
    "            lake[y][x] = '.'\n",
    "        for i in range(4):\n",
    "            Y = y + dy[i]\n",
    "            X = x + dx[i]\n",
    "            if 0 <= X < C and 0 <= Y < R:\n",
    "                if not water[Y][X]:\n",
    "                    if lake[Y][X] == 'X':\n",
    "                        wQ_temp.append([Y, X])\n",
    "                    else:\n",
    "                        wQ.append([Y, X])\n",
    "                    water[Y][X] = True\n",
    "\n",
    "R, C = map(int, input().split())\n",
    "visited = [[False] * C for _ in range(R)]\n",
    "water = [[False] * C for _ in range(R)]\n",
    "lake, swan = [], []\n",
    "sQ, sQ_temp, wQ, wQ_temp = deque(), deque(), deque(), deque()\n",
    "\n",
    "for r in range(R):\n",
    "    row = list(map(str, input()))\n",
    "    lake.append(row)\n",
    "    for c in range(C):\n",
    "        if lake[r][c] == 'L':\n",
    "            lake[r][c] = '.'\n",
    "            swan.append([r, c])\n",
    "            wQ.append([r, c])\n",
    "        elif lake[r][c] == '.':\n",
    "            water[r][c] = 1\n",
    "            wQ.append([r, c])\n",
    "\n",
    "[sy, sx], [ey, ex] = swan.pop(), swan.pop()\n",
    "sQ.append([sy, sx])\n",
    "visited[sy][sx] = True\n",
    "cnt = 0\n",
    "\n",
    "dy = [-1, 1, 0, 0]\n",
    "dx = [0, 0, -1, 1]\n",
    "\n",
    "while True:\n",
    "    melt()\n",
    "    if bfs():\n",
    "        print(cnt)\n",
    "        break\n",
    "    sQ, wQ = sQ_temp, wQ_temp\n",
    "    sQ_temp, wQ_temp = deque(), deque()\n",
    "    cnt += 1"
   ]
  },
  {
   "cell_type": "code",
   "execution_count": null,
   "metadata": {},
   "outputs": [],
   "source": [
    "# 11967. 불켜기"
   ]
  },
  {
   "cell_type": "code",
   "execution_count": null,
   "metadata": {},
   "outputs": [],
   "source": []
  },
  {
   "cell_type": "code",
   "execution_count": null,
   "metadata": {},
   "outputs": [],
   "source": [
    "# 17071. 숨바꼭질 5"
   ]
  },
  {
   "cell_type": "code",
   "execution_count": null,
   "metadata": {},
   "outputs": [],
   "source": []
  }
 ],
 "metadata": {
  "kernelspec": {
   "display_name": "Python 3",
   "language": "python",
   "name": "python3"
  },
  "language_info": {
   "codemirror_mode": {
    "name": "ipython",
    "version": 3
   },
   "file_extension": ".py",
   "mimetype": "text/x-python",
   "name": "python",
   "nbconvert_exporter": "python",
   "pygments_lexer": "ipython3",
   "version": "3.7.4"
  }
 },
 "nbformat": 4,
 "nbformat_minor": 4
}
